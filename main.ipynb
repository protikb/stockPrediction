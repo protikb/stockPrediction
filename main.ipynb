{
 "cells": [
  {
   "cell_type": "code",
   "execution_count": 1,
   "metadata": {},
   "outputs": [
    {
     "name": "stderr",
     "output_type": "stream",
     "text": [
      "Using TensorFlow backend.\n"
     ]
    }
   ],
   "source": [
    "import numpy\n",
    "import matplotlib.pyplot as plt_train\n",
    "import matplotlib.pyplot as plt_test\n",
    "from pandas import read_csv\n",
    "import math\n",
    "import keras\n",
    "from keras.models import Sequential\n",
    "from keras.layers import Dense\n",
    "from keras.layers import Dropout\n",
    "from keras.layers import LSTM\n",
    "from sklearn.preprocessing import MinMaxScaler\n",
    "from sklearn.metrics import mean_squared_error\n",
    "# convert an array of values into a dataset matrix"
   ]
  },
  {
   "cell_type": "code",
   "execution_count": 9,
   "metadata": {},
   "outputs": [
    {
     "name": "stdout",
     "output_type": "stream",
     "text": [
      "(1948,)\n"
     ]
    }
   ],
   "source": [
    "def create_dataset(dataset, look_back=1):\n",
    "\tdataX, dataY = [], []\n",
    "\tfor i in range(len(dataset)-look_back-1):\n",
    "\t\ta = dataset[i:(i+look_back), 0]\n",
    "\t\tdataX.append(a)\n",
    "\t\tdataY.append(dataset[i + look_back, 0])\n",
    "\treturn numpy.array(dataX), numpy.array(dataY)\n",
    "# fix random seed for reproducibility\n",
    "numpy.random.seed(7)\n",
    "# load the dataset\n",
    "#dataframe = read_csv('international-airline-passengers.csv', usecols=[1], engine='python', skipfooter=3)\n",
    "#09_05_2017_10KRows_modified\n",
    "dataframe = read_csv('dataset/ABIL .csv')\n",
    "dataframe = dataframe['4. close']\n",
    "dataset = dataframe.values\n",
    "dataset = dataset.astype('float32')\n",
    "print(dataset.shape)"
   ]
  },
  {
   "cell_type": "code",
   "execution_count": 3,
   "metadata": {},
   "outputs": [
    {
     "name": "stdout",
     "output_type": "stream",
     "text": [
      "(197, 100)\n"
     ]
    }
   ],
   "source": [
    "dataframe = read_csv('inp.csv')\n",
    "dataset = dataframe.values\n",
    "dataset = dataset.astype('float32')\n",
    "#dataset = numpy.reshape(dataset,(1948,1))\n",
    "print(dataset.shape)"
   ]
  },
  {
   "cell_type": "code",
   "execution_count": 4,
   "metadata": {},
   "outputs": [
    {
     "name": "stdout",
     "output_type": "stream",
     "text": [
      "(137, 100)\n",
      "(60, 100)\n",
      "(137, 1, 100)\n",
      "(60, 1, 100)\n"
     ]
    }
   ],
   "source": [
    "scaler = MinMaxScaler(feature_range=(0, 1))\n",
    "dataset = scaler.fit_transform(dataset)\n",
    "# split into train and test sets\n",
    "train_size = int(len(dataset) * 0.7)\n",
    "test_size = len(dataset) - train_size\n",
    "#print(dataset.shape)\n",
    "train, test = dataset[0:train_size,:], dataset[train_size:len(dataset),:]\n",
    "print(train.shape)\n",
    "print(test.shape)\n",
    "train = numpy.reshape(train, (train.shape[0], 1, train.shape[1]))\n",
    "test = numpy.reshape(test, (test.shape[0], 1, test.shape[1]))\n",
    "print(train.shape)\n",
    "print(test.shape)"
   ]
  },
  {
   "cell_type": "code",
   "execution_count": 5,
   "metadata": {},
   "outputs": [
    {
     "name": "stdout",
     "output_type": "stream",
     "text": [
      "(197, 20)\n"
     ]
    }
   ],
   "source": [
    "dataframeY = read_csv('mod_out.csv')\n",
    "datasetY = dataframeY.values\n",
    "datasetY = datasetY.astype('float32')\n",
    "datasetY = scaler.fit_transform(datasetY)\n",
    "print(datasetY.shape)"
   ]
  },
  {
   "cell_type": "code",
   "execution_count": 6,
   "metadata": {},
   "outputs": [
    {
     "name": "stdout",
     "output_type": "stream",
     "text": [
      "(137, 20)\n",
      "(137, 20)\n"
     ]
    }
   ],
   "source": [
    "trainY, testY = datasetY[0:train_size,:], datasetY[train_size:len(datasetY),:]\n",
    "print(trainY.shape)\n",
    "#trainY = numpy.reshape(trainY, (trainY.shape[0], 1, trainY.shape[1]))\n",
    "print(trainY.shape)\n",
    "#testY = numpy.reshape(testY, (testY.shape[0], 1, testY.shape[1]))"
   ]
  },
  {
   "cell_type": "code",
   "execution_count": 7,
   "metadata": {},
   "outputs": [
    {
     "name": "stdout",
     "output_type": "stream",
     "text": [
      "Train on 95 samples, validate on 42 samples\n",
      "Epoch 1/10\n",
      " - 2s - loss: 0.5012 - val_loss: 0.2274\n",
      "Epoch 2/10\n",
      " - 0s - loss: 0.2733 - val_loss: 0.2570\n",
      "Epoch 3/10\n",
      " - 0s - loss: 0.2916 - val_loss: 0.2243\n",
      "Epoch 4/10\n",
      " - 0s - loss: 0.2526 - val_loss: 0.1786\n",
      "Epoch 5/10\n",
      " - 0s - loss: 0.2059 - val_loss: 0.1881\n",
      "Epoch 6/10\n",
      " - 0s - loss: 0.2163 - val_loss: 0.1996\n",
      "Epoch 7/10\n",
      " - 0s - loss: 0.2268 - val_loss: 0.1895\n",
      "Epoch 8/10\n",
      " - 0s - loss: 0.2124 - val_loss: 0.1756\n",
      "Epoch 9/10\n",
      " - 0s - loss: 0.1922 - val_loss: 0.1742\n",
      "Epoch 10/10\n",
      " - 0s - loss: 0.1841 - val_loss: 0.1815\n"
     ]
    },
    {
     "data": {
      "text/plain": [
       "<keras.callbacks.History at 0x7f9ccdca0dd8>"
      ]
     },
     "execution_count": 7,
     "metadata": {},
     "output_type": "execute_result"
    }
   ],
   "source": [
    "model = Sequential()\n",
    "model.add(LSTM(1000, input_shape=(1, 100)))\n",
    "keras.layers.Dropout(0.2, noise_shape=None, seed=None)\n",
    "model.add(Dense(500))\n",
    "keras.layers.Dropout(0.2, noise_shape=None, seed=None)\n",
    "model.add(Dense(50))\n",
    "keras.layers.Dropout(0.2, noise_shape=None, seed=None)\n",
    "model.add(Dense(20))\n",
    "model.compile(loss='mean_squared_error', optimizer='adam')\n",
    "model.fit(train, trainY, epochs=10, batch_size=200, verbose=2, validation_split=0.3)"
   ]
  },
  {
   "cell_type": "code",
   "execution_count": 8,
   "metadata": {
    "collapsed": true
   },
   "outputs": [],
   "source": [
    "trainPredict = model.predict(train)\n",
    "model1= Sequential()\n",
    "model1=model"
   ]
  },
  {
   "cell_type": "code",
   "execution_count": 9,
   "metadata": {},
   "outputs": [
    {
     "name": "stdout",
     "output_type": "stream",
     "text": [
      "[[ 0.84271699  0.90298975  0.83142996 ...,  0.85626781  0.87327999\n",
      "   0.4137896 ]\n",
      " [ 0.83240241  0.84697229  0.78450572 ...,  0.86356139  0.86580843\n",
      "   0.49747348]\n",
      " [ 0.95561552  1.04731882  0.91037792 ...,  0.91140997  0.93894613\n",
      "   0.54315931]\n",
      " ..., \n",
      " [ 0.77720767  0.76319194  0.71713954 ...,  0.75622672  0.80308753\n",
      "   0.5402149 ]\n",
      " [ 0.46689433  0.56333822  0.57976031 ...,  0.59328294  0.62359476\n",
      "   0.27932319]\n",
      " [ 0.75679332  0.74869913  0.69328964 ...,  0.76670128  0.74442184\n",
      "   0.37185049]]\n",
      "[[ 0.52743417  0.58802348  0.48189333 ...,  0.67375499  0.6787492\n",
      "   0.22643609]\n",
      " [ 0.47683281  0.45377427  0.33245897 ...,  0.50543833  0.44327933\n",
      "   0.37677419]\n",
      " [ 0.49631622  0.45547539  0.45733565 ...,  0.47114328  0.5119195\n",
      "   0.36692214]\n",
      " ..., \n",
      " [ 0.77621275  0.77597767  0.7417475  ...,  0.71110457  0.74572331\n",
      "   0.41751021]\n",
      " [ 0.5778504   0.64459497  0.63596565 ...,  0.62841636  0.72505593\n",
      "   0.34916645]\n",
      " [ 0.32109484  0.39305511  0.32433242 ...,  0.47829804  0.51434135\n",
      "   0.2370296 ]]\n"
     ]
    }
   ],
   "source": [
    "#keras.layers.Dropout(0.2, noise_shape=None, seed=None)\n",
    "#model.add(Dense(50))\n",
    "model=model1\n",
    "model.add(Dropout(0.2, noise_shape=None, seed=None))\n",
    "#model.add(Dense(20))\n",
    "testPredict = model.predict(test)\n",
    "print(trainPredict)\n",
    "print(testPredict)\n",
    "# invert predictions\n",
    "trainPredict = scaler.inverse_transform(trainPredict)\n",
    "trainY = scaler.inverse_transform(trainY)\n",
    "testPredict = scaler.inverse_transform(testPredict)\n",
    "testY = scaler.inverse_transform(testY)\n",
    "# calculate root mean squared error\n",
    "#trainScore = math.sqrt(mean_squared_error(trainY[0], trainPredict[:,0]))"
   ]
  },
  {
   "cell_type": "code",
   "execution_count": 10,
   "metadata": {},
   "outputs": [
    {
     "name": "stdout",
     "output_type": "stream",
     "text": [
      "(20,)\n",
      "Train Score: 34.91 RMSE\n",
      "Test Score: 57.03 RMSE\n"
     ]
    }
   ],
   "source": [
    "print(testPredict[1].shape)\n",
    "trainScore = math.sqrt(mean_squared_error(trainY[0], trainPredict[0]))\n",
    "print('Train Score: %.2f RMSE' % (trainScore))\n",
    "testScore = math.sqrt(mean_squared_error(testY[1], testPredict[1]))\n",
    "print('Test Score: %.2f RMSE' % (testScore))"
   ]
  },
  {
   "cell_type": "code",
   "execution_count": 11,
   "metadata": {},
   "outputs": [
    {
     "data": {
      "image/png": "[encoded data removed]",
      "text/plain": [
       "<matplotlib.figure.Figure at 0x7f9ccf0109e8>"
      ]
     },
     "metadata": {},
     "output_type": "display_data"
    }
   ],
   "source": [
    "plt_test.plot(testY[2])\n",
    "plt_test.show()"
   ]
  },
  {
   "cell_type": "code",
   "execution_count": 12,
   "metadata": {},
   "outputs": [
    {
     "data": {
      "image/png": "[encoded data removed]",
      "text/plain": [
       "<matplotlib.figure.Figure at 0x7f9cc1ccecf8>"
      ]
     },
     "metadata": {},
     "output_type": "display_data"
    },
    {
     "name": "stdout",
     "output_type": "stream",
     "text": [
      "[  91.43117523   86.28890228   86.52313232   80.33608246   72.62326813\n",
      "   81.63638306   89.47903442   89.6155777    98.87466431   77.79772949\n",
      "   81.57211304   76.8300705   107.52159119   88.436203    103.20435333\n",
      "   91.36345673  104.82751465   88.26694489   93.39090729   75.14550018]\n"
     ]
    }
   ],
   "source": [
    "plt_test.plot(testPredict[2])\n",
    "plt_test.show()\n",
    "print(testPredict[2])"
   ]
  },
  {
   "cell_type": "code",
   "execution_count": null,
   "metadata": {
    "collapsed": true
   },
   "outputs": [],
   "source": []
  }
 ],
 "metadata": {
  "kernelspec": {
   "display_name": "Python 3",
   "language": "python",
   "name": "python3"
  },
  "language_info": {
   "codemirror_mode": {
    "name": "ipython",
    "version": 3
   },
   "file_extension": ".py",
   "mimetype": "text/x-python",
   "name": "python",
   "nbconvert_exporter": "python",
   "pygments_lexer": "ipython3",
   "version": "3.6.3"
  }
 },
 "nbformat": 4,
 "nbformat_minor": 2
}
