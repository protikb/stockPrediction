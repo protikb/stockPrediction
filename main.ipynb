{
 "cells": [
  {
   "cell_type": "code",
   "execution_count": 1,
   "metadata": {},
   "outputs": [
    {
     "name": "stderr",
     "output_type": "stream",
     "text": [
      "Using TensorFlow backend.\n"
     ]
    }
   ],
   "source": [
    "import numpy\n",
    "import matplotlib.pyplot as plt_train\n",
    "import matplotlib.pyplot as plt_test\n",
    "from pandas import read_csv\n",
    "import math\n",
    "import keras\n",
    "from keras.models import Sequential\n",
    "from keras.layers import Dense\n",
    "from keras.layers import Dropout\n",
    "from keras.layers import LSTM\n",
    "from sklearn.preprocessing import MinMaxScaler\n",
    "from sklearn.metrics import mean_squared_error\n",
    "# convert an array of values into a dataset matrix"
   ]
  },
  {
   "cell_type": "code",
   "execution_count": null,
   "metadata": {},
   "outputs": [],
   "source": [
    "def create_dataset(dataset, look_back=1):\n",
    "\tdataX, dataY = [], []\n",
    "\tfor i in range(len(dataset)-look_back-1):\n",
    "\t\ta = dataset[i:(i+look_back), 0]\n",
    "\t\tdataX.append(a)\n",
    "\t\tdataY.append(dataset[i + look_back, 0])\n",
    "\treturn numpy.array(dataX), numpy.array(dataY)\n",
    "# fix random seed for reproducibility\n",
    "numpy.random.seed(7)\n",
    "# load the dataset\n",
    "#dataframe = read_csv('international-airline-passengers.csv', usecols=[1], engine='python', skipfooter=3)\n",
    "#09_05_2017_10KRows_modified\n",
    "dataframe = read_csv('dataset/ABIL .csv')\n",
    "dataframe = dataframe['4. close']\n",
    "dataset = dataframe.values\n",
    "dataset = dataset.astype('float32')\n",
    "print(dataset.shape)"
   ]
  },
  {
   "cell_type": "code",
   "execution_count": 7,
   "metadata": {},
   "outputs": [
    {
     "name": "stdout",
     "output_type": "stream",
     "text": [
      "(1151, 100)\n"
     ]
    }
   ],
   "source": [
    "dataframe = read_csv('input2.csv')\n",
    "dataset = dataframe.values\n",
    "dataset = dataset.astype('float32')\n",
    "#dataset = numpy.reshape(dataset,(1948,1))\n",
    "print(dataset.shape)"
   ]
  },
  {
   "cell_type": "code",
   "execution_count": 8,
   "metadata": {},
   "outputs": [
    {
     "name": "stdout",
     "output_type": "stream",
     "text": [
      "(805, 100)\n",
      "(346, 100)\n",
      "(805, 1, 100)\n",
      "(346, 1, 100)\n"
     ]
    }
   ],
   "source": [
    "scaler = MinMaxScaler(feature_range=(0, 1))\n",
    "dataset = scaler.fit_transform(dataset)\n",
    "# split into train and test sets\n",
    "train_size = int(len(dataset) * 0.7)\n",
    "test_size = len(dataset) - train_size\n",
    "#print(dataset.shape)\n",
    "train, test = dataset[0:train_size,:], dataset[train_size:len(dataset),:]\n",
    "print(train.shape)\n",
    "print(test.shape)\n",
    "train = numpy.reshape(train, (train.shape[0], 1, train.shape[1]))\n",
    "test = numpy.reshape(test, (test.shape[0], 1, test.shape[1]))\n",
    "print(train.shape)\n",
    "print(test.shape)"
   ]
  },
  {
   "cell_type": "code",
   "execution_count": 9,
   "metadata": {},
   "outputs": [
    {
     "name": "stdout",
     "output_type": "stream",
     "text": [
      "(1151, 20)\n"
     ]
    }
   ],
   "source": [
    "dataframeY = read_csv('output2.csv')\n",
    "datasetY = dataframeY.values\n",
    "datasetY = datasetY.astype('float32')\n",
    "datasetY = scaler.fit_transform(datasetY)\n",
    "print(datasetY.shape)"
   ]
  },
  {
   "cell_type": "code",
   "execution_count": 10,
   "metadata": {},
   "outputs": [
    {
     "name": "stdout",
     "output_type": "stream",
     "text": [
      "(805, 20)\n",
      "(805, 20)\n"
     ]
    }
   ],
   "source": [
    "trainY, testY = datasetY[0:train_size,:], datasetY[train_size:len(datasetY),:]\n",
    "print(trainY.shape)\n",
    "#trainY = numpy.reshape(trainY, (trainY.shape[0], 1, trainY.shape[1]))\n",
    "print(trainY.shape)\n",
    "#testY = numpy.reshape(testY, (testY.shape[0], 1, testY.shape[1]))"
   ]
  },
  {
   "cell_type": "code",
   "execution_count": null,
   "metadata": {},
   "outputs": [
    {
     "name": "stdout",
     "output_type": "stream",
     "text": [
      "Train on 563 samples, validate on 242 samples\n",
      "Epoch 1/50\n",
      " - 3s - loss: 0.1377 - val_loss: 0.0495\n",
      "Epoch 2/50\n",
      " - 0s - loss: 0.0411 - val_loss: 0.0427\n",
      "Epoch 3/50\n",
      " - 0s - loss: 0.0357 - val_loss: 0.0267\n",
      "Epoch 4/50\n",
      " - 0s - loss: 0.0244 - val_loss: 0.0310\n",
      "Epoch 5/50\n",
      " - 0s - loss: 0.0244 - val_loss: 0.0236\n",
      "Epoch 6/50\n",
      " - 0s - loss: 0.0209 - val_loss: 0.0233\n",
      "Epoch 7/50\n",
      " - 0s - loss: 0.0196 - val_loss: 0.0221\n",
      "Epoch 8/50\n",
      " - 0s - loss: 0.0188 - val_loss: 0.0219\n",
      "Epoch 9/50\n",
      " - 0s - loss: 0.0177 - val_loss: 0.0203\n",
      "Epoch 10/50\n",
      " - 0s - loss: 0.0171 - val_loss: 0.0206\n",
      "Epoch 11/50\n",
      " - 0s - loss: 0.0171 - val_loss: 0.0199\n",
      "Epoch 12/50\n",
      " - 0s - loss: 0.0164 - val_loss: 0.0196\n",
      "Epoch 13/50\n",
      " - 0s - loss: 0.0160 - val_loss: 0.0194\n",
      "Epoch 14/50\n",
      " - 0s - loss: 0.0160 - val_loss: 0.0193\n",
      "Epoch 15/50\n"
     ]
    }
   ],
   "source": [
    "model = Sequential()\n",
    "model.add(LSTM(1000, input_shape=(1, 100)))\n",
    "keras.layers.Dropout(0.2, noise_shape=None, seed=None)\n",
    "model.add(Dense(500))\n",
    "keras.layers.Dropout(0.2, noise_shape=None, seed=None)\n",
    "model.add(Dense(50))\n",
    "keras.layers.Dropout(0.2, noise_shape=None, seed=None)\n",
    "model.add(Dense(20))\n",
    "model.compile(loss='mean_squared_error', optimizer='adam')\n",
    "model.fit(train, trainY, epochs=50, batch_size=200, verbose=2, validation_split=0.3)"
   ]
  },
  {
   "cell_type": "code",
   "execution_count": null,
   "metadata": {
    "collapsed": true
   },
   "outputs": [],
   "source": [
    "trainPredict = model.predict(train)\n",
    "model1= Sequential()\n",
    "model1=model"
   ]
  },
  {
   "cell_type": "code",
   "execution_count": null,
   "metadata": {},
   "outputs": [],
   "source": [
    "#keras.layers.Dropout(0.2, noise_shape=None, seed=None)\n",
    "#model.add(Dense(50))\n",
    "model=model1\n",
    "model.add(Dropout(0.2, noise_shape=None, seed=None))\n",
    "#model.add(Dense(20))\n",
    "testPredict = model.predict(test)\n",
    "print(trainPredict)\n",
    "print(testPredict)\n",
    "# invert predictions\n",
    "trainPredict = scaler.inverse_transform(trainPredict)\n",
    "trainY = scaler.inverse_transform(trainY)\n",
    "testPredict = scaler.inverse_transform(testPredict)\n",
    "testY = scaler.inverse_transform(testY)\n",
    "# calculate root mean squared error\n",
    "#trainScore = math.sqrt(mean_squared_error(trainY[0], trainPredict[:,0]))"
   ]
  },
  {
   "cell_type": "code",
   "execution_count": null,
   "metadata": {},
   "outputs": [],
   "source": [
    "print(testPredict[1].shape)\n",
    "trainScore = math.sqrt(mean_squared_error(trainY[0], trainPredict[0]))\n",
    "print('Train Score: %.2f RMSE' % (trainScore))\n",
    "testScore = math.sqrt(mean_squared_error(testY[1], testPredict[1]))\n",
    "print('Test Score: %.2f RMSE' % (testScore))"
   ]
  },
  {
   "cell_type": "code",
   "execution_count": null,
   "metadata": {},
   "outputs": [],
   "source": [
    "plt_test.plot(testY[2])\n",
    "plt_test.show()"
   ]
  },
  {
   "cell_type": "code",
   "execution_count": null,
   "metadata": {},
   "outputs": [],
   "source": [
    "plt_test.plot(testPredict[2])\n",
    "plt_test.show()\n",
    "print(testPredict[2])"
   ]
  },
  {
   "cell_type": "code",
   "execution_count": null,
   "metadata": {
    "collapsed": true
   },
   "outputs": [],
   "source": []
  }
 ],
 "metadata": {
  "kernelspec": {
   "display_name": "Python 3",
   "language": "python",
   "name": "python3"
  },
  "language_info": {
   "codemirror_mode": {
    "name": "ipython",
    "version": 3
   },
   "file_extension": ".py",
   "mimetype": "text/x-python",
   "name": "python",
   "nbconvert_exporter": "python",
   "pygments_lexer": "ipython3",
   "version": "3.6.3"
  }
 },
 "nbformat": 4,
 "nbformat_minor": 2
}
