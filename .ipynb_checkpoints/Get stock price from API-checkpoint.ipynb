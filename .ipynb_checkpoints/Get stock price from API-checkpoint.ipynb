{
 "cells": [
  {
   "cell_type": "code",
   "execution_count": 20,
   "metadata": {
    "scrolled": true
   },
   "outputs": [
    {
     "name": "stdout",
     "output_type": "stream",
     "text": [
      "['NDLS', 'CHK', 'AKS', 'ZNGA', 'GRPN', 'FIT', 'AFMD ', 'ATAI ', 'STAF ', 'VVPR ', 'EGLT ', 'ASFI ', 'CVM ', 'IGC ', 'STG ', 'SSC ', 'RGLS ', 'GLG ', 'MTSL ', 'ABIL ', 'AWX ', 'BDR ', 'MITK ', 'YVR ', 'NNVC ', 'KOOL', 'NAKD ', 'OBLN ', 'LENS ', 'IPCI', 'TTPH', 'HLTH', 'LTRX ', 'CHRA', 'YECO', 'AXSM', 'BILI', 'CRON ', 'DRIO ', 'GERN ', 'TKAT ', 'MARA ', 'RGSE ', 'SHLD ', 'ATLC ', 'GRNQ ', 'MDXG ', 'MTNB ', 'NWY ', 'JMU ', 'XSPL ', 'CTXR ', 'REPL ', 'XSPA ', 'PTIE ', 'TRPX ', 'IFMK', 'OHGI ', 'RIGL', 'NBEV ', 'SGBX', 'HMNY ', 'SNOA ', 'PXLW ', 'LIQT ', 'EVFM ', 'BNGOU ', 'REED ', 'HAIR ', 'IMV', 'BLIN ', 'GNPX ', 'SPI', 'GLBS ', 'SITO ', 'BPMX ', 'KOSS ', 'ALN ', 'HTGM']\n"
     ]
    }
   ],
   "source": [
    "#from numpy import loadtxt\n",
    "#lines = loadtxt(\"symbolList.txt\", delimiter=\"\\n\", unpack=False)\n",
    "\n",
    "Symbol = [line.rstrip('\\n') for line in open('symbolList.txt')]\n",
    "#for symbol in Symbol:\n",
    "#    path='dataset/'+symbol+'.csv'\n",
    "#    path=str(path)\n",
    "#    print(path)\n",
    "#symbol='QCOM'\n",
    "#path='dataset/'+symbol+'.csv'\n",
    "#data.to_csv(path)\n",
    "print(Symbol)"
   ]
  },
  {
   "cell_type": "code",
   "execution_count": null,
   "metadata": {
    "collapsed": true
   },
   "outputs": [],
   "source": [
    "Symbol=['CVM ', 'IGC ', 'STG ', 'SSC ']"
   ]
  },
  {
   "cell_type": "code",
   "execution_count": 22,
   "metadata": {},
   "outputs": [
    {
     "data": {
      "image/png": "[encoded data removed]",
      "text/plain": [
       "<matplotlib.figure.Figure at 0x7f917e813748>"
      ]
     },
     "metadata": {},
     "output_type": "display_data"
    }
   ],
   "source": [
    "#getStockPrice(company_symbol):\n",
    "from alpha_vantage.timeseries import TimeSeries\n",
    "from pprint import pprint\n",
    "import matplotlib.pyplot as plt\n",
    "ts = TimeSeries(key='X2AH0JEV2I3Y3STQ', output_format='pandas')\n",
    "#data, meta_data = ts.get_intraday(symbol='CINEVISTA',interval='1min', outputsize='full')\n",
    "def dumpdata(symbol):\n",
    "    data, meta_data = ts.get_intraday(symbol='QCOM',interval='1min', outputsize='full')\n",
    "    pprint(data.head(2))\n",
    "    print(\"dumping data of \"+symbol)\n",
    "    path='dataset/'+symbol+'.csv'\n",
    "    path=str(path)\n",
    "    data.to_csv(path)\n",
    "data['4. close'].plot()\n",
    "plt.title('Intraday Times Series for the MSFT stock (1 min)')\n",
    "plt.show()"
   ]
  },
  {
   "cell_type": "code",
   "execution_count": null,
   "metadata": {},
   "outputs": [],
   "source": [
    "for symbol in Symbol:\n",
    "    dumpdata(symbol)\n",
    "    "
   ]
  },
  {
   "cell_type": "code",
   "execution_count": null,
   "metadata": {
    "collapsed": true
   },
   "outputs": [],
   "source": [
    "print(5)"
   ]
  },
  {
   "cell_type": "code",
   "execution_count": 16,
   "metadata": {
    "scrolled": true
   },
   "outputs": [
    {
     "data": {
      "text/plain": [
       "date\n",
       "2018-08-22 09:30:00    66.2900\n",
       "2018-08-22 09:31:00    66.3500\n",
       "2018-08-22 09:32:00    66.2900\n",
       "2018-08-22 09:33:00    66.3600\n",
       "2018-08-22 09:34:00    66.4100\n",
       "2018-08-22 09:35:00    66.5250\n",
       "2018-08-22 09:36:00    66.5050\n",
       "2018-08-22 09:37:00    66.5550\n",
       "2018-08-22 09:38:00    66.6600\n",
       "2018-08-22 09:39:00    66.5500\n",
       "2018-08-22 09:40:00    66.6200\n",
       "2018-08-22 09:41:00    66.5950\n",
       "2018-08-22 09:42:00    66.6000\n",
       "2018-08-22 09:43:00    66.6000\n",
       "2018-08-22 09:44:00    66.5600\n",
       "2018-08-22 09:45:00    66.5300\n",
       "2018-08-22 09:46:00    66.4900\n",
       "2018-08-22 09:47:00    66.4924\n",
       "2018-08-22 09:48:00    66.5700\n",
       "2018-08-22 09:49:00    66.6000\n",
       "2018-08-22 09:50:00    66.5200\n",
       "2018-08-22 09:51:00    66.5550\n",
       "2018-08-22 09:52:00    66.5000\n",
       "2018-08-22 09:53:00    66.4300\n",
       "2018-08-22 09:54:00    66.4550\n",
       "2018-08-22 09:55:00    66.4100\n",
       "2018-08-22 09:56:00    66.4799\n",
       "2018-08-22 09:57:00    66.5000\n",
       "2018-08-22 09:58:00    66.4740\n",
       "2018-08-22 09:59:00    66.4500\n",
       "                        ...   \n",
       "2018-08-27 15:30:00    67.2700\n",
       "2018-08-27 15:31:00    67.2550\n",
       "2018-08-27 15:32:00    67.2800\n",
       "2018-08-27 15:33:00    67.2750\n",
       "2018-08-27 15:34:00    67.2550\n",
       "2018-08-27 15:35:00    67.2800\n",
       "2018-08-27 15:36:00    67.2700\n",
       "2018-08-27 15:37:00    67.2850\n",
       "2018-08-27 15:38:00    67.2900\n",
       "2018-08-27 15:39:00    67.2750\n",
       "2018-08-27 15:40:00    67.2650\n",
       "2018-08-27 15:41:00    67.2600\n",
       "2018-08-27 15:42:00    67.3000\n",
       "2018-08-27 15:43:00    67.3100\n",
       "2018-08-27 15:44:00    67.2900\n",
       "2018-08-27 15:45:00    67.3050\n",
       "2018-08-27 15:46:00    67.2800\n",
       "2018-08-27 15:47:00    67.2850\n",
       "2018-08-27 15:48:00    67.2800\n",
       "2018-08-27 15:49:00    67.3100\n",
       "2018-08-27 15:50:00    67.2800\n",
       "2018-08-27 15:51:00    67.2700\n",
       "2018-08-27 15:52:00    67.2900\n",
       "2018-08-27 15:53:00    67.2700\n",
       "2018-08-27 15:54:00    67.2650\n",
       "2018-08-27 15:55:00    67.2550\n",
       "2018-08-27 15:56:00    67.2550\n",
       "2018-08-27 15:57:00    67.2650\n",
       "2018-08-27 15:58:00    67.2800\n",
       "2018-08-27 15:59:00    67.3400\n",
       "Name: 4. close, Length: 1557, dtype: float64"
      ]
     },
     "execution_count": 16,
     "metadata": {},
     "output_type": "execute_result"
    }
   ],
   "source": [
    "data['4. close']"
   ]
  },
  {
   "cell_type": "code",
   "execution_count": null,
   "metadata": {
    "collapsed": true
   },
   "outputs": [],
   "source": [
    "#install alpha_vantage and pprint by running the following\n",
    "#pip install alpha_vantage\n",
    "#pip install pprint"
   ]
  },
  {
   "cell_type": "code",
   "execution_count": null,
   "metadata": {
    "collapsed": true
   },
   "outputs": [],
   "source": [
    "meta_data"
   ]
  },
  {
   "cell_type": "code",
   "execution_count": 3,
   "metadata": {
    "collapsed": true
   },
   "outputs": [],
   "source": [
    "import numpy as np\n",
    "data1=np.array(data)"
   ]
  },
  {
   "cell_type": "code",
   "execution_count": 7,
   "metadata": {},
   "outputs": [
    {
     "name": "stdout",
     "output_type": "stream",
     "text": [
      "114871.0\n"
     ]
    }
   ],
   "source": []
  },
  {
   "cell_type": "code",
   "execution_count": null,
   "metadata": {
    "collapsed": true
   },
   "outputs": [],
   "source": [
    "np.shape(data1)"
   ]
  },
  {
   "cell_type": "code",
   "execution_count": 3,
   "metadata": {},
   "outputs": [
    {
     "name": "stdout",
     "output_type": "stream",
     "text": [
      "                     1. open  2. high  3. low  4. close\n",
      "date                                                   \n",
      "2018-07-30 11:44:00   46.505   46.505  46.505    46.505\n",
      "2018-07-30 11:45:00   46.540   46.550  46.540    46.545\n"
     ]
    }
   ],
   "source": [
    "from alpha_vantage.timeseries import TimeSeries\n",
    "from pprint import pprint\n",
    "import matplotlib.pyplot as plt\n",
    "ts = TimeSeries(key='X2AH0JEV2I3Y3STQ', output_format='pandas')\n",
    "#data, meta_data = ts.get_intraday(symbol='CINEVISTA',interval='1min', outputsize='full')\n",
    "data, meta_data = ts.get_intraday(symbol='AFL',interval='1min', outputsize='full')\n",
    "pprint(data.head(2))"
   ]
  },
  {
   "cell_type": "code",
   "execution_count": null,
   "metadata": {
    "collapsed": true
   },
   "outputs": [],
   "source": [
    "data[1999]"
   ]
  },
  {
   "cell_type": "code",
   "execution_count": null,
   "metadata": {
    "collapsed": true
   },
   "outputs": [],
   "source": []
  }
 ],
 "metadata": {
  "kernelspec": {
   "display_name": "Python 3",
   "language": "python",
   "name": "python3"
  },
  "language_info": {
   "codemirror_mode": {
    "name": "ipython",
    "version": 3
   },
   "file_extension": ".py",
   "mimetype": "text/x-python",
   "name": "python",
   "nbconvert_exporter": "python",
   "pygments_lexer": "ipython3",
   "version": "3.6.3"
  }
 },
 "nbformat": 4,
 "nbformat_minor": 2
}
