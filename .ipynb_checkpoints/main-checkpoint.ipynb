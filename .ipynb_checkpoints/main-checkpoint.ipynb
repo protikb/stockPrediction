{
 "cells": [
  {
   "cell_type": "code",
   "execution_count": 37,
   "metadata": {},
   "outputs": [],
   "source": [
    "import numpy\n",
    "import matplotlib.pyplot as plt_train\n",
    "import matplotlib.pyplot as plt_test\n",
    "from pandas import read_csv\n",
    "import math\n",
    "import keras\n",
    "from keras.models import Sequential\n",
    "from keras.layers import Dense\n",
    "from keras.layers import Dropout\n",
    "from keras.layers import LSTM\n",
    "from sklearn.preprocessing import MinMaxScaler\n",
    "from sklearn.metrics import mean_squared_error\n",
    "import os\n",
    "from keras.models import model_from_json\n",
    "# convert an array of values into a dataset matrix"
   ]
  },
  {
   "cell_type": "code",
   "execution_count": null,
   "metadata": {},
   "outputs": [],
   "source": [
    "'''\n",
    "def create_dataset(dataset, look_back=1):\n",
    "\tdataX, dataY = [], []\n",
    "\tfor i in range(len(dataset)-look_back-1):\n",
    "\t\ta = dataset[i:(i+look_back), 0]\n",
    "\t\tdataX.append(a)\n",
    "\t\tdataY.append(dataset[i + look_back, 0])\n",
    "\treturn numpy.array(dataX), numpy.array(dataY)\n",
    "# fix random seed for reproducibility\n",
    "numpy.random.seed(7)\n",
    "# load the dataset\n",
    "#dataframe = read_csv('international-airline-passengers.csv', usecols=[1], engine='python', skipfooter=3)\n",
    "#09_05_2017_10KRows_modified\n",
    "dataframe = read_csv('dataset/ABIL .csv')\n",
    "dataframe = dataframe['4. close']\n",
    "dataset = dataframe.values\n",
    "dataset = dataset.astype('float32')\n",
    "print(dataset.shape)\n",
    "'''"
   ]
  },
  {
   "cell_type": "code",
   "execution_count": 38,
   "metadata": {},
   "outputs": [
    {
     "name": "stdout",
     "output_type": "stream",
     "text": [
      "(1151, 100)\n"
     ]
    }
   ],
   "source": [
    "dataframe = read_csv('inputMod.csv')\n",
    "dataset = dataframe.values\n",
    "dataset = dataset.astype('float32')\n",
    "#dataset = numpy.reshape(dataset,(1948,1))\n",
    "print(dataset.shape)"
   ]
  },
  {
   "cell_type": "code",
   "execution_count": 39,
   "metadata": {},
   "outputs": [
    {
     "name": "stdout",
     "output_type": "stream",
     "text": [
      "(805, 100)\n",
      "(346, 100)\n",
      "(805, 1, 100)\n",
      "(346, 1, 100)\n"
     ]
    }
   ],
   "source": [
    "scaler = MinMaxScaler(feature_range=(0, 1))\n",
    "dataset = scaler.fit_transform(dataset)\n",
    "# split into train and test sets\n",
    "train_size = int(len(dataset) * 0.7)\n",
    "test_size = len(dataset) - train_size\n",
    "#print(dataset.shape)\n",
    "train, test = dataset[0:train_size,:], dataset[train_size:len(dataset),:]\n",
    "print(train.shape)\n",
    "print(test.shape)\n",
    "train = numpy.reshape(train, (train.shape[0], 1, train.shape[1]))\n",
    "test = numpy.reshape(test, (test.shape[0], 1, test.shape[1]))\n",
    "print(train.shape)\n",
    "print(test.shape)"
   ]
  },
  {
   "cell_type": "code",
   "execution_count": 40,
   "metadata": {},
   "outputs": [
    {
     "name": "stdout",
     "output_type": "stream",
     "text": [
      "(1151, 20)\n"
     ]
    }
   ],
   "source": [
    "dataframeY = read_csv('outputMod.csv')\n",
    "datasetY = dataframeY.values\n",
    "datasetY = datasetY.astype('float32')\n",
    "datasetY = scaler.fit_transform(datasetY)\n",
    "print(datasetY.shape)"
   ]
  },
  {
   "cell_type": "code",
   "execution_count": 41,
   "metadata": {},
   "outputs": [
    {
     "name": "stdout",
     "output_type": "stream",
     "text": [
      "(805, 20)\n",
      "(805, 20)\n"
     ]
    }
   ],
   "source": [
    "trainY, testY = datasetY[0:train_size,:], datasetY[train_size:len(datasetY),:]\n",
    "print(trainY.shape)\n",
    "#trainY = numpy.reshape(trainY, (trainY.shape[0], 1, trainY.shape[1]))\n",
    "print(trainY.shape)\n",
    "#testY = numpy.reshape(testY, (testY.shape[0], 1, testY.shape[1]))"
   ]
  },
  {
   "cell_type": "code",
   "execution_count": null,
   "metadata": {},
   "outputs": [],
   "source": [
    "model = Sequential()\n",
    "model.add(LSTM(1000, input_shape=(1, 100)))\n",
    "keras.layers.Dropout(0.2, noise_shape=None, seed=None)\n",
    "model.add(Dense(500))\n",
    "keras.layers.Dropout(0.2, noise_shape=None, seed=None)\n",
    "model.add(Dense(50))\n",
    "keras.layers.Dropout(0.2, noise_shape=None, seed=None)\n",
    "model.add(Dense(20))\n",
    "model.compile(loss='mean_squared_error', optimizer='adam')\n",
    "model.fit(train, trainY, epochs=50, batch_size=200, verbose=2, validation_split=0.3)"
   ]
  },
  {
   "cell_type": "code",
   "execution_count": null,
   "metadata": {},
   "outputs": [],
   "source": [
    "model_json = model.to_json()\n",
    "with open(\"model.json\", \"w\") as json_file:\n",
    "    json_file.write(model_json)\n",
    "# serialize weights to HDF5\n",
    "model.save_weights(\"trainedModel.h5\")\n",
    "print(\"Saved model to disk\")"
   ]
  },
  {
   "cell_type": "code",
   "execution_count": null,
   "metadata": {
    "collapsed": true
   },
   "outputs": [],
   "source": [
    "#Loading the Trained Model while Testing"
   ]
  },
  {
   "cell_type": "code",
   "execution_count": 50,
   "metadata": {},
   "outputs": [],
   "source": [
    "json_file = open('model.json', 'r')\n",
    "loaded_model_json = json_file.read()\n",
    "json_file.close()\n",
    "loaded_model = model_from_json(loaded_model_json)"
   ]
  },
  {
   "cell_type": "code",
   "execution_count": 51,
   "metadata": {
    "collapsed": true
   },
   "outputs": [],
   "source": [
    "trainPredict = model.predict(train)\n",
    "#model1= Sequential()\n",
    "#model1=model"
   ]
  },
  {
   "cell_type": "code",
   "execution_count": 52,
   "metadata": {},
   "outputs": [
    {
     "name": "stdout",
     "output_type": "stream",
     "text": [
      "[[-0.04311036 -0.06606604  0.03034396 ...,  0.07142697  0.00863229\n",
      "  -0.00214108]\n",
      " [-0.04311036 -0.06606604  0.03034396 ...,  0.07142697  0.00863229\n",
      "  -0.00214108]\n",
      " [-0.04311036 -0.06606604  0.03034396 ...,  0.07142697  0.00863229\n",
      "  -0.00214108]\n",
      " ..., \n",
      " [-0.05447967 -0.07128131  0.00912022 ...,  0.06552687 -0.00084365\n",
      "   0.00256447]\n",
      " [-0.06298642 -0.08151039  0.02177726 ...,  0.0581346   0.02055753\n",
      "  -0.01975215]\n",
      " [-0.03683548 -0.06902821  0.02269791 ...,  0.07332353  0.02571364\n",
      "  -0.05137812]]\n",
      "[[ 0.061212   -0.07033107  0.05824479 ...,  0.0647928  -0.04420052\n",
      "  -0.0361108 ]\n",
      " [ 0.04797842 -0.08183564  0.06433694 ...,  0.05297425 -0.06604923\n",
      "  -0.04219413]\n",
      " [ 0.07502958 -0.076911    0.05172968 ...,  0.06837805 -0.06822903\n",
      "  -0.03482306]\n",
      " ..., \n",
      " [ 0.03182463 -0.06693667  0.05319421 ...,  0.08923252 -0.07181689\n",
      "  -0.02172438]\n",
      " [ 0.05730419 -0.08976871  0.07037175 ...,  0.03288382 -0.03838566\n",
      "   0.0052933 ]\n",
      " [ 0.07210218 -0.08877312  0.03128766 ...,  0.06749596 -0.07302871\n",
      "  -0.03412159]]\n"
     ]
    }
   ],
   "source": [
    "#keras.layers.Dropout(0.2, noise_shape=None, seed=None)\n",
    "#model.add(Dense(50))\n",
    "model=loaded_model\n",
    "model.add(Dropout(0.2, noise_shape=None, seed=None))\n",
    "#model.add(Dense(20))\n",
    "testPredict = model.predict(test)\n",
    "print(trainPredict)\n",
    "print(testPredict)\n",
    "# invert predictions\n",
    "# calculate root mean squared error\n",
    "#trainScore = math.sqrt(mean_squared_error(trainY[0], trainPredict[:,0]))"
   ]
  },
  {
   "cell_type": "code",
   "execution_count": 53,
   "metadata": {
    "collapsed": true
   },
   "outputs": [],
   "source": [
    "temptrainPredict = scaler.inverse_transform(trainPredict)\n",
    "temptrainY = scaler.inverse_transform(trainY)\n",
    "temptestPredict = scaler.inverse_transform(testPredict)\n",
    "temptestY = scaler.inverse_transform(testY)"
   ]
  },
  {
   "cell_type": "code",
   "execution_count": 54,
   "metadata": {},
   "outputs": [
    {
     "name": "stdout",
     "output_type": "stream",
     "text": [
      "Train Score: 0.61 RMSE\n",
      "Test Score: 0.60 RMSE\n"
     ]
    }
   ],
   "source": [
    "#print(testPredict[1].shape)\n",
    "trainScore = math.sqrt(mean_squared_error(temptrainY[0], temptrainPredict[0]))\n",
    "print('Train Score: %.2f RMSE' % (trainScore))\n",
    "testScore = math.sqrt(mean_squared_error(temptestY[1], temptestPredict[1]))\n",
    "print('Test Score: %.2f RMSE' % (testScore))"
   ]
  },
  {
   "cell_type": "code",
   "execution_count": 55,
   "metadata": {},
   "outputs": [
    {
     "data": {
      "image/png": "[encoded data removed]",
      "text/plain": [
       "<matplotlib.figure.Figure at 0x7fd6f4177ba8>"
      ]
     },
     "metadata": {},
     "output_type": "display_data"
    }
   ],
   "source": [
    "plt_test.plot(temptestY[40])\n",
    "plt_test.show()"
   ]
  },
  {
   "cell_type": "code",
   "execution_count": 56,
   "metadata": {},
   "outputs": [
    {
     "data": {
      "image/png": "[encoded data removed]",
      "text/plain": [
       "<matplotlib.figure.Figure at 0x7fd6d76aaf28>"
      ]
     },
     "metadata": {},
     "output_type": "display_data"
    },
    {
     "name": "stdout",
     "output_type": "stream",
     "text": [
      "[ 71.45792389  71.24185944  71.40887451  71.28964996  71.48278046\n",
      "  71.24234009  71.11781311  71.51178741  71.46722412  71.45431519\n",
      "  71.26002502  71.5134964   71.54589081  71.40979767  71.50971985\n",
      "  71.45703125  71.44608307  71.66881561  71.58540344  71.63626862]\n"
     ]
    }
   ],
   "source": [
    "plt_test.plot(temptestPredict[40])\n",
    "plt_test.show()\n",
    "print(temptestPredict[40])"
   ]
  },
  {
   "cell_type": "code",
   "execution_count": 49,
   "metadata": {},
   "outputs": [
    {
     "data": {
      "image/png": "[encoded data removed]",
      "text/plain": [
       "<matplotlib.figure.Figure at 0x7fd6f55b7518>"
      ]
     },
     "metadata": {},
     "output_type": "display_data"
    },
    {
     "name": "stdout",
     "output_type": "stream",
     "text": [
      "[ 71.35127258  71.25294495  71.33388519  71.26464081  71.42479706\n",
      "  71.28057861  71.06459808  71.43813324  71.4245224   71.46884918\n",
      "  71.28922272  71.51667786  71.48773956  71.41955566  71.47589874\n",
      "  71.46239471  71.57026672  71.66558838  71.62857056  71.66655731]\n"
     ]
    }
   ],
   "source": [
    "plt_test.plot(temptestPredict[40])\n",
    "plt_test.show()\n",
    "print(temptestPredict[40])"
   ]
  },
  {
   "cell_type": "code",
   "execution_count": null,
   "metadata": {
    "collapsed": true
   },
   "outputs": [],
   "source": []
  }
 ],
 "metadata": {
  "kernelspec": {
   "display_name": "Python 3",
   "language": "python",
   "name": "python3"
  },
  "language_info": {
   "codemirror_mode": {
    "name": "ipython",
    "version": 3
   },
   "file_extension": ".py",
   "mimetype": "text/x-python",
   "name": "python",
   "nbconvert_exporter": "python",
   "pygments_lexer": "ipython3",
   "version": "3.6.3"
  }
 },
 "nbformat": 4,
 "nbformat_minor": 2
}
