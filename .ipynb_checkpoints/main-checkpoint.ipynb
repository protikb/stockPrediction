{
 "cells": [
  {
   "cell_type": "code",
   "execution_count": 1,
   "metadata": {},
   "outputs": [
    {
     "name": "stderr",
     "output_type": "stream",
     "text": [
      "/anaconda3/lib/python3.6/site-packages/h5py/__init__.py:36: FutureWarning: Conversion of the second argument of issubdtype from `float` to `np.floating` is deprecated. In future, it will be treated as `np.float64 == np.dtype(float).type`.\n",
      "  from ._conv import register_converters as _register_converters\n",
      "Using TensorFlow backend.\n"
     ]
    }
   ],
   "source": [
    "import numpy\n",
    "import matplotlib.pyplot as plt_train\n",
    "import matplotlib.pyplot as plt_test\n",
    "from pandas import read_csv\n",
    "import math\n",
    "import keras\n",
    "from keras.models import Sequential\n",
    "from keras.layers import Dense\n",
    "from keras.layers import Dropout\n",
    "from keras.layers import LSTM\n",
    "from sklearn.preprocessing import MinMaxScaler\n",
    "from sklearn.metrics import mean_squared_error\n",
    "import os\n",
    "from keras.models import model_from_json\n",
    "# convert an array of values into a dataset matrix"
   ]
  },
  {
   "cell_type": "code",
   "execution_count": 2,
   "metadata": {},
   "outputs": [
    {
     "data": {
      "text/plain": [
       "\"\\ndef create_dataset(dataset, look_back=1):\\n\\tdataX, dataY = [], []\\n\\tfor i in range(len(dataset)-look_back-1):\\n\\t\\ta = dataset[i:(i+look_back), 0]\\n\\t\\tdataX.append(a)\\n\\t\\tdataY.append(dataset[i + look_back, 0])\\n\\treturn numpy.array(dataX), numpy.array(dataY)\\n# fix random seed for reproducibility\\nnumpy.random.seed(7)\\n# load the dataset\\n#dataframe = read_csv('international-airline-passengers.csv', usecols=[1], engine='python', skipfooter=3)\\n#09_05_2017_10KRows_modified\\ndataframe = read_csv('dataset/ABIL .csv')\\ndataframe = dataframe['4. close']\\ndataset = dataframe.values\\ndataset = dataset.astype('float32')\\nprint(dataset.shape)\\n\""
      ]
     },
     "execution_count": 2,
     "metadata": {},
     "output_type": "execute_result"
    }
   ],
   "source": [
    "'''\n",
    "def create_dataset(dataset, look_back=1):\n",
    "\tdataX, dataY = [], []\n",
    "\tfor i in range(len(dataset)-look_back-1):\n",
    "\t\ta = dataset[i:(i+look_back), 0]\n",
    "\t\tdataX.append(a)\n",
    "\t\tdataY.append(dataset[i + look_back, 0])\n",
    "\treturn numpy.array(dataX), numpy.array(dataY)\n",
    "# fix random seed for reproducibility\n",
    "numpy.random.seed(7)\n",
    "# load the dataset\n",
    "#dataframe = read_csv('international-airline-passengers.csv', usecols=[1], engine='python', skipfooter=3)\n",
    "#09_05_2017_10KRows_modified\n",
    "dataframe = read_csv('dataset/ABIL .csv')\n",
    "dataframe = dataframe['4. close']\n",
    "dataset = dataframe.values\n",
    "dataset = dataset.astype('float32')\n",
    "print(dataset.shape)\n",
    "'''"
   ]
  },
  {
   "cell_type": "code",
   "execution_count": 3,
   "metadata": {},
   "outputs": [
    {
     "name": "stdout",
     "output_type": "stream",
     "text": [
      "(1151, 100)\n"
     ]
    }
   ],
   "source": [
    "dataframe = read_csv('inputMod.csv')\n",
    "dataset = dataframe.values\n",
    "dataset = dataset.astype('float32')\n",
    "#dataset = numpy.reshape(dataset,(1948,1))\n",
    "print(dataset.shape)"
   ]
  },
  {
   "cell_type": "code",
   "execution_count": 4,
   "metadata": {},
   "outputs": [
    {
     "name": "stdout",
     "output_type": "stream",
     "text": [
      "(805, 100)\n",
      "(346, 100)\n",
      "(805, 1, 100)\n",
      "(346, 1, 100)\n"
     ]
    }
   ],
   "source": [
    "scaler = MinMaxScaler(feature_range=(0, 1))\n",
    "dataset = scaler.fit_transform(dataset)\n",
    "# split into train and test sets\n",
    "train_size = int(len(dataset) * 0.7)\n",
    "test_size = len(dataset) - train_size\n",
    "#print(dataset.shape)\n",
    "train, test = dataset[0:train_size,:], dataset[train_size:len(dataset),:]\n",
    "print(train.shape)\n",
    "print(test.shape)\n",
    "train = numpy.reshape(train, (train.shape[0], 1, train.shape[1]))\n",
    "test = numpy.reshape(test, (test.shape[0], 1, test.shape[1]))\n",
    "print(train.shape)\n",
    "print(test.shape)"
   ]
  },
  {
   "cell_type": "code",
   "execution_count": 16,
   "metadata": {},
   "outputs": [
    {
     "name": "stdout",
     "output_type": "stream",
     "text": [
      "(1151, 20)\n"
     ]
    }
   ],
   "source": [
    "dataframeY = read_csv('outputMod.csv')\n",
    "datasetY = dataframeY.values\n",
    "datasetY = datasetY.astype('float32')\n",
    "datasetY = scaler.fit_transform(datasetY)\n",
    "print(datasetY.shape)"
   ]
  },
  {
   "cell_type": "code",
   "execution_count": 17,
   "metadata": {},
   "outputs": [
    {
     "name": "stdout",
     "output_type": "stream",
     "text": [
      "(805, 20)\n",
      "(805, 20)\n"
     ]
    }
   ],
   "source": [
    "trainY, testY = datasetY[0:train_size,:], datasetY[train_size:len(datasetY),:]\n",
    "print(trainY.shape)\n",
    "#trainY = numpy.reshape(trainY, (trainY.shape[0], 1, trainY.shape[1]))\n",
    "print(trainY.shape)\n",
    "#testY = numpy.reshape(testY, (testY.shape[0], 1, testY.shape[1]))"
   ]
  },
  {
   "cell_type": "code",
   "execution_count": 11,
   "metadata": {},
   "outputs": [],
   "source": [
    "model = Sequential()"
   ]
  },
  {
   "cell_type": "code",
   "execution_count": null,
   "metadata": {},
   "outputs": [],
   "source": [
    "model = Sequential()\n",
    "model.add(LSTM(1000, input_shape=(1, 100)))\n",
    "keras.layers.Dropout(0.2, noise_shape=None, seed=None)\n",
    "model.add(Dense(500))\n",
    "keras.layers.Dropout(0.2, noise_shape=None, seed=None)\n",
    "model.add(Dense(50))\n",
    "keras.layers.Dropout(0.2, noise_shape=None, seed=None)\n",
    "model.add(Dense(20))\n",
    "model.compile(loss='mean_squared_error', optimizer='adam')\n",
    "model.fit(train, trainY, epochs=50, batch_size=200, verbose=2, validation_split=0.3)"
   ]
  },
  {
   "cell_type": "code",
   "execution_count": null,
   "metadata": {},
   "outputs": [],
   "source": [
    "model_json = model.to_json()\n",
    "with open(\"model.json\", \"w\") as json_file:\n",
    "    json_file.write(model_json)\n",
    "# serialize weights to HDF5\n",
    "model.save_weights(\"trainedModel.h5\")\n",
    "print(\"Saved model to disk\")"
   ]
  },
  {
   "cell_type": "code",
   "execution_count": null,
   "metadata": {
    "collapsed": true
   },
   "outputs": [],
   "source": [
    "#Loading the Trained Model while Testing"
   ]
  },
  {
   "cell_type": "code",
   "execution_count": 66,
   "metadata": {},
   "outputs": [],
   "source": [
    "json_file = open('model.json', 'r')\n",
    "loaded_model_json = json_file.read()\n",
    "json_file.close()\n",
    "loaded_model = model_from_json(loaded_model_json)"
   ]
  },
  {
   "cell_type": "code",
   "execution_count": 67,
   "metadata": {},
   "outputs": [],
   "source": [
    "trainPredict = loaded_model.predict(train)\n",
    "#model1= Sequential()\n",
    "#model1=model"
   ]
  },
  {
   "cell_type": "code",
   "execution_count": 68,
   "metadata": {},
   "outputs": [],
   "source": [
    "#print(test)"
   ]
  },
  {
   "cell_type": "code",
   "execution_count": 69,
   "metadata": {},
   "outputs": [
    {
     "name": "stdout",
     "output_type": "stream",
     "text": [
      "[[-0.03918257 -0.02468898  0.09939324 ...  0.03160766 -0.06054765\n",
      "   0.00717662]\n",
      " [-0.03918257 -0.02468898  0.09939324 ...  0.03160766 -0.06054765\n",
      "   0.00717662]\n",
      " [-0.03918257 -0.02468898  0.09939324 ...  0.03160766 -0.06054765\n",
      "   0.00717662]\n",
      " ...\n",
      " [-0.03104496 -0.00751703  0.09500092 ...  0.02136938 -0.04619808\n",
      "   0.00255154]\n",
      " [-0.00574885 -0.01508956  0.10434419 ...  0.02244941 -0.05428527\n",
      "  -0.00581813]\n",
      " [-0.02887296 -0.01298465  0.09218422 ...  0.01513441 -0.05175035\n",
      "   0.01042939]]\n",
      "[[-0.03734758  0.00031453  0.10867605 ...  0.00549991 -0.05147467\n",
      "   0.00946354]\n",
      " [-0.04835169 -0.03447113  0.11494865 ...  0.01740918 -0.03412889\n",
      "   0.0063921 ]\n",
      " [-0.04262358 -0.05171513  0.1128227  ...  0.04170303 -0.05033401\n",
      "   0.01762336]\n",
      " ...\n",
      " [-0.04134233 -0.0186244   0.1167566  ...  0.01631241 -0.09100603\n",
      "  -0.03117465]\n",
      " [-0.05482958 -0.03394597  0.09037091 ...  0.05233966 -0.0145536\n",
      "   0.0088223 ]\n",
      " [-0.04553623 -0.00118015  0.1046047  ...  0.01865891 -0.0674108\n",
      "   0.00690374]]\n"
     ]
    }
   ],
   "source": [
    "#keras.layers.Dropout(0.2, noise_shape=None, seed=None)\n",
    "#model.add(Dense(50))\n",
    "model=loaded_model\n",
    "model.add(Dropout(0.2, noise_shape=None, seed=None))\n",
    "#model.add(Dense(20))\n",
    "testPredict = model.predict(test)\n",
    "print(trainPredict)\n",
    "print(testPredict)\n",
    "# invert predictions\n",
    "# calculate root mean squared error\n",
    "#trainScore = math.sqrt(mean_squared_error(trainY[0], trainPredict[:,0]))"
   ]
  },
  {
   "cell_type": "code",
   "execution_count": 70,
   "metadata": {},
   "outputs": [],
   "source": [
    "temptrainPredict = scaler.inverse_transform(trainPredict)\n",
    "temptrainY = scaler.inverse_transform(trainY)\n",
    "temptestPredict = scaler.inverse_transform(testPredict)\n",
    "temptestY = scaler.inverse_transform(testY)"
   ]
  },
  {
   "cell_type": "code",
   "execution_count": 71,
   "metadata": {},
   "outputs": [
    {
     "name": "stdout",
     "output_type": "stream",
     "text": [
      "Train Score: 0.60 RMSE\n",
      "Test Score: 0.58 RMSE\n"
     ]
    }
   ],
   "source": [
    "#print(testPredict[1].shape)\n",
    "trainScore = math.sqrt(mean_squared_error(temptrainY[0], temptrainPredict[0]))\n",
    "print('Train Score: %.2f RMSE' % (trainScore))\n",
    "testScore = math.sqrt(mean_squared_error(temptestY[0], temptestPredict[0]))\n",
    "print('Test Score: %.2f RMSE' % (testScore))"
   ]
  },
  {
   "cell_type": "code",
   "execution_count": 64,
   "metadata": {},
   "outputs": [
    {
     "data": {
      "image/png": "[encoded data removed]",
      "text/plain": [
       "<Figure size 432x288 with 1 Axes>"
      ]
     },
     "metadata": {},
     "output_type": "display_data"
    }
   ],
   "source": [
    "plt_test.plot(temptestY[40])\n",
    "plt_test.show()"
   ]
  },
  {
   "cell_type": "code",
   "execution_count": 65,
   "metadata": {},
   "outputs": [
    {
     "data": {
      "image/png": "[encoded data removed]",
      "text/plain": [
       "<Figure size 432x288 with 1 Axes>"
      ]
     },
     "metadata": {},
     "output_type": "display_data"
    },
    {
     "name": "stdout",
     "output_type": "stream",
     "text": [
      "[71.36046 71.3727  71.36772 71.33334 71.52181 71.38019 71.07645 71.48836\n",
      " 71.49434 71.47188 71.30333 71.45579 71.55759 71.4139  71.47239 71.45359\n",
      " 71.46426 71.67927 71.70074 71.64952]\n"
     ]
    }
   ],
   "source": [
    "plt_test.plot(temptestPredict[40])\n",
    "plt_test.show()\n",
    "print(temptestPredict[40])\n",
    "a=temptestPredict[40]"
   ]
  },
  {
   "cell_type": "code",
   "execution_count": 39,
   "metadata": {},
   "outputs": [
    {
     "data": {
      "image/png": "[encoded data removed]",
      "text/plain": [
       "<Figure size 432x288 with 1 Axes>"
      ]
     },
     "metadata": {},
     "output_type": "display_data"
    },
    {
     "name": "stdout",
     "output_type": "stream",
     "text": [
      "[71.36046 71.3727  71.36772 71.33334 71.52181 71.38019 71.07645 71.48836\n",
      " 71.49434 71.47188 71.30333 71.45579 71.55759 71.4139  71.47239 71.45359\n",
      " 71.46426 71.67927 71.70074 71.64952]\n"
     ]
    }
   ],
   "source": [
    "plt_test.plot(temptestPredict[40])\n",
    "plt_test.show()\n",
    "print(temptestPredict[40])\n",
    "b=temptestPredict[40]"
   ]
  },
  {
   "cell_type": "code",
   "execution_count": 44,
   "metadata": {},
   "outputs": [],
   "source": [
    "pred=[[0]*20]*2"
   ]
  },
  {
   "cell_type": "code",
   "execution_count": 45,
   "metadata": {},
   "outputs": [],
   "source": [
    "pred[0]=a"
   ]
  },
  {
   "cell_type": "code",
   "execution_count": 46,
   "metadata": {},
   "outputs": [],
   "source": [
    "pred[1]=b"
   ]
  },
  {
   "cell_type": "code",
   "execution_count": 47,
   "metadata": {},
   "outputs": [
    {
     "name": "stdout",
     "output_type": "stream",
     "text": [
      "[array([71.402855, 71.3404  , 71.30523 , 71.42249 , 71.36372 , 71.27978 ,\n",
      "       71.15788 , 71.45551 , 71.440056, 71.409836, 71.31328 , 71.51353 ,\n",
      "       71.50548 , 71.387695, 71.43997 , 71.455154, 71.56505 , 71.54931 ,\n",
      "       71.598724, 71.535065], dtype=float32), array([71.36046, 71.3727 , 71.36772, 71.33334, 71.52181, 71.38019,\n",
      "       71.07645, 71.48836, 71.49434, 71.47188, 71.30333, 71.45579,\n",
      "       71.55759, 71.4139 , 71.47239, 71.45359, 71.46426, 71.67927,\n",
      "       71.70074, 71.64952], dtype=float32)]\n"
     ]
    }
   ],
   "source": [
    "print(pred)"
   ]
  },
  {
   "cell_type": "code",
   "execution_count": 49,
   "metadata": {},
   "outputs": [
    {
     "name": "stdout",
     "output_type": "stream",
     "text": [
      "71.36046\n"
     ]
    }
   ],
   "source": [
    "print(pred[1][0])"
   ]
  },
  {
   "cell_type": "code",
   "execution_count": 56,
   "metadata": {},
   "outputs": [
    {
     "data": {
      "text/plain": [
       "array([71.38165 , 71.35655 , 71.33647 , 71.377914, 71.442764, 71.32999 ,\n",
       "       71.117165, 71.47194 , 71.46719 , 71.44086 , 71.308304, 71.48466 ,\n",
       "       71.53153 , 71.4008  , 71.45618 , 71.45438 , 71.51465 , 71.61429 ,\n",
       "       71.649734, 71.59229 ], dtype=float32)"
      ]
     },
     "execution_count": 56,
     "metadata": {},
     "output_type": "execute_result"
    }
   ],
   "source": [
    "numpy.mean(pred,axis=0)"
   ]
  },
  {
   "cell_type": "code",
   "execution_count": 57,
   "metadata": {},
   "outputs": [
    {
     "data": {
      "text/plain": [
       "array([0.02119827, 0.01615143, 0.03124619, 0.04457474, 0.07904434,\n",
       "       0.05020523, 0.04071808, 0.01642227, 0.02714157, 0.03102112,\n",
       "       0.00497437, 0.02886963, 0.02605438, 0.01310349, 0.01620865,\n",
       "       0.00078202, 0.05039597, 0.06497955, 0.05100632, 0.05722809],\n",
       "      dtype=float32)"
      ]
     },
     "execution_count": 57,
     "metadata": {},
     "output_type": "execute_result"
    }
   ],
   "source": [
    "numpy.std(pred,axis=0)"
   ]
  },
  {
   "cell_type": "code",
   "execution_count": null,
   "metadata": {},
   "outputs": [],
   "source": []
  }
 ],
 "metadata": {
  "kernelspec": {
   "display_name": "Python 3",
   "language": "python",
   "name": "python3"
  },
  "language_info": {
   "codemirror_mode": {
    "name": "ipython",
    "version": 3
   },
   "file_extension": ".py",
   "mimetype": "text/x-python",
   "name": "python",
   "nbconvert_exporter": "python",
   "pygments_lexer": "ipython3",
   "version": "3.6.5"
  }
 },
 "nbformat": 4,
 "nbformat_minor": 2
}
