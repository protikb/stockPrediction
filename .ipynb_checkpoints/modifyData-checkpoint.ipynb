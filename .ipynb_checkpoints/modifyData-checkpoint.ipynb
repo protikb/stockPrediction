{
 "cells": [
  {
   "cell_type": "code",
   "execution_count": 3,
   "metadata": {
    "collapsed": true
   },
   "outputs": [],
   "source": [
    "import numpy \n",
    "from pandas import read_csv"
   ]
  },
  {
   "cell_type": "code",
   "execution_count": 4,
   "metadata": {},
   "outputs": [
    {
     "name": "stdout",
     "output_type": "stream",
     "text": [
      "(1948,)\n"
     ]
    }
   ],
   "source": [
    "dataframe = read_csv('dataset/ABIL .csv')\n",
    "dataframe = dataframe['4. close']\n",
    "dataset = dataframe.values\n",
    "dataset = dataset.astype('float32')\n",
    "print(dataset.shape)"
   ]
  },
  {
   "cell_type": "code",
   "execution_count": 9,
   "metadata": {},
   "outputs": [
    {
     "name": "stdout",
     "output_type": "stream",
     "text": [
      "[ 75.01999664  75.03610229  75.0134964   75.01999664  75.01000214  75.\n",
      "  75.01000214  75.04000092  75.01129913  75.01000214  75.01000214\n",
      "  74.98999786  74.99500275  74.94999695  74.93499756  74.94999695\n",
      "  74.95999908  74.90000153  74.90000153  74.94000244  74.94499969\n",
      "  74.95999908  74.94000244  74.94499969  74.94000244  74.91999817\n",
      "  74.93000031  74.94999695  74.9332962   74.90000153  74.90750122\n",
      "  74.87000275  74.91999817  74.97000122  74.94010162  74.94000244\n",
      "  74.95999908  74.98000336  74.95999908  74.97000122  75.          75.04000092\n",
      "  75.08499908  75.05999756  75.02999878  75.06999969  75.08000183]\n"
     ]
    }
   ],
   "source": [
    "print(dataset[1900:1947])"
   ]
  },
  {
   "cell_type": "code",
   "execution_count": null,
   "metadata": {
    "collapsed": true
   },
   "outputs": [],
   "source": [
    "for i in range (0,19):\n",
    "    row=dataset[i:i+100]\n",
    "    "
   ]
  }
 ],
 "metadata": {
  "kernelspec": {
   "display_name": "Python 3",
   "language": "python",
   "name": "python3"
  },
  "language_info": {
   "codemirror_mode": {
    "name": "ipython",
    "version": 3
   },
   "file_extension": ".py",
   "mimetype": "text/x-python",
   "name": "python",
   "nbconvert_exporter": "python",
   "pygments_lexer": "ipython3",
   "version": "3.6.3"
  }
 },
 "nbformat": 4,
 "nbformat_minor": 2
}
