{
 "cells": [
  {
   "cell_type": "code",
   "execution_count": 3,
   "metadata": {},
   "outputs": [],
   "source": [
    "#this notebook is for testing purpose\n",
    "\n",
    "\n",
    "from matplotlib import pyplot as plt\n",
    "import numpy as np\n",
    "import dtcwt\n",
    "import copy \n",
    "import numpy\n",
    "import matplotlib.pyplot as plt_train\n",
    "import matplotlib.pyplot as plt_test\n",
    "from pandas import read_csv\n",
    "import math\n",
    "import keras\n",
    "from keras.models import Sequential\n",
    "from keras.layers import Dense\n",
    "from keras.layers import Dropout\n",
    "from keras.layers import LSTM\n",
    "from sklearn.preprocessing import MinMaxScaler\n",
    "from sklearn.metrics import mean_squared_error\n",
    "import os\n",
    "from keras.models import model_from_json\n",
    "# convert an array of values into a dataset matrix"
   ]
  },
  {
   "cell_type": "code",
   "execution_count": 18,
   "metadata": {},
   "outputs": [
    {
     "name": "stdout",
     "output_type": "stream",
     "text": [
      "(1151, 100)\n"
     ]
    }
   ],
   "source": [
    "dataframe = read_csv('inputMod.csv')\n",
    "dataset = dataframe.values\n",
    "dataset = dataset.astype('float32')\n",
    "#dataset = numpy.reshape(dataset,(1948,1))\n",
    "print(dataset.shape)"
   ]
  },
  {
   "cell_type": "code",
   "execution_count": 19,
   "metadata": {},
   "outputs": [
    {
     "name": "stdout",
     "output_type": "stream",
     "text": [
      "(805, 100)\n",
      "(1, 100)\n",
      "(805, 1, 100)\n",
      "(1, 1, 100)\n"
     ]
    }
   ],
   "source": [
    "predIndex=40\n",
    "scaler = MinMaxScaler(feature_range=(0, 1))\n",
    "dataset = scaler.fit_transform(dataset)\n",
    "# split into train and test sets\n",
    "train_size = int(len(dataset) * 0.7)\n",
    "test_size = len(dataset) - train_size\n",
    "#print(dataset.shape)\n",
    "train, test = dataset[0:train_size,:], dataset[train_size+predIndex:train_size+predIndex+1,:]\n",
    "print(train.shape)\n",
    "print(test.shape)\n",
    "train = numpy.reshape(train, (train.shape[0], 1, train.shape[1]))\n",
    "test = numpy.reshape(test, (test.shape[0], 1, test.shape[1]))\n",
    "print(train.shape)\n",
    "print(test.shape)"
   ]
  },
  {
   "cell_type": "code",
   "execution_count": 20,
   "metadata": {},
   "outputs": [
    {
     "name": "stdout",
     "output_type": "stream",
     "text": [
      "(1151, 20)\n"
     ]
    }
   ],
   "source": [
    "dataframeY = read_csv('outputMod.csv')\n",
    "datasetY = dataframeY.values\n",
    "datasetY = datasetY.astype('float32')\n",
    "datasetY = scaler.fit_transform(datasetY)\n",
    "print(datasetY.shape)"
   ]
  },
  {
   "cell_type": "code",
   "execution_count": 5,
   "metadata": {},
   "outputs": [
    {
     "name": "stdout",
     "output_type": "stream",
     "text": [
      "(100, 1)\n"
     ]
    }
   ],
   "source": [
    "# Generate a 300x2 array of a random walk\n",
    "vecs = np.cumsum(np.random.rand(100,1) - 0.5, 0)\n",
    "print(vecs.shape)\n",
    "# 1D transform, 5 levels\n",
    "transform = dtcwt.Transform1d()\n",
    "vecs_t = transform.forward(vecs, nlevels=6)\n",
    "#print vecs_t\n",
    "# Make Copies\n",
    "vecs_t1 = copy.deepcopy(vecs_t)\n",
    "vecs_t2 = copy.deepcopy(vecs_t)\n",
    "vecs_t3 = copy.deepcopy(vecs_t)\n",
    "vecs_t4 = copy.deepcopy(vecs_t)\n",
    "vecs_t5 = copy.deepcopy(vecs_t)"
   ]
  },
  {
   "cell_type": "code",
   "execution_count": 6,
   "metadata": {},
   "outputs": [],
   "source": [
    "vecs_recon = transform.inverse(vecs_t)\n",
    "\n",
    "# Inverse with first component removed\n",
    "for jj in range(len(vecs_t1.highpasses[0])):\n",
    "    vecs_t1.highpasses[0][jj] = 0     \n",
    "\n",
    "vecs_recon1 = transform.inverse(vecs_t1)\n",
    "\n",
    "# Inverse with first and second component removed\n",
    "for jj in range(len(vecs_t1.highpasses[1])):\n",
    "    vecs_t1.highpasses[1][jj] = 0 \n",
    "\n",
    "vecs_recon2 = transform.inverse(vecs_t1)\n",
    "\n",
    "# Inverse with first, second and third component removed\n",
    "for jj in range(len(vecs_t1.highpasses[2])):\n",
    "    vecs_t1.highpasses[2][jj] = 0 \n",
    "\n",
    "vecs_recon3 = transform.inverse(vecs_t1)\n",
    "\n",
    "# Inverse with first, second, third and fourth component removed\n",
    "for jj in range(len(vecs_t1.highpasses[3])):\n",
    "    vecs_t1.highpasses[3][jj] = 0 \n",
    "\n",
    "vecs_recon4 = transform.inverse(vecs_t1)\n",
    "\n",
    "# Inverse with first, second, third, fourth and fifth component removed\n",
    "for jj in range(len(vecs_t1.highpasses[4])):\n",
    "    vecs_t1.highpasses[4][jj] = 0 \n",
    "\n",
    "vecs_recon5 = transform.inverse(vecs_t1)\n",
    "\n"
   ]
  },
  {
   "cell_type": "code",
   "execution_count": 7,
   "metadata": {},
   "outputs": [
    {
     "name": "stdout",
     "output_type": "stream",
     "text": [
      "(100,)\n",
      "\n"
     ]
    }
   ],
   "source": [
    "print(vecs_recon.shape)\n",
    "print()"
   ]
  },
  {
   "cell_type": "code",
   "execution_count": 32,
   "metadata": {},
   "outputs": [
    {
     "name": "stdout",
     "output_type": "stream",
     "text": [
      "(20,)\n",
      "(1, 1, 100)\n"
     ]
    },
    {
     "ename": "ValueError",
     "evalue": "cannot reshape array of size 100 into shape (20,)",
     "output_type": "error",
     "traceback": [
      "\u001b[0;31m---------------------------------------------------------------------------\u001b[0m",
      "\u001b[0;31mValueError\u001b[0m                                Traceback (most recent call last)",
      "\u001b[0;32m<ipython-input-32-96f07046091d>\u001b[0m in \u001b[0;36m<module>\u001b[0;34m()\u001b[0m\n\u001b[1;32m      7\u001b[0m \u001b[0;31m#vecs_recon3=np.reshape(vecs_recon5,(20,))\u001b[0m\u001b[0;34m\u001b[0m\u001b[0;34m\u001b[0m\u001b[0m\n\u001b[1;32m      8\u001b[0m \u001b[0;31m#vecs_recon4=np.reshape(vecs_recon5,(20,))\u001b[0m\u001b[0;34m\u001b[0m\u001b[0;34m\u001b[0m\u001b[0m\n\u001b[0;32m----> 9\u001b[0;31m \u001b[0mvecs_recon5\u001b[0m\u001b[0;34m=\u001b[0m\u001b[0mnp\u001b[0m\u001b[0;34m.\u001b[0m\u001b[0mreshape\u001b[0m\u001b[0;34m(\u001b[0m\u001b[0mtest\u001b[0m\u001b[0;34m,\u001b[0m\u001b[0;34m(\u001b[0m\u001b[0;36m20\u001b[0m\u001b[0;34m,\u001b[0m\u001b[0;34m)\u001b[0m\u001b[0;34m)\u001b[0m\u001b[0;34m\u001b[0m\u001b[0m\n\u001b[0m\u001b[1;32m     10\u001b[0m \u001b[0;34m\u001b[0m\u001b[0m\n\u001b[1;32m     11\u001b[0m \u001b[0mprint\u001b[0m\u001b[0;34m(\u001b[0m\u001b[0mvecs_recon5\u001b[0m\u001b[0;34m.\u001b[0m\u001b[0mshape\u001b[0m\u001b[0;34m)\u001b[0m\u001b[0;34m\u001b[0m\u001b[0m\n",
      "\u001b[0;32m/anaconda3/lib/python3.6/site-packages/numpy/core/fromnumeric.py\u001b[0m in \u001b[0;36mreshape\u001b[0;34m(a, newshape, order)\u001b[0m\n\u001b[1;32m    255\u001b[0m            [5, 6]])\n\u001b[1;32m    256\u001b[0m     \"\"\"\n\u001b[0;32m--> 257\u001b[0;31m     \u001b[0;32mreturn\u001b[0m \u001b[0m_wrapfunc\u001b[0m\u001b[0;34m(\u001b[0m\u001b[0ma\u001b[0m\u001b[0;34m,\u001b[0m \u001b[0;34m'reshape'\u001b[0m\u001b[0;34m,\u001b[0m \u001b[0mnewshape\u001b[0m\u001b[0;34m,\u001b[0m \u001b[0morder\u001b[0m\u001b[0;34m=\u001b[0m\u001b[0morder\u001b[0m\u001b[0;34m)\u001b[0m\u001b[0;34m\u001b[0m\u001b[0m\n\u001b[0m\u001b[1;32m    258\u001b[0m \u001b[0;34m\u001b[0m\u001b[0m\n\u001b[1;32m    259\u001b[0m \u001b[0;34m\u001b[0m\u001b[0m\n",
      "\u001b[0;32m/anaconda3/lib/python3.6/site-packages/numpy/core/fromnumeric.py\u001b[0m in \u001b[0;36m_wrapfunc\u001b[0;34m(obj, method, *args, **kwds)\u001b[0m\n\u001b[1;32m     50\u001b[0m \u001b[0;32mdef\u001b[0m \u001b[0m_wrapfunc\u001b[0m\u001b[0;34m(\u001b[0m\u001b[0mobj\u001b[0m\u001b[0;34m,\u001b[0m \u001b[0mmethod\u001b[0m\u001b[0;34m,\u001b[0m \u001b[0;34m*\u001b[0m\u001b[0margs\u001b[0m\u001b[0;34m,\u001b[0m \u001b[0;34m**\u001b[0m\u001b[0mkwds\u001b[0m\u001b[0;34m)\u001b[0m\u001b[0;34m:\u001b[0m\u001b[0;34m\u001b[0m\u001b[0m\n\u001b[1;32m     51\u001b[0m     \u001b[0;32mtry\u001b[0m\u001b[0;34m:\u001b[0m\u001b[0;34m\u001b[0m\u001b[0m\n\u001b[0;32m---> 52\u001b[0;31m         \u001b[0;32mreturn\u001b[0m \u001b[0mgetattr\u001b[0m\u001b[0;34m(\u001b[0m\u001b[0mobj\u001b[0m\u001b[0;34m,\u001b[0m \u001b[0mmethod\u001b[0m\u001b[0;34m)\u001b[0m\u001b[0;34m(\u001b[0m\u001b[0;34m*\u001b[0m\u001b[0margs\u001b[0m\u001b[0;34m,\u001b[0m \u001b[0;34m**\u001b[0m\u001b[0mkwds\u001b[0m\u001b[0;34m)\u001b[0m\u001b[0;34m\u001b[0m\u001b[0m\n\u001b[0m\u001b[1;32m     53\u001b[0m \u001b[0;34m\u001b[0m\u001b[0m\n\u001b[1;32m     54\u001b[0m     \u001b[0;31m# An AttributeError occurs if the object does not have\u001b[0m\u001b[0;34m\u001b[0m\u001b[0;34m\u001b[0m\u001b[0m\n",
      "\u001b[0;31mValueError\u001b[0m: cannot reshape array of size 100 into shape (20,)"
     ]
    }
   ],
   "source": [
    "print(vecs_recon5.shape)\n",
    "print(test.shape)\n",
    "\n",
    "#vecs_recon=np.reshape(vecs_recon5,(20,))\n",
    "#vecs_recon1=np.reshape(vecs_recon5,(20,))\n",
    "#vecs_recon2=np.reshape(vecs_recon5,(20,))\n",
    "#vecs_recon3=np.reshape(vecs_recon5,(20,))\n",
    "#vecs_recon4=np.reshape(vecs_recon5,(20,))\n",
    "vecs_recon5=np.reshape(test,(20,))\n",
    "\n",
    "print(vecs_recon5.shape)"
   ]
  },
  {
   "cell_type": "code",
   "execution_count": 8,
   "metadata": {},
   "outputs": [
    {
     "data": {
      "image/png": "[encoded data removed]",
      "text/plain": [
       "<Figure size 432x288 with 6 Axes>"
      ]
     },
     "metadata": {},
     "output_type": "display_data"
    },
    {
     "name": "stdout",
     "output_type": "stream",
     "text": [
      "Maximum reconstruction error: 2.111148614286698\n"
     ]
    }
   ],
   "source": [
    "plt.subplot(2, 3, 1)\n",
    "plt.title('Input')\n",
    "plt.plot(vecs)\n",
    "\n",
    "# Show the component removed\n",
    "plt.subplot(2, 3, 2)\n",
    "plt.title('High Pass')\n",
    "plt.plot(vecs_recon1)\n",
    "\n",
    "plt.subplot(2, 3, 3)\n",
    "plt.title('Reconstruction')\n",
    "plt.plot(vecs_recon2)\n",
    "\n",
    "plt.subplot(2, 3, 4)\n",
    "plt.title('Reconstruction')\n",
    "plt.plot(vecs_recon3)\n",
    "\n",
    "plt.subplot(2, 3, 5)\n",
    "plt.title('Reconstruction')\n",
    "plt.plot(vecs_recon4)\n",
    "\n",
    "plt.subplot(2, 3, 6)\n",
    "plt.title('Reconstruction')\n",
    "plt.plot(vecs_recon5)\n",
    "\n",
    "plt.show()\n",
    "\n",
    "print('Maximum reconstruction error: {0}'.format(np.max(np.abs(vecs - vecs_recon))))\n",
    "\n",
    "#print ((vecs_t1.highpasses[1]))"
   ]
  },
  {
   "cell_type": "code",
   "execution_count": null,
   "metadata": {},
   "outputs": [],
   "source": [
    "    json_file = open('model.json', 'r')\n",
    "    loaded_model_json = json_file.read()\n",
    "    json_file.close()\n",
    "    loaded_model = model_from_json(loaded_model_json)\n",
    "    \n",
    "    #trainPredict = loaded_model.predict(train)\n",
    "    #keras.layers.Dropout(0.2, noise_shape=None, seed=None)\n",
    "    #model.add(Dense(50))\n",
    "    \n",
    "    model=loaded_model\n",
    "    model.add(Dropout(0.2, noise_shape=None, seed=None))\n",
    "    #model.add(Dense(20))\n",
    "    testPredict = model.predict(test)\n",
    "    #print(trainPredict)\n",
    "    #print(testPredict)\n",
    "    # invert predictions\n",
    "    \n",
    "    temptrainPredict = scaler.inverse_transform(trainPredict)\n",
    "    temptrainY = scaler.inverse_transform(trainY)\n",
    "    temptestPredict = scaler.inverse_transform(testPredict)\n",
    "    temptestY = scaler.inverse_transform(testY)\n",
    "    trainScore = math.sqrt(mean_squared_error(temptrainY[0], temptrainPredict[0]))\n",
    "    \n",
    "    print('Train Score: %.2f RMSE' % (trainScore))\n",
    "    testScore = math.sqrt(mean_squared_error(temptestY[0], temptestPredict[0]))\n",
    "    print('Test Score: %.2f RMSE' % (testScore))"
   ]
  }
 ],
 "metadata": {
  "kernelspec": {
   "display_name": "Python 3",
   "language": "python",
   "name": "python3"
  },
  "language_info": {
   "codemirror_mode": {
    "name": "ipython",
    "version": 3
   },
   "file_extension": ".py",
   "mimetype": "text/x-python",
   "name": "python",
   "nbconvert_exporter": "python",
   "pygments_lexer": "ipython3",
   "version": "3.6.5"
  }
 },
 "nbformat": 4,
 "nbformat_minor": 2
}
