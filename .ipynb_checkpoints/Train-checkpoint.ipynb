{
 "cells": [
  {
   "cell_type": "code",
   "execution_count": 27,
   "metadata": {},
   "outputs": [],
   "source": [
    "import numpy\n",
    "import matplotlib.pyplot as plt_train\n",
    "import matplotlib.pyplot as plt_test\n",
    "from pandas import read_csv\n",
    "import math\n",
    "import keras\n",
    "from keras.models import Sequential\n",
    "from keras.layers import Dense\n",
    "from keras.layers import Dropout\n",
    "from keras.layers import LSTM\n",
    "from sklearn.preprocessing import MinMaxScaler\n",
    "from sklearn.metrics import mean_squared_error\n",
    "import os\n",
    "from keras.models import model_from_json\n",
    "# convert an array of values into a dataset matrix"
   ]
  },
  {
   "cell_type": "code",
   "execution_count": 28,
   "metadata": {},
   "outputs": [
    {
     "data": {
      "text/plain": [
       "\"\\ndef create_dataset(dataset, look_back=1):\\n\\tdataX, dataY = [], []\\n\\tfor i in range(len(dataset)-look_back-1):\\n\\t\\ta = dataset[i:(i+look_back), 0]\\n\\t\\tdataX.append(a)\\n\\t\\tdataY.append(dataset[i + look_back, 0])\\n\\treturn numpy.array(dataX), numpy.array(dataY)\\n# fix random seed for reproducibility\\nnumpy.random.seed(7)\\n# load the dataset\\n#dataframe = read_csv('international-airline-passengers.csv', usecols=[1], engine='python', skipfooter=3)\\n#09_05_2017_10KRows_modified\\ndataframe = read_csv('dataset/ABIL .csv')\\ndataframe = dataframe['4. close']\\ndataset = dataframe.values\\ndataset = dataset.astype('float32')\\nprint(dataset.shape)\\n\""
      ]
     },
     "execution_count": 28,
     "metadata": {},
     "output_type": "execute_result"
    }
   ],
   "source": [
    "'''\n",
    "def create_dataset(dataset, look_back=1):\n",
    "\tdataX, dataY = [], []\n",
    "\tfor i in range(len(dataset)-look_back-1):\n",
    "\t\ta = dataset[i:(i+look_back), 0]\n",
    "\t\tdataX.append(a)\n",
    "\t\tdataY.append(dataset[i + look_back, 0])\n",
    "\treturn numpy.array(dataX), numpy.array(dataY)\n",
    "# fix random seed for reproducibility\n",
    "numpy.random.seed(7)\n",
    "# load the dataset\n",
    "#dataframe = read_csv('international-airline-passengers.csv', usecols=[1], engine='python', skipfooter=3)\n",
    "#09_05_2017_10KRows_modified\n",
    "dataframe = read_csv('dataset/ABIL .csv')\n",
    "dataframe = dataframe['4. close']\n",
    "dataset = dataframe.values\n",
    "dataset = dataset.astype('float32')\n",
    "print(dataset.shape)\n",
    "'''"
   ]
  },
  {
   "cell_type": "code",
   "execution_count": 29,
   "metadata": {},
   "outputs": [
    {
     "name": "stdout",
     "output_type": "stream",
     "text": [
      "(4607, 100)\n"
     ]
    }
   ],
   "source": [
    "dataframe = read_csv('inputMod.csv')\n",
    "dataset = dataframe.values\n",
    "dataset = dataset.astype('float32')\n",
    "#dataset = numpy.reshape(dataset,(1948,1))\n",
    "print(dataset.shape)"
   ]
  },
  {
   "cell_type": "code",
   "execution_count": 30,
   "metadata": {},
   "outputs": [
    {
     "name": "stdout",
     "output_type": "stream",
     "text": [
      "(3685, 100)\n",
      "(922, 100)\n",
      "(3685, 1, 100)\n",
      "(922, 1, 100)\n"
     ]
    }
   ],
   "source": [
    "scaler = MinMaxScaler(feature_range=(0,1))\n",
    "dataset = scaler.fit_transform(dataset)\n",
    "# split into train and test sets\n",
    "train_size = int(len(dataset) * 0.8)\n",
    "test_size = len(dataset) - train_size\n",
    "#print(dataset.shape)\n",
    "train, test = dataset[0:train_size,:], dataset[train_size:len(dataset),:]\n",
    "print(train.shape)\n",
    "print(test.shape)\n",
    "train = numpy.reshape(train, (train.shape[0], 1, train.shape[1]))\n",
    "test = numpy.reshape(test, (test.shape[0], 1, test.shape[1]))\n",
    "print(train.shape)\n",
    "print(test.shape)"
   ]
  },
  {
   "cell_type": "code",
   "execution_count": 31,
   "metadata": {},
   "outputs": [
    {
     "name": "stdout",
     "output_type": "stream",
     "text": [
      "(4607, 50)\n"
     ]
    }
   ],
   "source": [
    "dataframeY = read_csv('outputMod.csv')\n",
    "datasetY = dataframeY.values\n",
    "datasetY = datasetY.astype('float32')\n",
    "datasetY = scaler.fit_transform(datasetY)\n",
    "print(datasetY.shape)"
   ]
  },
  {
   "cell_type": "code",
   "execution_count": 32,
   "metadata": {},
   "outputs": [
    {
     "name": "stdout",
     "output_type": "stream",
     "text": [
      "(3685, 50)\n",
      "(3685, 50)\n"
     ]
    }
   ],
   "source": [
    "trainY, testY = datasetY[0:train_size,:], datasetY[train_size:len(datasetY),:]\n",
    "print(trainY.shape)\n",
    "#trainY = numpy.reshape(trainY, (trainY.shape[0], 1, trainY.shape[1]))\n",
    "print(trainY.shape)\n",
    "#testY = numpy.reshape(testY, (testY.shape[0], 1, testY.shape[1]))"
   ]
  },
  {
   "cell_type": "code",
   "execution_count": 33,
   "metadata": {},
   "outputs": [],
   "source": [
    "model = Sequential()"
   ]
  },
  {
   "cell_type": "code",
   "execution_count": 34,
   "metadata": {},
   "outputs": [
    {
     "name": "stdout",
     "output_type": "stream",
     "text": [
      "Train on 2948 samples, validate on 737 samples\n",
      "Epoch 1/100\n",
      " - 12s - loss: 0.0253 - val_loss: 0.0183\n",
      "Epoch 2/100\n",
      " - 9s - loss: 0.0142 - val_loss: 0.0174\n",
      "Epoch 3/100\n",
      " - 9s - loss: 0.0134 - val_loss: 0.0173\n",
      "Epoch 4/100\n",
      " - 9s - loss: 0.0127 - val_loss: 0.0162\n",
      "Epoch 5/100\n",
      " - 9s - loss: 0.0121 - val_loss: 0.0161\n",
      "Epoch 6/100\n",
      " - 9s - loss: 0.0119 - val_loss: 0.0158\n",
      "Epoch 7/100\n",
      " - 9s - loss: 0.0116 - val_loss: 0.0158\n",
      "Epoch 8/100\n",
      " - 9s - loss: 0.0116 - val_loss: 0.0156\n",
      "Epoch 9/100\n",
      " - 9s - loss: 0.0114 - val_loss: 0.0156\n",
      "Epoch 10/100\n",
      " - 9s - loss: 0.0114 - val_loss: 0.0155\n",
      "Epoch 11/100\n",
      " - 9s - loss: 0.0112 - val_loss: 0.0153\n",
      "Epoch 12/100\n",
      " - 10s - loss: 0.0112 - val_loss: 0.0154\n",
      "Epoch 13/100\n",
      " - 9s - loss: 0.0113 - val_loss: 0.0155\n",
      "Epoch 14/100\n",
      " - 9s - loss: 0.0111 - val_loss: 0.0153\n",
      "Epoch 15/100\n",
      " - 10s - loss: 0.0111 - val_loss: 0.0153\n",
      "Epoch 16/100\n",
      " - 9s - loss: 0.0110 - val_loss: 0.0155\n",
      "Epoch 17/100\n",
      " - 9s - loss: 0.0111 - val_loss: 0.0155\n",
      "Epoch 18/100\n",
      " - 9s - loss: 0.0110 - val_loss: 0.0153\n",
      "Epoch 19/100\n",
      " - 9s - loss: 0.0109 - val_loss: 0.0154\n",
      "Epoch 20/100\n",
      " - 9s - loss: 0.0109 - val_loss: 0.0152\n",
      "Epoch 21/100\n",
      " - 9s - loss: 0.0109 - val_loss: 0.0152\n",
      "Epoch 22/100\n",
      " - 9s - loss: 0.0108 - val_loss: 0.0150\n",
      "Epoch 23/100\n",
      " - 9s - loss: 0.0108 - val_loss: 0.0150\n",
      "Epoch 24/100\n",
      " - 9s - loss: 0.0107 - val_loss: 0.0152\n",
      "Epoch 25/100\n",
      " - 10s - loss: 0.0107 - val_loss: 0.0150\n",
      "Epoch 26/100\n",
      " - 9s - loss: 0.0106 - val_loss: 0.0148\n",
      "Epoch 27/100\n",
      " - 10s - loss: 0.0105 - val_loss: 0.0150\n",
      "Epoch 28/100\n",
      " - 9s - loss: 0.0104 - val_loss: 0.0147\n",
      "Epoch 29/100\n",
      " - 9s - loss: 0.0103 - val_loss: 0.0146\n",
      "Epoch 30/100\n",
      " - 9s - loss: 0.0102 - val_loss: 0.0144\n",
      "Epoch 31/100\n",
      " - 9s - loss: 0.0101 - val_loss: 0.0144\n",
      "Epoch 32/100\n",
      " - 9s - loss: 0.0099 - val_loss: 0.0141\n",
      "Epoch 33/100\n",
      " - 9s - loss: 0.0099 - val_loss: 0.0141\n",
      "Epoch 34/100\n",
      " - 9s - loss: 0.0097 - val_loss: 0.0139\n",
      "Epoch 35/100\n",
      " - 9s - loss: 0.0095 - val_loss: 0.0137\n",
      "Epoch 36/100\n",
      " - 9s - loss: 0.0095 - val_loss: 0.0136\n",
      "Epoch 37/100\n",
      " - 9s - loss: 0.0092 - val_loss: 0.0133\n",
      "Epoch 38/100\n",
      " - 9s - loss: 0.0091 - val_loss: 0.0133\n",
      "Epoch 39/100\n",
      " - 9s - loss: 0.0090 - val_loss: 0.0133\n",
      "Epoch 40/100\n",
      " - 10s - loss: 0.0089 - val_loss: 0.0130\n",
      "Epoch 41/100\n",
      " - 10s - loss: 0.0087 - val_loss: 0.0129\n",
      "Epoch 42/100\n",
      " - 10s - loss: 0.0086 - val_loss: 0.0128\n",
      "Epoch 43/100\n",
      " - 9s - loss: 0.0085 - val_loss: 0.0128\n",
      "Epoch 44/100\n",
      " - 10s - loss: 0.0084 - val_loss: 0.0125\n",
      "Epoch 45/100\n",
      " - 10s - loss: 0.0082 - val_loss: 0.0126\n",
      "Epoch 46/100\n",
      " - 9s - loss: 0.0081 - val_loss: 0.0124\n",
      "Epoch 47/100\n",
      " - 9s - loss: 0.0080 - val_loss: 0.0122\n",
      "Epoch 48/100\n",
      " - 9s - loss: 0.0079 - val_loss: 0.0122\n",
      "Epoch 49/100\n",
      " - 9s - loss: 0.0078 - val_loss: 0.0120\n",
      "Epoch 50/100\n",
      " - 9s - loss: 0.0077 - val_loss: 0.0120\n",
      "Epoch 51/100\n",
      " - 9s - loss: 0.0076 - val_loss: 0.0119\n",
      "Epoch 52/100\n",
      " - 9s - loss: 0.0075 - val_loss: 0.0118\n",
      "Epoch 53/100\n",
      " - 9s - loss: 0.0074 - val_loss: 0.0117\n",
      "Epoch 54/100\n",
      " - 10s - loss: 0.0073 - val_loss: 0.0116\n",
      "Epoch 55/100\n",
      " - 10s - loss: 0.0071 - val_loss: 0.0115\n",
      "Epoch 56/100\n",
      " - 10s - loss: 0.0071 - val_loss: 0.0115\n",
      "Epoch 57/100\n",
      " - 10s - loss: 0.0070 - val_loss: 0.0113\n",
      "Epoch 58/100\n",
      " - 12s - loss: 0.0069 - val_loss: 0.0115\n",
      "Epoch 59/100\n",
      " - 11s - loss: 0.0068 - val_loss: 0.0112\n",
      "Epoch 60/100\n",
      " - 11s - loss: 0.0067 - val_loss: 0.0111\n",
      "Epoch 61/100\n",
      " - 10s - loss: 0.0066 - val_loss: 0.0112\n",
      "Epoch 62/100\n",
      " - 10s - loss: 0.0066 - val_loss: 0.0110\n",
      "Epoch 63/100\n",
      " - 10s - loss: 0.0065 - val_loss: 0.0109\n",
      "Epoch 64/100\n",
      " - 10s - loss: 0.0064 - val_loss: 0.0109\n",
      "Epoch 65/100\n",
      " - 9s - loss: 0.0063 - val_loss: 0.0108\n",
      "Epoch 66/100\n",
      " - 11s - loss: 0.0062 - val_loss: 0.0108\n",
      "Epoch 67/100\n",
      " - 10s - loss: 0.0061 - val_loss: 0.0107\n",
      "Epoch 68/100\n",
      " - 10s - loss: 0.0061 - val_loss: 0.0107\n",
      "Epoch 69/100\n",
      " - 10s - loss: 0.0060 - val_loss: 0.0106\n",
      "Epoch 70/100\n",
      " - 9s - loss: 0.0059 - val_loss: 0.0105\n",
      "Epoch 71/100\n",
      " - 11s - loss: 0.0059 - val_loss: 0.0105\n",
      "Epoch 72/100\n",
      " - 10s - loss: 0.0058 - val_loss: 0.0105\n",
      "Epoch 73/100\n",
      " - 10s - loss: 0.0057 - val_loss: 0.0103\n",
      "Epoch 74/100\n",
      " - 10s - loss: 0.0057 - val_loss: 0.0104\n",
      "Epoch 75/100\n",
      " - 10s - loss: 0.0056 - val_loss: 0.0103\n",
      "Epoch 76/100\n",
      " - 10s - loss: 0.0055 - val_loss: 0.0103\n",
      "Epoch 77/100\n",
      " - 10s - loss: 0.0054 - val_loss: 0.0101\n",
      "Epoch 78/100\n",
      " - 10s - loss: 0.0053 - val_loss: 0.0102\n",
      "Epoch 79/100\n",
      " - 10s - loss: 0.0053 - val_loss: 0.0102\n",
      "Epoch 80/100\n",
      " - 10s - loss: 0.0052 - val_loss: 0.0100\n",
      "Epoch 81/100\n",
      " - 10s - loss: 0.0052 - val_loss: 0.0100\n",
      "Epoch 82/100\n",
      " - 9s - loss: 0.0052 - val_loss: 0.0100\n",
      "Epoch 83/100\n",
      " - 9s - loss: 0.0051 - val_loss: 0.0099\n",
      "Epoch 84/100\n",
      " - 11s - loss: 0.0050 - val_loss: 0.0100\n",
      "Epoch 85/100\n",
      " - 10s - loss: 0.0050 - val_loss: 0.0099\n",
      "Epoch 86/100\n",
      " - 10s - loss: 0.0049 - val_loss: 0.0100\n",
      "Epoch 87/100\n",
      " - 10s - loss: 0.0049 - val_loss: 0.0100\n",
      "Epoch 88/100\n",
      " - 11s - loss: 0.0048 - val_loss: 0.0099\n",
      "Epoch 89/100\n",
      " - 10s - loss: 0.0048 - val_loss: 0.0098\n",
      "Epoch 90/100\n",
      " - 10s - loss: 0.0047 - val_loss: 0.0098\n",
      "Epoch 91/100\n",
      " - 11s - loss: 0.0047 - val_loss: 0.0098\n",
      "Epoch 92/100\n",
      " - 10s - loss: 0.0046 - val_loss: 0.0098\n",
      "Epoch 93/100\n",
      " - 10s - loss: 0.0046 - val_loss: 0.0097\n",
      "Epoch 94/100\n",
      " - 10s - loss: 0.0045 - val_loss: 0.0098\n",
      "Epoch 95/100\n",
      " - 11s - loss: 0.0045 - val_loss: 0.0096\n",
      "Epoch 96/100\n",
      " - 12s - loss: 0.0045 - val_loss: 0.0099\n",
      "Epoch 97/100\n",
      " - 10s - loss: 0.0044 - val_loss: 0.0097\n",
      "Epoch 98/100\n",
      " - 10s - loss: 0.0043 - val_loss: 0.0097\n",
      "Epoch 99/100\n",
      " - 10s - loss: 0.0043 - val_loss: 0.0097\n",
      "Epoch 100/100\n",
      " - 10s - loss: 0.0043 - val_loss: 0.0096\n"
     ]
    },
    {
     "data": {
      "text/plain": [
       "<keras.callbacks.History at 0x1a22c7c160>"
      ]
     },
     "execution_count": 34,
     "metadata": {},
     "output_type": "execute_result"
    }
   ],
   "source": [
    "model = Sequential()\n",
    "model.add(LSTM(1000, input_shape=(1, 100)))\n",
    "keras.layers.Dropout(0.2, noise_shape=None, seed=None)\n",
    "model.add(Dense(500))\n",
    "keras.layers.Dropout(0.2, noise_shape=None, seed=None)\n",
    "model.add(Dense(50))\n",
    "#keras.layers.Dropout(0.2, noise_shape=None, seed=None)\n",
    "#model.add(Dense(20))\n",
    "model.compile(loss='mean_squared_error', optimizer='adam')\n",
    "model.fit(train, trainY, epochs=100, batch_size=50, verbose=2, validation_split=0.2)"
   ]
  },
  {
   "cell_type": "code",
   "execution_count": 59,
   "metadata": {},
   "outputs": [
    {
     "name": "stdout",
     "output_type": "stream",
     "text": [
      "Saved model to disk\n"
     ]
    }
   ],
   "source": [
    "model_json = model.to_json()\n",
    "with open(\"model.json\", \"w\") as json_file:\n",
    "    json_file.write(model_json)\n",
    "# serialize weights to HDF5\n",
    "model.save_weights(\"trainedModel.h5\")\n",
    "print(\"Saved model to disk\")"
   ]
  },
  {
   "cell_type": "code",
   "execution_count": 60,
   "metadata": {},
   "outputs": [],
   "source": [
    "#Loading the Trained Model while Testing\n"
   ]
  },
  {
   "cell_type": "code",
   "execution_count": 61,
   "metadata": {},
   "outputs": [
    {
     "name": "stdout",
     "output_type": "stream",
     "text": [
      "Loaded model from disk\n"
     ]
    }
   ],
   "source": [
    "json_file = open('model.json', 'r')\n",
    "loaded_model_json = json_file.read()\n",
    "json_file.close()\n",
    "loaded_model = model_from_json(loaded_model_json)\n",
    "# load weights into new model\n",
    "loaded_model.load_weights(\"trainedModel.h5\")\n",
    "print(\"Loaded model from disk\")"
   ]
  },
  {
   "cell_type": "code",
   "execution_count": 8,
   "metadata": {},
   "outputs": [],
   "source": [
    "trainPredict = loaded_model.predict(train)\n",
    "#model1= Sequential()\n",
    "#model1=model"
   ]
  },
  {
   "cell_type": "code",
   "execution_count": 10,
   "metadata": {},
   "outputs": [],
   "source": [
    "#print(test)"
   ]
  },
  {
   "cell_type": "code",
   "execution_count": 9,
   "metadata": {},
   "outputs": [],
   "source": [
    "#keras.layers.Dropout(0.2, noise_shape=None, seed=None)\n",
    "#model.add(Dense(50))\n",
    "\n",
    "model=loaded_model\n",
    "model.add(Dropout(0.2, noise_shape=None, seed=None))\n",
    "\n",
    "#model.add(Dense(20))\n",
    "testPredict = model.predict(test)\n",
    "#print(trainPredict)\n",
    "#print(testPredict)\n",
    "# invert predictions\n",
    "# calculate root mean squared error\n",
    "#trainScore = math.sqrt(mean_squared_error(trainY[0], trainPredict[:,0]))"
   ]
  },
  {
   "cell_type": "code",
   "execution_count": 62,
   "metadata": {},
   "outputs": [],
   "source": [
    "testPredict = loaded_model.predict(test)\n",
    "trainPredict = loaded_model.predict(train)"
   ]
  },
  {
   "cell_type": "code",
   "execution_count": null,
   "metadata": {},
   "outputs": [],
   "source": []
  },
  {
   "cell_type": "code",
   "execution_count": 63,
   "metadata": {},
   "outputs": [
    {
     "name": "stdout",
     "output_type": "stream",
     "text": [
      "[[71.88115  71.901375 71.90675  ... 72.34198  72.257645 72.30128 ]\n",
      " [71.88115  71.901375 71.90675  ... 72.34198  72.257645 72.30128 ]\n",
      " [71.88115  71.901375 71.90675  ... 72.34198  72.257645 72.30128 ]\n",
      " ...\n",
      " [71.87946  71.918335 71.70391  ... 72.084785 72.49346  72.30243 ]\n",
      " [71.72627  71.75413  71.78583  ... 72.28393  72.35488  72.12906 ]\n",
      " [71.78643  71.811844 71.79659  ... 72.268745 72.401085 72.33827 ]]\n"
     ]
    }
   ],
   "source": [
    "print(scaler.inverse_transform(trainPredict))"
   ]
  },
  {
   "cell_type": "code",
   "execution_count": 64,
   "metadata": {},
   "outputs": [
    {
     "name": "stdout",
     "output_type": "stream",
     "text": [
      "[[71.895    71.93     71.9      ... 72.3      72.275    72.27    ]\n",
      " [71.895    71.93     71.9      ... 72.3      72.275    72.27    ]\n",
      " [71.895    71.93     71.9      ... 72.3      72.275    72.27    ]\n",
      " ...\n",
      " [72.01334  71.80253  71.48917  ... 72.0012   72.25601  72.2571  ]\n",
      " [71.70707  71.86601  71.78381  ... 72.535286 72.177505 72.0295  ]\n",
      " [71.92878  71.661125 71.58889  ... 71.971    72.495514 72.30524 ]]\n"
     ]
    }
   ],
   "source": [
    "print(scaler.inverse_transform(trainY))"
   ]
  },
  {
   "cell_type": "code",
   "execution_count": 65,
   "metadata": {},
   "outputs": [],
   "source": [
    "temptrainPredict = scaler.inverse_transform(trainPredict)\n",
    "temptrainY = scaler.inverse_transform(trainY)\n",
    "temptestPredict = scaler.inverse_transform(testPredict)\n",
    "temptestY = scaler.inverse_transform(testY)"
   ]
  },
  {
   "cell_type": "code",
   "execution_count": 66,
   "metadata": {},
   "outputs": [
    {
     "name": "stdout",
     "output_type": "stream",
     "text": [
      "Train Score: 0.07 RMSE\n",
      "Test Score: 0.16 RMSE\n"
     ]
    }
   ],
   "source": [
    "#print(testPredict[1].shape)\n",
    "trainScore = math.sqrt(mean_squared_error(temptrainY[20], temptrainPredict[20]))\n",
    "print('Train Score: %.2f RMSE' % (trainScore))\n",
    "testScore = math.sqrt(mean_squared_error(temptestY[20], temptestPredict[20]))\n",
    "print('Test Score: %.2f RMSE' % (testScore))"
   ]
  },
  {
   "cell_type": "code",
   "execution_count": 69,
   "metadata": {},
   "outputs": [
    {
     "data": {
      "image/png": "[encoded data removed]",
      "text/plain": [
       "<Figure size 432x288 with 1 Axes>"
      ]
     },
     "metadata": {},
     "output_type": "display_data"
    },
    {
     "name": "stdout",
     "output_type": "stream",
     "text": [
      "[72.15733  71.98372  71.80227  71.86124  71.99329  71.67873  72.41097\n",
      " 71.75467  72.2621   71.90715  72.61953  72.38449  71.97533  72.18493\n",
      " 72.2655   71.97657  72.35157  72.60859  72.164604 71.86144  72.14317\n",
      " 71.88263  72.683586 71.950836 72.3752   71.72392  72.50042  72.11884\n",
      " 71.89818  72.45144  71.99448  72.23489  71.99053  72.22184  72.10966\n",
      " 71.81923  72.26456  72.2607   72.11577  72.423164 72.28639  72.96014\n",
      " 72.22169  72.64839  72.31317  72.16521  72.28346  72.56618  72.44603\n",
      " 72.49498 ]\n"
     ]
    }
   ],
   "source": [
    "plt_test.plot(temptestY[22])\n",
    "plt_test.plot(temptestPredict[22])\n",
    "plt_test.show()\n",
    "print(temptestY[20])"
   ]
  },
  {
   "cell_type": "code",
   "execution_count": 36,
   "metadata": {},
   "outputs": [
    {
     "data": {
      "image/png": "[encoded data removed]",
      "text/plain": [
       "<Figure size 432x288 with 1 Axes>"
      ]
     },
     "metadata": {},
     "output_type": "display_data"
    },
    {
     "name": "stdout",
     "output_type": "stream",
     "text": [
      "[70.90145  70.856705 71.08866  71.04368  71.09206  70.77426  71.011925\n",
      " 71.07655  70.98417  70.98947  71.13307  71.011086 71.00878  71.21581\n",
      " 71.01294  70.98469  71.33435  71.26209  71.17055  71.49948  71.08043\n",
      " 71.53702  71.44615  71.39231  71.26789  71.23841  71.42333  71.3756\n",
      " 71.13441  71.13243  71.13468  71.00595  71.40046  71.38233  71.32807\n",
      " 71.23561  71.38769  71.54778  71.4568   71.48406  71.554924 71.55323\n",
      " 71.53943  71.5468   71.1708   71.43     71.41315  71.25142  71.20457\n",
      " 71.34681 ]\n"
     ]
    }
   ],
   "source": [
    "plt_test.plot(temptestPredict[20])\n",
    "plt_test.show()\n",
    "print(temptestPredict[20])\n",
    "a=temptestPredict[20]"
   ]
  },
  {
   "cell_type": "code",
   "execution_count": 37,
   "metadata": {},
   "outputs": [
    {
     "data": {
      "image/png": "[encoded data removed]",
      "text/plain": [
       "<Figure size 432x288 with 1 Axes>"
      ]
     },
     "metadata": {},
     "output_type": "display_data"
    },
    {
     "name": "stdout",
     "output_type": "stream",
     "text": [
      "[70.90145  70.856705 71.08866  71.04368  71.09206  70.77426  71.011925\n",
      " 71.07655  70.98417  70.98947  71.13307  71.011086 71.00878  71.21581\n",
      " 71.01294  70.98469  71.33435  71.26209  71.17055  71.49948  71.08043\n",
      " 71.53702  71.44615  71.39231  71.26789  71.23841  71.42333  71.3756\n",
      " 71.13441  71.13243  71.13468  71.00595  71.40046  71.38233  71.32807\n",
      " 71.23561  71.38769  71.54778  71.4568   71.48406  71.554924 71.55323\n",
      " 71.53943  71.5468   71.1708   71.43     71.41315  71.25142  71.20457\n",
      " 71.34681 ]\n"
     ]
    }
   ],
   "source": [
    "plt_test.plot(temptestPredict[20])\n",
    "plt_test.show()\n",
    "print(temptestPredict[20])\n",
    "b=temptestPredict[20]"
   ]
  },
  {
   "cell_type": "code",
   "execution_count": 38,
   "metadata": {},
   "outputs": [
    {
     "name": "stderr",
     "output_type": "stream",
     "text": [
      "/anaconda3/lib/python3.6/site-packages/matplotlib/cbook/deprecation.py:107: MatplotlibDeprecationWarning: Passing one of 'on', 'true', 'off', 'false' as a boolean is deprecated; use an actual boolean (True/False) instead.\n",
      "  warnings.warn(message, mplDeprecation, stacklevel=1)\n"
     ]
    },
    {
     "data": {
      "image/png": "[encoded data removed]",
      "text/plain": [
       "<Figure size 432x288 with 1 Axes>"
      ]
     },
     "metadata": {},
     "output_type": "display_data"
    }
   ],
   "source": [
    "import matplotlib.pyplot as plt\n",
    "axes = plt.gca()\n",
    "#axes.set_xlim([0,50])\n",
    "#axes.set_ylim([0,10])\n",
    "#plt.text(10,5.8,r'Red = Predictions, Blue = Actual Data')\n",
    "plt.xlabel('datapoints')\n",
    "plt.ylabel('stock value')\n",
    "plt.plot(temptestPredict[100],'r')\n",
    "plt.plot(temptestY[10],'b')\n",
    "plt_test.grid('True')\n",
    "plt_test.show()\n",
    "#plt.savefig('S&P5001.png')"
   ]
  },
  {
   "cell_type": "code",
   "execution_count": null,
   "metadata": {},
   "outputs": [],
   "source": []
  },
  {
   "cell_type": "code",
   "execution_count": null,
   "metadata": {},
   "outputs": [],
   "source": []
  },
  {
   "cell_type": "code",
   "execution_count": null,
   "metadata": {},
   "outputs": [],
   "source": []
  },
  {
   "cell_type": "code",
   "execution_count": null,
   "metadata": {},
   "outputs": [],
   "source": []
  },
  {
   "cell_type": "code",
   "execution_count": null,
   "metadata": {},
   "outputs": [],
   "source": []
  },
  {
   "cell_type": "code",
   "execution_count": null,
   "metadata": {},
   "outputs": [],
   "source": []
  },
  {
   "cell_type": "code",
   "execution_count": null,
   "metadata": {},
   "outputs": [],
   "source": []
  },
  {
   "cell_type": "code",
   "execution_count": null,
   "metadata": {},
   "outputs": [],
   "source": []
  },
  {
   "cell_type": "code",
   "execution_count": null,
   "metadata": {},
   "outputs": [],
   "source": []
  },
  {
   "cell_type": "code",
   "execution_count": null,
   "metadata": {},
   "outputs": [],
   "source": []
  }
 ],
 "metadata": {
  "kernelspec": {
   "display_name": "Python 3",
   "language": "python",
   "name": "python3"
  },
  "language_info": {
   "codemirror_mode": {
    "name": "ipython",
    "version": 3
   },
   "file_extension": ".py",
   "mimetype": "text/x-python",
   "name": "python",
   "nbconvert_exporter": "python",
   "pygments_lexer": "ipython3",
   "version": "3.6.5"
  }
 },
 "nbformat": 4,
 "nbformat_minor": 2
}
