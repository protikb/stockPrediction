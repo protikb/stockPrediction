{
 "cells": [
  {
   "cell_type": "code",
   "execution_count": null,
   "metadata": {},
   "outputs": [],
   "source": [
    "import numpy as np\n",
    "from pandas import read_csv\n",
    "mu, sigma = 0, 0.1 \n",
    "# creating a noise with the same dimension as the dataset (2,2) \n",
    "\n",
    "#print(noise)\n"
   ]
  },
  {
   "cell_type": "code",
   "execution_count": 2,
   "metadata": {},
   "outputs": [
    {
     "name": "stdout",
     "output_type": "stream",
     "text": [
      "(18, 100)\n"
     ]
    }
   ],
   "source": [
    "dataX = read_csv('input.csv')\n",
    "dataX = dataX.values\n",
    "dataX = dataX.astype('float32')\n",
    "print(dataX.shape)"
   ]
  },
  {
   "cell_type": "code",
   "execution_count": 3,
   "metadata": {},
   "outputs": [
    {
     "name": "stdout",
     "output_type": "stream",
     "text": [
      "(18, 20)\n"
     ]
    }
   ],
   "source": [
    "dataY = read_csv('output.csv')\n",
    "dataY = dataY.values\n",
    "dataY = dataY.astype('float32')\n",
    "print(dataY.shape)"
   ]
  },
  {
   "cell_type": "code",
   "execution_count": 26,
   "metadata": {
    "collapsed": true
   },
   "outputs": [],
   "source": [
    "noiseX = np.random.normal(mu, sigma, dataX.shape) \n",
    "noiseY = np.random.normal(mu, sigma, dataY.shape) "
   ]
  },
  {
   "cell_type": "code",
   "execution_count": 27,
   "metadata": {},
   "outputs": [],
   "source": [
    "ndataX=dataX+noiseX\n",
    "ndataY=dataY+noiseY"
   ]
  },
  {
   "cell_type": "code",
   "execution_count": 28,
   "metadata": {},
   "outputs": [
    {
     "name": "stdout",
     "output_type": "stream",
     "text": [
      "(1152, 100)\n"
     ]
    }
   ],
   "source": [
    "dataX=np.concatenate((dataX,ndataX))\n",
    "print(dataX.shape)"
   ]
  },
  {
   "cell_type": "code",
   "execution_count": 29,
   "metadata": {},
   "outputs": [
    {
     "name": "stdout",
     "output_type": "stream",
     "text": [
      "(1152, 20)\n"
     ]
    }
   ],
   "source": [
    "dataY=np.concatenate((dataY,ndataY))\n",
    "print(dataY.shape)"
   ]
  },
  {
   "cell_type": "code",
   "execution_count": 34,
   "metadata": {},
   "outputs": [
    {
     "name": "stdout",
     "output_type": "stream",
     "text": [
      "(1152, 20)\n"
     ]
    }
   ],
   "source": [
    "print(dataY.shape)\n"
   ]
  },
  {
   "cell_type": "code",
   "execution_count": null,
   "metadata": {
    "collapsed": true
   },
   "outputs": [],
   "source": [
    "import csv"
   ]
  },
  {
   "cell_type": "code",
   "execution_count": null,
   "metadata": {
    "collapsed": true
   },
   "outputs": [],
   "source": [
    "with open('input.csv', 'a') as csvFileX:\n",
    "    writer = csv.writer(csvFileX)\n",
    "    writer.writerow(dataX)\n",
    "with open('output.csv', 'a') as csvFileY:\n",
    "    writer = csv.writer(csvFileY)\n",
    "    writer.writerow(dataY)"
   ]
  },
  {
   "cell_type": "code",
   "execution_count": null,
   "metadata": {
    "collapsed": true
   },
   "outputs": [],
   "source": [
    "csvFileX.close()\n",
    "csvFileY.close()"
   ]
  },
  {
   "cell_type": "code",
   "execution_count": null,
   "metadata": {},
   "outputs": [],
   "source": [
    "data = read_csv('output.csv')\n",
    "data = data.values\n",
    "#data = data.astype('float32')\n",
    "print(data.shape)"
   ]
  },
  {
   "cell_type": "code",
   "execution_count": null,
   "metadata": {},
   "outputs": [],
   "source": [
    "np.savetxt('input1.csv',mdataX,delimiter=\",\")\n",
    "np.savetxt('output1.csv',mdataY,delimiter=\",\")"
   ]
  },
  {
   "cell_type": "code",
   "execution_count": null,
   "metadata": {},
   "outputs": [],
   "source": [
    "data = read_csv('output.csv')\n",
    "data = data.values\n",
    "#data = data.astype('float32')\n",
    "print(data.shape)"
   ]
  },
  {
   "cell_type": "code",
   "execution_count": 30,
   "metadata": {
    "collapsed": true
   },
   "outputs": [],
   "source": [
    "import pandas as pd \n",
    "df = pd.DataFrame(dataX)\n",
    "df.to_csv(\"input1.csv\")"
   ]
  },
  {
   "cell_type": "code",
   "execution_count": 31,
   "metadata": {
    "collapsed": true
   },
   "outputs": [],
   "source": [
    "import pandas as pd \n",
    "df = pd.DataFrame(dataY)\n",
    "df.to_csv(\"output1.csv\")"
   ]
  },
  {
   "cell_type": "code",
   "execution_count": 33,
   "metadata": {},
   "outputs": [
    {
     "name": "stdout",
     "output_type": "stream",
     "text": [
      "(1152, 21)\n"
     ]
    }
   ],
   "source": [
    "data = read_csv('output1.csv')\n",
    "data = data.values\n",
    "data = data.astype('float32')\n",
    "print(data.shape)"
   ]
  },
  {
   "cell_type": "code",
   "execution_count": null,
   "metadata": {
    "collapsed": true
   },
   "outputs": [],
   "source": []
  }
 ],
 "metadata": {
  "kernelspec": {
   "display_name": "Python 3",
   "language": "python",
   "name": "python3"
  },
  "language_info": {
   "codemirror_mode": {
    "name": "ipython",
    "version": 3
   },
   "file_extension": ".py",
   "mimetype": "text/x-python",
   "name": "python",
   "nbconvert_exporter": "python",
   "pygments_lexer": "ipython3",
   "version": "3.6.3"
  }
 },
 "nbformat": 4,
 "nbformat_minor": 2
}
