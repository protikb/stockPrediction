{
 "cells": [
  {
   "cell_type": "code",
   "execution_count": 1,
   "metadata": {},
   "outputs": [],
   "source": [
    "import numpy as np\n",
    "from pandas import read_csv\n",
    "mu, sigma = 0, 0.1 \n",
    "# creating a noise with the same dimension as the dataset (2,2) \n",
    "\n",
    "#print(noise)\n"
   ]
  },
  {
   "cell_type": "code",
   "execution_count": 2,
   "metadata": {},
   "outputs": [
    {
     "name": "stdout",
     "output_type": "stream",
     "text": [
      "(18, 100)\n"
     ]
    }
   ],
   "source": [
    "#importing input.csv\n",
    "dataX = read_csv('input.csv')\n",
    "dataX = dataX.values\n",
    "dataX = dataX.astype('float32')\n",
    "print(dataX.shape)"
   ]
  },
  {
   "cell_type": "code",
   "execution_count": 3,
   "metadata": {},
   "outputs": [
    {
     "name": "stdout",
     "output_type": "stream",
     "text": [
      "(18, 50)\n"
     ]
    }
   ],
   "source": [
    "#importing output.csv\n",
    "dataY = read_csv('output.csv')\n",
    "dataY = dataY.values\n",
    "dataY = dataY.astype('float32')\n",
    "print(dataY.shape)"
   ]
  },
  {
   "cell_type": "code",
   "execution_count": 40,
   "metadata": {},
   "outputs": [],
   "source": [
    "#generate noise\n",
    "noiseX = np.random.normal(mu, sigma, dataX.shape) \n",
    "noiseY = np.random.normal(mu, sigma, dataY.shape) "
   ]
  },
  {
   "cell_type": "code",
   "execution_count": 41,
   "metadata": {},
   "outputs": [],
   "source": [
    "#add noise \n",
    "ndataX=dataX+noiseX\n",
    "ndataY=dataY+noiseY"
   ]
  },
  {
   "cell_type": "code",
   "execution_count": 42,
   "metadata": {},
   "outputs": [
    {
     "name": "stdout",
     "output_type": "stream",
     "text": [
      "(18432, 100)\n"
     ]
    }
   ],
   "source": [
    "#concatenate\n",
    "dataX=np.concatenate((dataX,ndataX))\n",
    "print(dataX.shape)"
   ]
  },
  {
   "cell_type": "code",
   "execution_count": 43,
   "metadata": {},
   "outputs": [
    {
     "name": "stdout",
     "output_type": "stream",
     "text": [
      "(18432, 50)\n"
     ]
    }
   ],
   "source": [
    "#concatenate\n",
    "dataY=np.concatenate((dataY,ndataY))\n",
    "print(dataY.shape)"
   ]
  },
  {
   "cell_type": "code",
   "execution_count": 28,
   "metadata": {},
   "outputs": [
    {
     "name": "stdout",
     "output_type": "stream",
     "text": [
      "(1152, 20)\n"
     ]
    }
   ],
   "source": [
    "#print(dataY.shape)\n",
    "#repeat above 4 blocks"
   ]
  },
  {
   "cell_type": "code",
   "execution_count": 44,
   "metadata": {},
   "outputs": [],
   "source": [
    "#save new augemented data\n",
    "np.savetxt(\"inputMod.csv\", dataX, delimiter=\",\")\n",
    "np.savetxt(\"outputMod.csv\", dataY, delimiter=\",\")"
   ]
  },
  {
   "cell_type": "code",
   "execution_count": 59,
   "metadata": {},
   "outputs": [
    {
     "name": "stdout",
     "output_type": "stream",
     "text": [
      "(1151, 50)\n",
      "[[6.34      6.35      6.35      ... 6.35      6.345     6.345    ]\n",
      " [6.34      6.35      6.35      ... 6.35      6.345     6.345    ]\n",
      " [6.34      6.35      6.35      ... 6.35      6.345     6.345    ]\n",
      " ...\n",
      " [6.291534  6.651588  6.155714  ... 6.392858  6.3092804 6.163664 ]\n",
      " [6.498877  6.051739  6.1690574 ... 6.2927175 6.304964  6.2059717]\n",
      " [5.937183  6.4997606 6.036103  ... 6.310982  6.1651983 6.1050944]]\n"
     ]
    }
   ],
   "source": [
    "data = read_csv('outputMod.csv')\n",
    "data = data.values\n",
    "data = data.astype('float32')\n",
    "print(data.shape)\n",
    "print(data)"
   ]
  },
  {
   "cell_type": "code",
   "execution_count": null,
   "metadata": {},
   "outputs": [],
   "source": []
  },
  {
   "cell_type": "code",
   "execution_count": null,
   "metadata": {},
   "outputs": [],
   "source": []
  },
  {
   "cell_type": "code",
   "execution_count": null,
   "metadata": {},
   "outputs": [],
   "source": []
  },
  {
   "cell_type": "code",
   "execution_count": null,
   "metadata": {},
   "outputs": [],
   "source": []
  },
  {
   "cell_type": "code",
   "execution_count": null,
   "metadata": {},
   "outputs": [],
   "source": []
  },
  {
   "cell_type": "code",
   "execution_count": null,
   "metadata": {},
   "outputs": [],
   "source": []
  },
  {
   "cell_type": "code",
   "execution_count": null,
   "metadata": {},
   "outputs": [],
   "source": []
  },
  {
   "cell_type": "code",
   "execution_count": null,
   "metadata": {},
   "outputs": [],
   "source": []
  },
  {
   "cell_type": "code",
   "execution_count": null,
   "metadata": {},
   "outputs": [],
   "source": []
  }
 ],
 "metadata": {
  "kernelspec": {
   "display_name": "Python 3",
   "language": "python",
   "name": "python3"
  },
  "language_info": {
   "codemirror_mode": {
    "name": "ipython",
    "version": 3
   },
   "file_extension": ".py",
   "mimetype": "text/x-python",
   "name": "python",
   "nbconvert_exporter": "python",
   "pygments_lexer": "ipython3",
   "version": "3.6.5"
  }
 },
 "nbformat": 4,
 "nbformat_minor": 2
}
