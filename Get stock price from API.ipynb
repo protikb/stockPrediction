{
 "cells": [
  {
   "cell_type": "code",
   "execution_count": 2,
   "metadata": {
    "scrolled": true
   },
   "outputs": [],
   "source": [
    "# This notebook looks at the list of compani indexes from the file symbolList.txt\n",
    "# and takes one index, calls alpha_vintag api to get stock price values "
   ]
  },
  {
   "cell_type": "code",
   "execution_count": 3,
   "metadata": {},
   "outputs": [
    {
     "name": "stdout",
     "output_type": "stream",
     "text": [
      "['NDLS', 'CHK', 'AKS', 'ZNGA', 'GRPN', 'FIT', 'AFMD ', 'ATAI ', 'STAF ', 'VVPR ', 'EGLT ', 'ASFI ', 'CVM ', 'IGC ', 'STG ', 'SSC ', 'RGLS ', 'GLG ', 'MTSL ', 'ABIL ', 'AWX ', 'BDR ', 'MITK ', 'YVR ', 'NNVC ', 'KOOL', 'NAKD ', 'OBLN ', 'LENS ', 'IPCI', 'TTPH', 'HLTH', 'LTRX ', 'CHRA', 'YECO', 'AXSM', 'BILI', 'CRON ', 'DRIO ', 'GERN ', 'TKAT ', 'MARA ', 'RGSE ', 'SHLD ', 'ATLC ', 'GRNQ ', 'MDXG ', 'MTNB ', 'NWY ', 'JMU ', 'XSPL ', 'CTXR ', 'REPL ', 'XSPA ', 'PTIE ', 'TRPX ', 'IFMK', 'OHGI ', 'RIGL', 'NBEV ', 'SGBX', 'HMNY ', 'SNOA ', 'PXLW ', 'LIQT ', 'EVFM ', 'BNGOU ', 'REED ', 'HAIR ', 'IMV', 'BLIN ', 'GNPX ', 'SPI', 'GLBS ', 'SITO ', 'BPMX ', 'KOSS ', 'ALN ', 'HTGM']\n"
     ]
    }
   ],
   "source": [
    "#from numpy import loadtxt\n",
    "#lines = loadtxt(\"symbolList.txt\", delimiter=\"\\n\", unpack=False)\n",
    "\n",
    "Symbol1 = [line.rstrip('\\n') for line in open('symbolList.txt')]\n",
    "#for symbol in Symbol:\n",
    "#    path='dataset/'+symbol+'.csv'\n",
    "#    path=str(path)\n",
    "#    print(path)\n",
    "#symbol='QCOM'\n",
    "#path='dataset/'+symbol+'.csv'\n",
    "#data.to_csv(path)\n",
    "print(Symbol1)"
   ]
  },
  {
   "cell_type": "code",
   "execution_count": 5,
   "metadata": {
    "collapsed": true
   },
   "outputs": [],
   "source": [
    "Symbol=['HTGM']"
   ]
  },
  {
   "cell_type": "code",
   "execution_count": 6,
   "metadata": {
    "collapsed": true
   },
   "outputs": [],
   "source": [
    "#getStockPrice(company_symbol):\n",
    "from alpha_vantage.timeseries import TimeSeries\n",
    "from pprint import pprint\n",
    "import matplotlib.pyplot as plt\n",
    "ts = TimeSeries(key='X2AH0JEV2I3Y3STQ', output_format='pandas')\n",
    "#data, meta_data = ts.get_intraday(symbol='CINEVISTA',interval='1min', outputsize='full')\n",
    "def dumpdata(symbol):\n",
    "    data, meta_data = ts.get_intraday(symbol='QCOM',interval='1min', outputsize='full')\n",
    "    pprint(data.head(2))\n",
    "    print(\"dumping data of \"+symbol)\n",
    "    path='dataset/'+symbol+'.csv'\n",
    "    path=str(path)\n",
    "    data.to_csv(path)\n",
    "#data['4. close'].plot()\n",
    "#plt.title('Intraday Times Series for the MSFT stock (1 min)')\n",
    "#plt.show()"
   ]
  },
  {
   "cell_type": "code",
   "execution_count": 7,
   "metadata": {},
   "outputs": [
    {
     "name": "stdout",
     "output_type": "stream",
     "text": [
      "                     1. open  2. high  3. low  4. close  5. volume\n",
      "date                                                              \n",
      "2018-09-10 09:30:00    70.65    70.78   70.50     70.78   121139.0\n",
      "2018-09-10 09:31:00    70.82    70.97   70.82     70.93    43124.0\n",
      "dumping data of HTGM\n"
     ]
    }
   ],
   "source": [
    "#for all company index call dumpdata finction\n",
    "for symbol in Symbol:\n",
    "    dumpdata(symbol)\n",
    "    "
   ]
  },
  {
   "cell_type": "code",
   "execution_count": null,
   "metadata": {
    "collapsed": true
   },
   "outputs": [],
   "source": []
  },
  {
   "cell_type": "code",
   "execution_count": null,
   "metadata": {
    "collapsed": true,
    "scrolled": true
   },
   "outputs": [],
   "source": [
    "data['4. close']"
   ]
  },
  {
   "cell_type": "code",
   "execution_count": null,
   "metadata": {
    "collapsed": true
   },
   "outputs": [],
   "source": []
  },
  {
   "cell_type": "code",
   "execution_count": null,
   "metadata": {
    "collapsed": true
   },
   "outputs": [],
   "source": [
    "meta_data"
   ]
  },
  {
   "cell_type": "code",
   "execution_count": null,
   "metadata": {
    "collapsed": true
   },
   "outputs": [],
   "source": [
    "import numpy as np\n",
    "data1=np.array(data)"
   ]
  },
  {
   "cell_type": "code",
   "execution_count": null,
   "metadata": {
    "collapsed": true
   },
   "outputs": [],
   "source": []
  },
  {
   "cell_type": "code",
   "execution_count": null,
   "metadata": {
    "collapsed": true
   },
   "outputs": [],
   "source": [
    "np.shape(data1)"
   ]
  },
  {
   "cell_type": "code",
   "execution_count": null,
   "metadata": {
    "collapsed": true
   },
   "outputs": [],
   "source": [
    "from alpha_vantage.timeseries import TimeSeries\n",
    "from pprint import pprint\n",
    "import matplotlib.pyplot as plt\n",
    "ts = TimeSeries(key='X2AH0JEV2I3Y3STQ', output_format='pandas')\n",
    "#data, meta_data = ts.get_intraday(symbol='CINEVISTA',interval='1min', outputsize='full')\n",
    "data, meta_data = ts.get_intraday(symbol='AFL',interval='1min', outputsize='full')\n",
    "pprint(data.head(2))"
   ]
  },
  {
   "cell_type": "code",
   "execution_count": null,
   "metadata": {
    "collapsed": true
   },
   "outputs": [],
   "source": [
    "data"
   ]
  },
  {
   "cell_type": "code",
   "execution_count": 4,
   "metadata": {},
   "outputs": [
    {
     "name": "stdout",
     "output_type": "stream",
     "text": [
      "                     1. open  2. high  3. low  4. close  5. volume\n",
      "date                                                              \n",
      "2018-10-15 09:32:00   6.4100   6.4100  6.4100    6.4100        0.0\n",
      "2018-10-15 09:33:00   6.4050   6.4050  6.4050    6.4050     2130.0\n",
      "2018-10-15 09:34:00   6.3800   6.3800  6.3650    6.3650    21610.0\n",
      "2018-10-15 09:35:00   6.3600   6.3600  6.3600    6.3600     7141.0\n",
      "2018-10-15 09:36:00   6.3700   6.3800  6.3700    6.3800    31782.0\n",
      "2018-10-15 09:37:00   6.3750   6.3750  6.3750    6.3750     1950.0\n",
      "2018-10-15 09:39:00   6.3650   6.3650  6.3650    6.3650     8159.0\n",
      "2018-10-15 09:40:00   6.3650   6.3650  6.3500    6.3500    11642.0\n",
      "2018-10-15 09:41:00   6.3500   6.3600  6.3500    6.3600    41519.0\n",
      "2018-10-15 09:42:00   6.3700   6.3700  6.3700    6.3700    21110.0\n",
      "2018-10-15 09:43:00   6.3600   6.3600  6.3600    6.3600     3159.0\n",
      "2018-10-15 09:45:00   6.3600   6.3600  6.3550    6.3550     7871.0\n",
      "2018-10-15 09:46:00   6.3550   6.3550  6.3550    6.3550     7407.0\n",
      "2018-10-15 09:47:00   6.3700   6.3700  6.3600    6.3600    47159.0\n",
      "2018-10-15 09:48:00   6.3600   6.3700  6.3600    6.3700    10367.0\n",
      "2018-10-15 09:49:00   6.3600   6.3650  6.3600    6.3650    20659.0\n",
      "2018-10-15 09:50:00   6.3600   6.3700  6.3600    6.3700    19884.0\n",
      "2018-10-15 09:51:00   6.3650   6.3650  6.3650    6.3650     6927.0\n",
      "2018-10-15 09:52:00   6.3700   6.3700  6.3700    6.3700    19839.0\n",
      "2018-10-15 09:53:00   6.3650   6.3650  6.3650    6.3650     9218.0\n",
      "2018-10-15 09:54:00   6.3700   6.3700  6.3600    6.3600    12103.0\n",
      "2018-10-15 09:55:00   6.3500   6.3500  6.3450    6.3450    63898.0\n",
      "2018-10-15 09:56:00   6.3450   6.3600  6.3450    6.3600    30796.0\n",
      "2018-10-15 09:57:00   6.3600   6.3600  6.3550    6.3600    22266.0\n",
      "2018-10-15 09:58:00   6.3800   6.3800  6.3800    6.3800    24911.0\n",
      "2018-10-15 09:59:00   6.3750   6.3750  6.3750    6.3750     7333.0\n",
      "2018-10-15 10:00:00   6.3700   6.3700  6.3700    6.3700     8835.0\n",
      "2018-10-15 10:01:00   6.3750   6.3800  6.3750    6.3800    18170.0\n",
      "2018-10-15 10:03:00   6.3800   6.3800  6.3700    6.3700    28207.0\n",
      "2018-10-15 10:04:00   6.3700   6.3700  6.3700    6.3700     9173.0\n",
      "...                      ...      ...     ...       ...        ...\n",
      "2018-10-19 15:31:00   6.4900   6.4900  6.4900    6.4900    10583.0\n",
      "2018-10-19 15:32:00   6.4834   6.4834  6.4834    6.4834     9178.0\n",
      "2018-10-19 15:33:00   6.4850   6.4850  6.4850    6.4850     5854.0\n",
      "2018-10-19 15:34:00   6.4850   6.4900  6.4850    6.4900     4680.0\n",
      "2018-10-19 15:35:00   6.4865   6.4865  6.4865    6.4865     3183.0\n",
      "2018-10-19 15:36:00   6.4900   6.4900  6.4900    6.4900     2951.0\n",
      "2018-10-19 15:37:00   6.4850   6.4850  6.4850    6.4850     6911.0\n",
      "2018-10-19 15:38:00   6.4850   6.4850  6.4850    6.4850     6000.0\n",
      "2018-10-19 15:39:00   6.4900   6.4900  6.4900    6.4900     4368.0\n",
      "2018-10-19 15:40:00   6.4850   6.4850  6.4800    6.4800     7457.0\n",
      "2018-10-19 15:41:00   6.4800   6.4800  6.4800    6.4800     8274.0\n",
      "2018-10-19 15:42:00   6.4850   6.4850  6.4850    6.4850     4424.0\n",
      "2018-10-19 15:43:00   6.4850   6.4850  6.4750    6.4750    87163.0\n",
      "2018-10-19 15:44:00   6.4750   6.4800  6.4700    6.4800    41114.0\n",
      "2018-10-19 15:45:00   6.4750   6.4800  6.4750    6.4750   107670.0\n",
      "2018-10-19 15:46:00   6.4800   6.4850  6.4800    6.4850    53788.0\n",
      "2018-10-19 15:47:00   6.4900   6.4900  6.4850    6.4850    13572.0\n",
      "2018-10-19 15:48:00   6.4850   6.4850  6.4850    6.4850     1465.0\n",
      "2018-10-19 15:49:00   6.4850   6.4850  6.4850    6.4850     7008.0\n",
      "2018-10-19 15:50:00   6.4850   6.4900  6.4800    6.4800    12341.0\n",
      "2018-10-19 15:51:00   6.4800   6.4800  6.4800    6.4800     1609.0\n",
      "2018-10-19 15:52:00   6.4850   6.4900  6.4850    6.4900     8037.0\n",
      "2018-10-19 15:53:00   6.4850   6.4900  6.4850    6.4899    10839.0\n",
      "2018-10-19 15:54:00   6.4900   6.4900  6.4850    6.4900    10980.0\n",
      "2018-10-19 15:55:00   6.4850   6.4850  6.4850    6.4850    17939.0\n",
      "2018-10-19 15:56:00   6.4900   6.4900  6.4700    6.4705   159598.0\n",
      "2018-10-19 15:57:00   6.4750   6.4900  6.4700    6.4700   245282.0\n",
      "2018-10-19 15:58:00   6.4700   6.4750  6.4700    6.4700    56798.0\n",
      "2018-10-19 15:59:00   6.4700   6.4700  6.4600    6.4650   111032.0\n",
      "2018-10-19 16:00:00   6.4600   6.4650  6.4600    6.4600    85047.0\n",
      "\n",
      "[1897 rows x 5 columns]\n",
      "                     1. open  2. high  3. low  4. close  5. volume\n",
      "date                                                              \n",
      "2018-10-15 09:32:00    6.410    6.410   6.410     6.410        0.0\n",
      "2018-10-15 09:33:00    6.405    6.405   6.405     6.405     2130.0\n",
      "dumping data of S&P500\n"
     ]
    }
   ],
   "source": [
    "symbol='S&P500'\n",
    "from alpha_vantage.timeseries import TimeSeries\n",
    "from pprint import pprint\n",
    "import matplotlib.pyplot as plt\n",
    "ts = TimeSeries(key='X2AH0JEV2I3Y3STQ', output_format='pandas')\n",
    "data, meta_data = ts.get_intraday(symbol='S&P500',interval='1min', outputsize='full')\n",
    "print(data)\n",
    "pprint(data.head(2))\n",
    "print(\"dumping data of \"+symbol)\n",
    "path='dataset/'+symbol+'.csv'\n",
    "path=str(path)\n",
    "data.to_csv(path)"
   ]
  },
  {
   "cell_type": "code",
   "execution_count": null,
   "metadata": {},
   "outputs": [],
   "source": []
  }
 ],
 "metadata": {
  "kernelspec": {
   "display_name": "Python 3",
   "language": "python",
   "name": "python3"
  },
  "language_info": {
   "codemirror_mode": {
    "name": "ipython",
    "version": 3
   },
   "file_extension": ".py",
   "mimetype": "text/x-python",
   "name": "python",
   "nbconvert_exporter": "python",
   "pygments_lexer": "ipython3",
   "version": "3.6.5"
  }
 },
 "nbformat": 4,
 "nbformat_minor": 2
}
