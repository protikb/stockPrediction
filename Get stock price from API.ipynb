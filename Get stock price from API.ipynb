{
 "cells": [
  {
   "cell_type": "code",
   "execution_count": 1,
   "metadata": {
    "scrolled": true
   },
   "outputs": [
    {
     "name": "stdout",
     "output_type": "stream",
     "text": [
      "['NDLS', 'CHK', 'AKS', 'ZNGA', 'GRPN', 'FIT', 'AFMD ', 'ATAI ', 'STAF ', 'VVPR ', 'EGLT ', 'ASFI ', 'CVM ', 'IGC ', 'STG ', 'SSC ', 'RGLS ', 'GLG ', 'MTSL ', 'ABIL ', 'AWX ', 'BDR ', 'MITK ', 'YVR ', 'NNVC ', 'KOOL', 'NAKD ', 'OBLN ', 'LENS ', 'IPCI', 'TTPH', 'HLTH', 'LTRX ', 'CHRA', 'YECO', 'AXSM', 'BILI', 'CRON ', 'DRIO ', 'GERN ', 'TKAT ', 'MARA ', 'RGSE ', 'SHLD ', 'ATLC ', 'GRNQ ', 'MDXG ', 'MTNB ', 'NWY ', 'JMU ', 'XSPL ', 'CTXR ', 'REPL ', 'XSPA ', 'PTIE ', 'TRPX ', 'IFMK', 'OHGI ', 'RIGL', 'NBEV ', 'SGBX', 'HMNY ', 'SNOA ', 'PXLW ', 'LIQT ', 'EVFM ', 'BNGOU ', 'REED ', 'HAIR ', 'IMV', 'BLIN ', 'GNPX ', 'SPI', 'GLBS ', 'SITO ', 'BPMX ', 'KOSS ', 'ALN ', 'HTGM']\n"
     ]
    }
   ],
   "source": [
    "#from numpy import loadtxt\n",
    "#lines = loadtxt(\"symbolList.txt\", delimiter=\"\\n\", unpack=False)\n",
    "\n",
    "Symbol1 = [line.rstrip('\\n') for line in open('symbolList.txt')]\n",
    "#for symbol in Symbol:\n",
    "#    path='dataset/'+symbol+'.csv'\n",
    "#    path=str(path)\n",
    "#    print(path)\n",
    "#symbol='QCOM'\n",
    "#path='dataset/'+symbol+'.csv'\n",
    "#data.to_csv(path)\n",
    "print(Symbol1)"
   ]
  },
  {
   "cell_type": "code",
   "execution_count": 5,
   "metadata": {
    "collapsed": true
   },
   "outputs": [],
   "source": [
    "Symbol=['HTGM']"
   ]
  },
  {
   "cell_type": "code",
   "execution_count": 6,
   "metadata": {
    "collapsed": true
   },
   "outputs": [],
   "source": [
    "#getStockPrice(company_symbol):\n",
    "from alpha_vantage.timeseries import TimeSeries\n",
    "from pprint import pprint\n",
    "import matplotlib.pyplot as plt\n",
    "ts = TimeSeries(key='X2AH0JEV2I3Y3STQ', output_format='pandas')\n",
    "#data, meta_data = ts.get_intraday(symbol='CINEVISTA',interval='1min', outputsize='full')\n",
    "def dumpdata(symbol):\n",
    "    data, meta_data = ts.get_intraday(symbol='QCOM',interval='1min', outputsize='full')\n",
    "    pprint(data.head(2))\n",
    "    print(\"dumping data of \"+symbol)\n",
    "    path='dataset/'+symbol+'.csv'\n",
    "    path=str(path)\n",
    "    data.to_csv(path)\n",
    "#data['4. close'].plot()\n",
    "#plt.title('Intraday Times Series for the MSFT stock (1 min)')\n",
    "#plt.show()"
   ]
  },
  {
   "cell_type": "code",
   "execution_count": 7,
   "metadata": {},
   "outputs": [
    {
     "name": "stdout",
     "output_type": "stream",
     "text": [
      "                     1. open  2. high  3. low  4. close  5. volume\n",
      "date                                                              \n",
      "2018-09-10 09:30:00    70.65    70.78   70.50     70.78   121139.0\n",
      "2018-09-10 09:31:00    70.82    70.97   70.82     70.93    43124.0\n",
      "dumping data of HTGM\n"
     ]
    }
   ],
   "source": [
    "for symbol in Symbol:\n",
    "    dumpdata(symbol)\n",
    "    "
   ]
  },
  {
   "cell_type": "code",
   "execution_count": null,
   "metadata": {
    "collapsed": true
   },
   "outputs": [],
   "source": [
    "print(5)"
   ]
  },
  {
   "cell_type": "code",
   "execution_count": null,
   "metadata": {
    "collapsed": true,
    "scrolled": true
   },
   "outputs": [],
   "source": [
    "data['4. close']"
   ]
  },
  {
   "cell_type": "code",
   "execution_count": null,
   "metadata": {
    "collapsed": true
   },
   "outputs": [],
   "source": [
    "#install alpha_vantage and pprint by running the following\n",
    "#pip install alpha_vantage\n",
    "#pip install pprint"
   ]
  },
  {
   "cell_type": "code",
   "execution_count": null,
   "metadata": {
    "collapsed": true
   },
   "outputs": [],
   "source": [
    "meta_data"
   ]
  },
  {
   "cell_type": "code",
   "execution_count": null,
   "metadata": {
    "collapsed": true
   },
   "outputs": [],
   "source": [
    "import numpy as np\n",
    "data1=np.array(data)"
   ]
  },
  {
   "cell_type": "code",
   "execution_count": null,
   "metadata": {
    "collapsed": true
   },
   "outputs": [],
   "source": []
  },
  {
   "cell_type": "code",
   "execution_count": null,
   "metadata": {
    "collapsed": true
   },
   "outputs": [],
   "source": [
    "np.shape(data1)"
   ]
  },
  {
   "cell_type": "code",
   "execution_count": null,
   "metadata": {
    "collapsed": true
   },
   "outputs": [],
   "source": [
    "from alpha_vantage.timeseries import TimeSeries\n",
    "from pprint import pprint\n",
    "import matplotlib.pyplot as plt\n",
    "ts = TimeSeries(key='X2AH0JEV2I3Y3STQ', output_format='pandas')\n",
    "#data, meta_data = ts.get_intraday(symbol='CINEVISTA',interval='1min', outputsize='full')\n",
    "data, meta_data = ts.get_intraday(symbol='AFL',interval='1min', outputsize='full')\n",
    "pprint(data.head(2))"
   ]
  },
  {
   "cell_type": "code",
   "execution_count": null,
   "metadata": {
    "collapsed": true
   },
   "outputs": [],
   "source": [
    "data"
   ]
  },
  {
   "cell_type": "code",
   "execution_count": null,
   "metadata": {
    "collapsed": true
   },
   "outputs": [],
   "source": []
  }
 ],
 "metadata": {
  "kernelspec": {
   "display_name": "Python 3",
   "language": "python",
   "name": "python3"
  },
  "language_info": {
   "codemirror_mode": {
    "name": "ipython",
    "version": 3
   },
   "file_extension": ".py",
   "mimetype": "text/x-python",
   "name": "python",
   "nbconvert_exporter": "python",
   "pygments_lexer": "ipython3",
   "version": "3.6.3"
  }
 },
 "nbformat": 4,
 "nbformat_minor": 2
}
