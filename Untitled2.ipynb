{
 "cells": [
  {
   "cell_type": "code",
   "execution_count": 1,
   "metadata": {},
   "outputs": [
    {
     "name": "stderr",
     "output_type": "stream",
     "text": [
      "Using TensorFlow backend.\n"
     ]
    }
   ],
   "source": [
    "import numpy\n",
    "import matplotlib.pyplot as plt_train\n",
    "import matplotlib.pyplot as plt_test\n",
    "from pandas import read_csv\n",
    "import math\n",
    "import keras\n",
    "from keras.models import Sequential\n",
    "from keras.layers import Dense\n",
    "from keras.layers import Dropout\n",
    "from keras.layers import LSTM\n",
    "from sklearn.preprocessing import MinMaxScaler\n",
    "from sklearn.metrics import mean_squared_error\n",
    "# convert an array of values into a dataset matrix"
   ]
  },
  {
   "cell_type": "code",
   "execution_count": 2,
   "metadata": {
    "collapsed": true
   },
   "outputs": [],
   "source": [
    "def create_dataset(dataset, look_back=1):\n",
    "\tdataX, dataY = [], []\n",
    "\tfor i in range(len(dataset)-look_back-1):\n",
    "\t\ta = dataset[i:(i+look_back), 0]\n",
    "\t\tdataX.append(a)\n",
    "\t\tdataY.append(dataset[i + look_back, 0])\n",
    "\treturn numpy.array(dataX), numpy.array(dataY)\n",
    "# fix random seed for reproducibility\n",
    "numpy.random.seed(7)\n",
    "# load the dataset\n",
    "#dataframe = read_csv('international-airline-passengers.csv', usecols=[1], engine='python', skipfooter=3)\n",
    "#09_05_2017_10KRows_modified\n",
    "dataframe = read_csv('dataset/inp.csv')\n",
    "dataset = dataframe.values\n",
    "dataset = dataset.astype('float32')"
   ]
  },
  {
   "cell_type": "code",
   "execution_count": 3,
   "metadata": {},
   "outputs": [
    {
     "name": "stdout",
     "output_type": "stream",
     "text": [
      "(1098, 100)\n",
      "(471, 100)\n",
      "(1098, 1, 100)\n",
      "(471, 1, 100)\n"
     ]
    }
   ],
   "source": [
    "scaler = MinMaxScaler(feature_range=(0, 1))\n",
    "dataset = scaler.fit_transform(dataset)\n",
    "# split into train and test sets\n",
    "train_size = int(len(dataset) * 0.7)\n",
    "test_size = len(dataset) - train_size\n",
    "#print(dataset.shape)\n",
    "train, test = dataset[0:train_size,:], dataset[train_size:len(dataset),:]\n",
    "print(train.shape)\n",
    "print(test.shape)\n",
    "train = numpy.reshape(train, (train.shape[0], 1, train.shape[1]))\n",
    "test = numpy.reshape(test, (test.shape[0], 1, test.shape[1]))\n",
    "print(train.shape)\n",
    "print(test.shape)"
   ]
  },
  {
   "cell_type": "code",
   "execution_count": 4,
   "metadata": {},
   "outputs": [
    {
     "name": "stdout",
     "output_type": "stream",
     "text": [
      "(1569, 20)\n"
     ]
    }
   ],
   "source": [
    "dataframeY = read_csv('dataset/mod_out2.csv')\n",
    "datasetY = dataframeY.values\n",
    "datasetY = datasetY.astype('float32')\n",
    "datasetY = scaler.fit_transform(datasetY)\n",
    "print(datasetY.shape)"
   ]
  },
  {
   "cell_type": "code",
   "execution_count": 5,
   "metadata": {},
   "outputs": [
    {
     "name": "stdout",
     "output_type": "stream",
     "text": [
      "(1098, 20)\n",
      "(1098, 20)\n"
     ]
    }
   ],
   "source": [
    "trainY, testY = datasetY[0:train_size,:], datasetY[train_size:len(datasetY),:]\n",
    "print(trainY.shape)\n",
    "#trainY = numpy.reshape(trainY, (trainY.shape[0], 1, trainY.shape[1]))\n",
    "print(trainY.shape)\n",
    "#testY = numpy.reshape(testY, (testY.shape[0], 1, testY.shape[1]))"
   ]
  },
  {
   "cell_type": "code",
   "execution_count": 6,
   "metadata": {},
   "outputs": [
    {
     "name": "stdout",
     "output_type": "stream",
     "text": [
      "Train on 768 samples, validate on 330 samples\n",
      "Epoch 1/100\n",
      "3s - loss: 0.3106 - val_loss: 0.2159\n",
      "Epoch 2/100\n",
      "1s - loss: 0.2013 - val_loss: 0.1846\n",
      "Epoch 3/100\n",
      "1s - loss: 0.1842 - val_loss: 0.1661\n",
      "Epoch 4/100\n",
      "1s - loss: 0.1644 - val_loss: 0.1611\n",
      "Epoch 5/100\n",
      "1s - loss: 0.1578 - val_loss: 0.1504\n",
      "Epoch 6/100\n",
      "1s - loss: 0.1489 - val_loss: 0.1466\n",
      "Epoch 7/100\n",
      "1s - loss: 0.1455 - val_loss: 0.1433\n",
      "Epoch 8/100\n",
      "1s - loss: 0.1394 - val_loss: 0.1359\n",
      "Epoch 9/100\n",
      "1s - loss: 0.1343 - val_loss: 0.1316\n",
      "Epoch 10/100\n",
      "1s - loss: 0.1296 - val_loss: 0.1278\n",
      "Epoch 11/100\n",
      "1s - loss: 0.1255 - val_loss: 0.1235\n",
      "Epoch 12/100\n",
      "1s - loss: 0.1221 - val_loss: 0.1265\n",
      "Epoch 13/100\n",
      "1s - loss: 0.1201 - val_loss: 0.1164\n",
      "Epoch 14/100\n",
      "1s - loss: 0.1145 - val_loss: 0.1133\n",
      "Epoch 15/100\n",
      "1s - loss: 0.1094 - val_loss: 0.1097\n",
      "Epoch 16/100\n",
      "1s - loss: 0.1068 - val_loss: 0.1033\n",
      "Epoch 17/100\n",
      "1s - loss: 0.1063 - val_loss: 0.1052\n",
      "Epoch 18/100\n",
      "1s - loss: 0.1066 - val_loss: 0.1003\n",
      "Epoch 19/100\n",
      "1s - loss: 0.0986 - val_loss: 0.0988\n",
      "Epoch 20/100\n",
      "1s - loss: 0.0942 - val_loss: 0.0915\n",
      "Epoch 21/100\n",
      "1s - loss: 0.0901 - val_loss: 0.0875\n",
      "Epoch 22/100\n",
      "1s - loss: 0.0858 - val_loss: 0.0845\n",
      "Epoch 23/100\n",
      "1s - loss: 0.0828 - val_loss: 0.0832\n",
      "Epoch 24/100\n",
      "1s - loss: 0.0798 - val_loss: 0.0784\n",
      "Epoch 25/100\n",
      "1s - loss: 0.0762 - val_loss: 0.0742\n",
      "Epoch 26/100\n",
      "1s - loss: 0.0735 - val_loss: 0.0714\n",
      "Epoch 27/100\n",
      "1s - loss: 0.0787 - val_loss: 0.0788\n",
      "Epoch 28/100\n",
      "1s - loss: 0.0773 - val_loss: 0.0753\n",
      "Epoch 29/100\n",
      "1s - loss: 0.0699 - val_loss: 0.0685\n",
      "Epoch 30/100\n",
      "1s - loss: 0.0662 - val_loss: 0.0654\n",
      "Epoch 31/100\n",
      "1s - loss: 0.0637 - val_loss: 0.0626\n",
      "Epoch 32/100\n",
      "1s - loss: 0.0592 - val_loss: 0.0595\n",
      "Epoch 33/100\n",
      "1s - loss: 0.0604 - val_loss: 0.0605\n",
      "Epoch 34/100\n",
      "1s - loss: 0.0561 - val_loss: 0.0559\n",
      "Epoch 35/100\n",
      "1s - loss: 0.0518 - val_loss: 0.0509\n",
      "Epoch 36/100\n",
      "1s - loss: 0.0489 - val_loss: 0.0473\n",
      "Epoch 37/100\n",
      "1s - loss: 0.0460 - val_loss: 0.0489\n",
      "Epoch 38/100\n",
      "1s - loss: 0.0448 - val_loss: 0.0421\n",
      "Epoch 39/100\n",
      "1s - loss: 0.0423 - val_loss: 0.0413\n",
      "Epoch 40/100\n",
      "1s - loss: 0.0395 - val_loss: 0.0383\n",
      "Epoch 41/100\n",
      "1s - loss: 0.0373 - val_loss: 0.0408\n",
      "Epoch 42/100\n",
      "1s - loss: 0.0378 - val_loss: 0.0458\n",
      "Epoch 43/100\n",
      "1s - loss: 0.0386 - val_loss: 0.0361\n",
      "Epoch 44/100\n",
      "1s - loss: 0.0349 - val_loss: 0.0399\n",
      "Epoch 45/100\n",
      "1s - loss: 0.0355 - val_loss: 0.0322\n",
      "Epoch 46/100\n",
      "1s - loss: 0.0320 - val_loss: 0.0307\n",
      "Epoch 47/100\n",
      "1s - loss: 0.0301 - val_loss: 0.0283\n",
      "Epoch 48/100\n",
      "1s - loss: 0.0294 - val_loss: 0.0261\n",
      "Epoch 49/100\n",
      "1s - loss: 0.0282 - val_loss: 0.0271\n",
      "Epoch 50/100\n",
      "1s - loss: 0.0258 - val_loss: 0.0267\n",
      "Epoch 51/100\n",
      "1s - loss: 0.0247 - val_loss: 0.0224\n",
      "Epoch 52/100\n",
      "1s - loss: 0.0225 - val_loss: 0.0225\n",
      "Epoch 53/100\n",
      "1s - loss: 0.0213 - val_loss: 0.0215\n",
      "Epoch 54/100\n",
      "1s - loss: 0.0201 - val_loss: 0.0203\n",
      "Epoch 55/100\n",
      "1s - loss: 0.0197 - val_loss: 0.0187\n",
      "Epoch 56/100\n",
      "1s - loss: 0.0190 - val_loss: 0.0176\n",
      "Epoch 57/100\n",
      "1s - loss: 0.0198 - val_loss: 0.0200\n",
      "Epoch 58/100\n",
      "1s - loss: 0.0180 - val_loss: 0.0196\n",
      "Epoch 59/100\n",
      "1s - loss: 0.0182 - val_loss: 0.0177\n",
      "Epoch 60/100\n",
      "1s - loss: 0.0166 - val_loss: 0.0181\n",
      "Epoch 61/100\n",
      "1s - loss: 0.0165 - val_loss: 0.0142\n",
      "Epoch 62/100\n",
      "1s - loss: 0.0151 - val_loss: 0.0159\n",
      "Epoch 63/100\n",
      "1s - loss: 0.0150 - val_loss: 0.0129\n",
      "Epoch 64/100\n",
      "1s - loss: 0.0132 - val_loss: 0.0128\n",
      "Epoch 65/100\n",
      "1s - loss: 0.0122 - val_loss: 0.0113\n",
      "Epoch 66/100\n",
      "1s - loss: 0.0113 - val_loss: 0.0114\n",
      "Epoch 67/100\n",
      "1s - loss: 0.0112 - val_loss: 0.0108\n",
      "Epoch 68/100\n",
      "1s - loss: 0.0109 - val_loss: 0.0114\n",
      "Epoch 69/100\n",
      "1s - loss: 0.0102 - val_loss: 0.0098\n",
      "Epoch 70/100\n",
      "1s - loss: 0.0101 - val_loss: 0.0101\n",
      "Epoch 71/100\n",
      "1s - loss: 0.0096 - val_loss: 0.0097\n",
      "Epoch 72/100\n",
      "1s - loss: 0.0096 - val_loss: 0.0100\n",
      "Epoch 73/100\n",
      "1s - loss: 0.0092 - val_loss: 0.0093\n",
      "Epoch 74/100\n",
      "1s - loss: 0.0092 - val_loss: 0.0087\n",
      "Epoch 75/100\n",
      "1s - loss: 0.0086 - val_loss: 0.0082\n",
      "Epoch 76/100\n",
      "1s - loss: 0.0088 - val_loss: 0.0084\n",
      "Epoch 77/100\n",
      "1s - loss: 0.0079 - val_loss: 0.0091\n",
      "Epoch 78/100\n",
      "1s - loss: 0.0083 - val_loss: 0.0073\n",
      "Epoch 79/100\n",
      "1s - loss: 0.0075 - val_loss: 0.0082\n",
      "Epoch 80/100\n",
      "1s - loss: 0.0069 - val_loss: 0.0065\n",
      "Epoch 81/100\n",
      "1s - loss: 0.0062 - val_loss: 0.0063\n",
      "Epoch 82/100\n",
      "1s - loss: 0.0059 - val_loss: 0.0058\n",
      "Epoch 83/100\n",
      "1s - loss: 0.0055 - val_loss: 0.0052\n",
      "Epoch 84/100\n",
      "1s - loss: 0.0052 - val_loss: 0.0050\n",
      "Epoch 85/100\n",
      "1s - loss: 0.0049 - val_loss: 0.0057\n",
      "Epoch 86/100\n",
      "1s - loss: 0.0053 - val_loss: 0.0048\n",
      "Epoch 87/100\n",
      "1s - loss: 0.0046 - val_loss: 0.0046\n",
      "Epoch 88/100\n",
      "1s - loss: 0.0044 - val_loss: 0.0042\n",
      "Epoch 89/100\n",
      "1s - loss: 0.0040 - val_loss: 0.0041\n",
      "Epoch 90/100\n",
      "1s - loss: 0.0040 - val_loss: 0.0040\n",
      "Epoch 91/100\n",
      "1s - loss: 0.0038 - val_loss: 0.0038\n",
      "Epoch 92/100\n",
      "1s - loss: 0.0037 - val_loss: 0.0036\n",
      "Epoch 93/100\n",
      "1s - loss: 0.0039 - val_loss: 0.0040\n",
      "Epoch 94/100\n",
      "1s - loss: 0.0044 - val_loss: 0.0049\n",
      "Epoch 95/100\n",
      "1s - loss: 0.0043 - val_loss: 0.0036\n",
      "Epoch 96/100\n",
      "1s - loss: 0.0036 - val_loss: 0.0050\n",
      "Epoch 97/100\n",
      "1s - loss: 0.0044 - val_loss: 0.0031\n",
      "Epoch 98/100\n",
      "1s - loss: 0.0039 - val_loss: 0.0032\n",
      "Epoch 99/100\n",
      "1s - loss: 0.0033 - val_loss: 0.0035\n",
      "Epoch 100/100\n",
      "1s - loss: 0.0031 - val_loss: 0.0026\n"
     ]
    },
    {
     "data": {
      "text/plain": [
       "<keras.callbacks.History at 0x7f1266560450>"
      ]
     },
     "execution_count": 6,
     "metadata": {},
     "output_type": "execute_result"
    }
   ],
   "source": [
    "model = Sequential()\n",
    "model.add(LSTM(1000, input_shape=(1, 100)))\n",
    "keras.layers.Dropout(0.2, noise_shape=None, seed=None)\n",
    "model.add(Dense(500))\n",
    "keras.layers.Dropout(0.2, noise_shape=None, seed=None)\n",
    "model.add(Dense(50))\n",
    "keras.layers.Dropout(0.2, noise_shape=None, seed=None)\n",
    "model.add(Dense(20))\n",
    "model.compile(loss='mean_squared_error', optimizer='adam')\n",
    "model.fit(train, trainY, epochs=100, batch_size=200, verbose=2, validation_split=0.3)"
   ]
  },
  {
   "cell_type": "code",
   "execution_count": 7,
   "metadata": {
    "collapsed": true
   },
   "outputs": [],
   "source": [
    "trainPredict = model.predict(train)\n",
    "model1= Sequential()\n",
    "model1=model"
   ]
  },
  {
   "cell_type": "code",
   "execution_count": 8,
   "metadata": {},
   "outputs": [
    {
     "name": "stdout",
     "output_type": "stream",
     "text": [
      "[[ 0.28747895  0.12096583 -0.02523562 ...,  1.13034046  0.9277457\n",
      "   0.99318618]\n",
      " [ 0.32694164  0.3475087   0.38375172 ...,  0.03116089  0.03978587\n",
      "   0.02113865]\n",
      " [ 0.02053059 -0.05017298  0.02481131 ...,  0.34931755  0.33069956\n",
      "   0.36415336]\n",
      " ..., \n",
      " [ 0.1511596   0.89119309  0.98015279 ...,  0.38463476  1.01425385\n",
      "   0.93794525]\n",
      " [ 0.28894123  0.40016884  0.89897251 ...,  0.90591854  1.00556028\n",
      "   0.94455993]\n",
      " [ 0.3207657   0.37849778  0.31961071 ...,  0.26299831  0.34657872\n",
      "   0.34240219]]\n",
      "[[ 0.93874741  1.07300985  1.02173042 ...,  1.01976216  1.0954814\n",
      "   0.98512137]\n",
      " [ 0.92527628  1.00172615  0.98525661 ...,  0.84296966  0.86522293\n",
      "   0.93188387]\n",
      " [ 0.33012491  0.23592663  0.00686404 ...,  0.32343674  0.25385568\n",
      "   0.92679209]\n",
      " ..., \n",
      " [ 0.98788089  0.91495085  0.34607521 ...,  0.32647461  1.03497267\n",
      "   0.93632084]\n",
      " [ 0.07210099 -0.1029842   0.33109093 ...,  0.34555775  0.04609833\n",
      "   0.04475884]\n",
      " [ 0.91995448  0.96920282  1.03267145 ...,  1.03734243  0.91713029\n",
      "   0.36958688]]\n"
     ]
    }
   ],
   "source": [
    "#keras.layers.Dropout(0.2, noise_shape=None, seed=None)\n",
    "#model.add(Dense(50))\n",
    "model=model1\n",
    "model.add(Dropout(0.2, noise_shape=None, seed=None))\n",
    "#model.add(Dense(20))\n",
    "testPredict = model.predict(test)\n",
    "print(trainPredict)\n",
    "print(testPredict)\n",
    "# invert predictions\n",
    "trainPredict = scaler.inverse_transform(trainPredict)\n",
    "trainY = scaler.inverse_transform(trainY)\n",
    "testPredict = scaler.inverse_transform(testPredict)\n",
    "testY = scaler.inverse_transform(testY)\n",
    "# calculate root mean squared error\n",
    "#trainScore = math.sqrt(mean_squared_error(trainY[0], trainPredict[:,0]))"
   ]
  },
  {
   "cell_type": "code",
   "execution_count": 9,
   "metadata": {},
   "outputs": [
    {
     "name": "stdout",
     "output_type": "stream",
     "text": [
      "(20,)\n",
      "Train Score: 9.01 RMSE\n",
      "Test Score: 11.14 RMSE\n"
     ]
    }
   ],
   "source": [
    "print(testPredict[1].shape)\n",
    "trainScore = math.sqrt(mean_squared_error(trainY[0], trainPredict[0]))\n",
    "print('Train Score: %.2f RMSE' % (trainScore))\n",
    "testScore = math.sqrt(mean_squared_error(testY[1], testPredict[1]))\n",
    "print('Test Score: %.2f RMSE' % (testScore))"
   ]
  },
  {
   "cell_type": "code",
   "execution_count": 10,
   "metadata": {},
   "outputs": [
    {
     "data": {
      "image/png": "[encoded data removed]",
      "text/plain": [
       "<matplotlib.figure.Figure at 0x7f12a9d40d50>"
      ]
     },
     "metadata": {},
     "output_type": "display_data"
    }
   ],
   "source": [
    "plt_test.plot(testY[2])\n",
    "plt_test.show()"
   ]
  },
  {
   "cell_type": "code",
   "execution_count": 32,
   "metadata": {},
   "outputs": [
    {
     "data": {
      "image/png": "[encoded data removed]",
      "text/plain": [
       "<matplotlib.figure.Figure at 0x7f57091fa990>"
      ]
     },
     "metadata": {},
     "output_type": "display_data"
    },
    {
     "name": "stdout",
     "output_type": "stream",
     "text": [
      "[  64.97283173   72.37969971   31.52658272   70.33828735   68.40068054\n",
      "   75.99504089   65.79493713   58.17560196   77.2859726    56.37796783\n",
      "   73.68177032  148.57258606  155.3321991   155.40776062  143.55395508\n",
      "   71.94438934   76.85101318   70.21341705   70.84664917  150.62020874]\n"
     ]
    }
   ],
   "source": [
    "plt_test.plot(testPredict[2])\n",
    "plt_test.show()\n",
    "print(testPredict[2])"
   ]
  },
  {
   "cell_type": "code",
   "execution_count": null,
   "metadata": {
    "collapsed": true
   },
   "outputs": [],
   "source": []
  }
 ],
 "metadata": {
  "kernelspec": {
   "display_name": "Python 3",
   "language": "python",
   "name": "python3"
  },
  "language_info": {
   "codemirror_mode": {
    "name": "ipython",
    "version": 3
   },
   "file_extension": ".py",
   "mimetype": "text/x-python",
   "name": "python",
   "nbconvert_exporter": "python",
   "pygments_lexer": "ipython3",
   "version": "3.6.5"
  }
 },
 "nbformat": 4,
 "nbformat_minor": 2
}
