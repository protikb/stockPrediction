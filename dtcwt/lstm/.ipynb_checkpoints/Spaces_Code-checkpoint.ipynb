{
 "cells": [
  {
   "cell_type": "code",
   "execution_count": 49,
   "metadata": {
    "collapsed": true
   },
   "outputs": [],
   "source": [
    "from matplotlib import pyplot as plt\n",
    "import numpy as np\n",
    "import dtcwt\n",
    "import copy \n",
    "   "
   ]
  },
  {
   "cell_type": "code",
   "execution_count": 266,
   "metadata": {
    "collapsed": true
   },
   "outputs": [],
   "source": [
    "# Generate a 300x2 array of a random walk\n",
    "vecs = 10*np.cumsum(np.random.rand(120,1) - 0.5, 0) "
   ]
  },
  {
   "cell_type": "code",
   "execution_count": 138,
   "metadata": {
    "collapsed": true
   },
   "outputs": [],
   "source": [
    "# 1D transform, 5 levels\n",
    "transform = dtcwt.Transform1d()\n",
    "vecs_t = transform.forward(vecs, nlevels=6)"
   ]
  },
  {
   "cell_type": "code",
   "execution_count": 215,
   "metadata": {
    "collapsed": true
   },
   "outputs": [],
   "source": [
    "def remove_comp(x):\n",
    "    \n",
    "    '''\n",
    "    x: input signal\n",
    "    '''\n",
    "    for jj in range(len(x)):\n",
    "        x[jj] = 0  \n",
    "        \n",
    "    return x     \n",
    "   "
   ]
  },
  {
   "cell_type": "code",
   "execution_count": 214,
   "metadata": {
    "collapsed": true
   },
   "outputs": [],
   "source": [
    "# Second order Decomposition\n",
    "\n",
    "def second_layer_forward_recons(x,nlevels,rm):\n",
    "    \n",
    "    '''\n",
    "    x: input signal\n",
    "    nlevels: decomposition scales\n",
    "    rm: idx of components to be removed\n",
    "    \n",
    "    '''\n",
    "    ph = np.angle(x)\n",
    "    x = abs(x)\n",
    "    if len(x)%2!=0:\n",
    "        z = np.zeros((1, 1), x.dtype)\n",
    "        x = np.concatenate((x, z),0)\n",
    "\n",
    "    transform = dtcwt.Transform1d()\n",
    "    vecs_t = transform.forward(x, nlevels)\n",
    "    \n",
    "    for ii in range(len(rm)):\n",
    "        remove_comp(vecs_t.highpasses[ii])\n",
    "    \n",
    "    vecs_recon = transform.inverse(vecs_t)\n",
    "    \n",
    "    for jj in range(len(ph)):\n",
    "        x[jj] =  np.multiply(vecs_recon[jj],ph[jj])\n",
    "    \n",
    "    return x\n",
    "        "
   ]
  },
  {
   "cell_type": "code",
   "execution_count": 267,
   "metadata": {
    "collapsed": true
   },
   "outputs": [],
   "source": [
    "transform = dtcwt.Transform1d()\n",
    "nlevels = 6\n",
    "vecs_t = transform.forward(vecs, nlevels)\n",
    "\n",
    "# Make Copies\n",
    "vecs_h1 = copy.deepcopy(vecs_t)\n",
    "vecs_h2 = copy.deepcopy(vecs_t)\n",
    "\n",
    "X0_0 = second_layer_forward_recons(vecs_h1.highpasses[0],5,[0])\n",
    "X0_1 = second_layer_forward_recons(vecs_h1.highpasses[0],5,[0,1])\n",
    "X0_2 = second_layer_forward_recons(vecs_h1.highpasses[0],5,[0,1,2])\n",
    "X0_3 = second_layer_forward_recons(vecs_h1.highpasses[0],5,[0,1,2,3])\n",
    "\n",
    "X1_0 = second_layer_forward_recons(vecs_h1.highpasses[1],4,[0])\n",
    "X1_1 = second_layer_forward_recons(vecs_h1.highpasses[1],4,[0,1])\n",
    "X1_2 = second_layer_forward_recons(vecs_h1.highpasses[1],4,[0,1,2])\n",
    "\n",
    "X2_0 = second_layer_forward_recons(vecs_h1.highpasses[2],3,[0])\n",
    "X2_1 = second_layer_forward_recons(vecs_h1.highpasses[2],3,[0,1])\n",
    "\n",
    "X3_0 = second_layer_forward_recons(vecs_h1.highpasses[3],2,[0])\n",
    "\n",
    "# First Layer Reconstruction with removal\n",
    "\n",
    "for jj in range(len(vecs_h1.highpasses[0])):\n",
    "    vecs_t.highpasses[0][jj] =  0\n",
    "\n",
    "vecs_L11 = transform.inverse(vecs_t)  \n",
    "\n",
    "for jj in range(len(vecs_t.highpasses[1])):\n",
    "    vecs_t.highpasses[1][jj] =  0\n",
    "\n",
    "vecs_L12 = transform.inverse(vecs_t)  \n",
    "\n",
    "for jj in range(len(vecs_t.highpasses[2])):\n",
    "    vecs_t.highpasses[2][jj] =  0\n",
    "\n",
    "vecs_L13 = transform.inverse(vecs_t)\n",
    "\n",
    "for jj in range(len(vecs_t.highpasses[3])):\n",
    "    vecs_t.highpasses[3][jj] =  0\n",
    "\n",
    "vecs_L14 = transform.inverse(vecs_t)\n",
    "\n",
    "for jj in range(len(vecs_h2.highpasses[0])):\n",
    "    vecs_h2.highpasses[0][jj] =  0\n",
    "    \n",
    "for jj in range(len(vecs_h2.highpasses[2])):\n",
    "    vecs_h2.highpasses[2][jj] =  0\n",
    "\n",
    "vecs_L15 = transform.inverse(vecs_h2)  \n",
    "\n",
    "print len(X0_0)\n",
    "print len(X0_0)\n",
    "print len(X0_0)\n",
    "print len(X0_0)\n",
    "print len(vecs_h1.highpasses[0])\n",
    "# Second Layer Reconstruction with removal\n",
    "\n",
    "for jj in range(len(vecs_h1.highpasses[0])):\n",
    "    vecs_h1.highpasses[0][jj] =  X0_0[jj]\n",
    "\n",
    "    \n",
    "vecs_L21 = transform.inverse(vecs_h1)    \n",
    "\n",
    "\n",
    "for jj in range(len(vecs_h1.highpasses[1])):\n",
    "    vecs_h1.highpasses[1][jj] =  X1_0[jj]\n",
    "\n",
    "    \n",
    "vecs_L22 = transform.inverse(vecs_h1)   \n",
    "\n",
    "\n",
    "for jj in range(len(vecs_h1.highpasses[2])):\n",
    "    vecs_h1.highpasses[2][jj] = X2_0[jj]\n",
    "\n",
    "    \n",
    "vecs_L23 = transform.inverse(vecs_h1)   \n",
    "\n",
    "\n",
    "for jj in range(len(vecs_h1.highpasses[3])):\n",
    "    vecs_h1.highpasses[3][jj] = X3_0[jj]\n",
    "\n",
    "    \n",
    "vecs_L24 = transform.inverse(vecs_h1)   \n",
    "\n"
   ]
  },
  {
   "cell_type": "code",
   "execution_count": 268,
   "metadata": {
    "collapsed": false,
    "scrolled": false
   },
   "outputs": [
    {
     "data": {
      "image/png": "[encoded data removed]",
      "text/plain": [
       "<matplotlib.figure.Figure at 0x1221eaba8>"
      ]
     },
     "metadata": {},
     "output_type": "display_data"
    }
   ],
   "source": [
    "plt.subplot(2, 5, 1)\n",
    "plt.title('Input')\n",
    "plt.plot(vecs)\n",
    "\n",
    "# Show the component removed\n",
    "plt.subplot(2, 5, 2)\n",
    "plt.plot(vecs_L11)\n",
    "\n",
    "plt.subplot(2, 5, 3)\n",
    "plt.plot(vecs_L12)\n",
    "\n",
    "plt.subplot(2, 5, 4)\n",
    "plt.plot(vecs_L13)\n",
    "\n",
    "plt.subplot(2, 5, 5)\n",
    "plt.plot(vecs_L14)\n",
    "\n",
    "plt.subplot(2, 5, 6)\n",
    "plt.plot(vecs_L15)\n",
    "\n",
    "plt.subplot(2, 5, 7)\n",
    "plt.plot(vecs_L21)\n",
    "\n",
    "plt.subplot(2, 5, 8)\n",
    "plt.plot(vecs_L22)\n",
    "\n",
    "plt.subplot(2, 5, 9)\n",
    "plt.plot(vecs_L23)\n",
    "\n",
    "plt.subplot(2, 5, 10)\n",
    "plt.plot(vecs_L24)\n",
    "\n",
    "plt.show()"
   ]
  },
  {
   "cell_type": "code",
   "execution_count": null,
   "metadata": {
    "collapsed": true
   },
   "outputs": [],
   "source": []
  }
 ],
 "metadata": {
  "anaconda-cloud": {},
  "kernelspec": {
   "display_name": "Python 3",
   "language": "python",
   "name": "python3"
  },
  "language_info": {
   "codemirror_mode": {
    "name": "ipython",
    "version": 3
   },
   "file_extension": ".py",
   "mimetype": "text/x-python",
   "name": "python",
   "nbconvert_exporter": "python",
   "pygments_lexer": "ipython3",
   "version": "3.5.3"
  }
 },
 "nbformat": 4,
 "nbformat_minor": 2
}
