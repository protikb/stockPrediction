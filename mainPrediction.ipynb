{
 "cells": [
  {
   "cell_type": "code",
   "execution_count": 4,
   "metadata": {},
   "outputs": [],
   "source": [
    "import numpy\n",
    "import matplotlib.pyplot as plt_train\n",
    "import matplotlib.pyplot as plt_test\n",
    "from pandas import read_csv\n",
    "import math\n",
    "import keras\n",
    "from keras.models import Sequential\n",
    "from keras.layers import Dense\n",
    "from keras.layers import Dropout\n",
    "from keras.layers import LSTM\n",
    "from sklearn.preprocessing import MinMaxScaler\n",
    "from sklearn.metrics import mean_squared_error\n",
    "import os\n",
    "from keras.models import model_from_json\n",
    "# convert an array of values into a dataset matrix"
   ]
  },
  {
   "cell_type": "code",
   "execution_count": 5,
   "metadata": {},
   "outputs": [
    {
     "name": "stdout",
     "output_type": "stream",
     "text": [
      "(4607, 100)\n"
     ]
    }
   ],
   "source": [
    "dataframe = read_csv('inputMod.csv')\n",
    "dataset = dataframe.values\n",
    "dataset = dataset.astype('float32')\n",
    "#dataset = numpy.reshape(dataset,(1948,1))\n",
    "print(dataset.shape)"
   ]
  },
  {
   "cell_type": "code",
   "execution_count": 6,
   "metadata": {},
   "outputs": [],
   "source": [
    "predIndex=20"
   ]
  },
  {
   "cell_type": "code",
   "execution_count": 7,
   "metadata": {},
   "outputs": [],
   "source": [
    "scaler = MinMaxScaler(feature_range=(0, 1))\n",
    "dataset = scaler.fit_transform(dataset)"
   ]
  },
  {
   "cell_type": "code",
   "execution_count": 8,
   "metadata": {},
   "outputs": [
    {
     "name": "stdout",
     "output_type": "stream",
     "text": [
      "3224\n",
      "1383\n",
      "(3224, 100)\n",
      "(1381, 100)\n"
     ]
    }
   ],
   "source": [
    "# split into train and test sets\n",
    "train_size = int(len(dataset) * 0.7)\n",
    "test_size = len(dataset) - train_size\n",
    "print(train_size)\n",
    "print(test_size)\n",
    "#print(dataset.shape)\n",
    "train, test = dataset[0:train_size,:], dataset[train_size+predIndex:train_size+predIndex+1,:]\n",
    "test = dataset[train_size+1:4606,:]\n",
    "#train, test = dataset[0:train_size,:], dataset[]\n",
    "print(train.shape)\n",
    "print(test.shape)"
   ]
  },
  {
   "cell_type": "code",
   "execution_count": 9,
   "metadata": {},
   "outputs": [
    {
     "name": "stdout",
     "output_type": "stream",
     "text": [
      "(3224, 1, 100)\n",
      "(1381, 1, 100)\n"
     ]
    }
   ],
   "source": [
    "train = numpy.reshape(train, (train.shape[0], 1, train.shape[1]))\n",
    "test = numpy.reshape(test, (test.shape[0], 1, test.shape[1]))\n",
    "print(train.shape)\n",
    "print(test.shape)"
   ]
  },
  {
   "cell_type": "code",
   "execution_count": 10,
   "metadata": {},
   "outputs": [
    {
     "name": "stdout",
     "output_type": "stream",
     "text": [
      "(4607, 50)\n"
     ]
    }
   ],
   "source": [
    "dataframeY = read_csv('outputMod.csv')\n",
    "datasetY = dataframeY.values\n",
    "datasetY = datasetY.astype('float32')\n",
    "print(datasetY.shape)"
   ]
  },
  {
   "cell_type": "code",
   "execution_count": 11,
   "metadata": {},
   "outputs": [
    {
     "name": "stdout",
     "output_type": "stream",
     "text": [
      "(4607, 50)\n"
     ]
    }
   ],
   "source": [
    "datasetY = scaler.fit_transform(datasetY)\n",
    "print(datasetY.shape)"
   ]
  },
  {
   "cell_type": "code",
   "execution_count": 12,
   "metadata": {},
   "outputs": [
    {
     "name": "stdout",
     "output_type": "stream",
     "text": [
      "(3224, 50)\n",
      "(1, 50)\n"
     ]
    }
   ],
   "source": [
    "trainY, testY = datasetY[0:train_size,:], datasetY[train_size:len(datasetY),:]\n",
    "testY = datasetY[train_size+predIndex:train_size+predIndex+1,:]\n",
    "print(trainY.shape)\n",
    "#trainY = numpy.reshape(trainY, (trainY.shape[0], 1, trainY.shape[1]))\n",
    "print(testY.shape)\n",
    "#testY = numpy.reshape(testY, (testY.shape[0], 1, testY.shape[1]))"
   ]
  },
  {
   "cell_type": "code",
   "execution_count": 13,
   "metadata": {},
   "outputs": [],
   "source": [
    "pred=[[0]*50]*5 # for 50 points and 20 forward passes"
   ]
  },
  {
   "cell_type": "code",
   "execution_count": null,
   "metadata": {},
   "outputs": [],
   "source": [
    "json_file = open('model.json', 'r')\n",
    "loaded_model_json = json_file.read()\n",
    "json_file.close()\n",
    "loaded_model = model_from_json(loaded_model_json)\n",
    "# load weights into new model\n",
    "loaded_model.load_weights(\"trainedModel.h5\")\n",
    "print(\"Loaded model from disk\")"
   ]
  },
  {
   "cell_type": "code",
   "execution_count": null,
   "metadata": {},
   "outputs": [],
   "source": [
    "print(loaded_model.layers)"
   ]
  },
  {
   "cell_type": "code",
   "execution_count": null,
   "metadata": {},
   "outputs": [],
   "source": []
  },
  {
   "cell_type": "code",
   "execution_count": 20,
   "metadata": {},
   "outputs": [
    {
     "name": "stdout",
     "output_type": "stream",
     "text": [
      "Train Score: 0.02 RMSE\n",
      "Test Score: 0.17 RMSE\n",
      "Train Score: 0.02 RMSE\n",
      "Test Score: 0.17 RMSE\n",
      "Train Score: 0.02 RMSE\n",
      "Test Score: 0.17 RMSE\n",
      "Train Score: 0.02 RMSE\n",
      "Test Score: 0.17 RMSE\n",
      "Train Score: 0.02 RMSE\n",
      "Test Score: 0.17 RMSE\n"
     ]
    }
   ],
   "source": [
    "for i in range(5):\n",
    "    \n",
    "    json_file = open('model.json', 'r')\n",
    "    loaded_model_json = json_file.read()\n",
    "    json_file.close()\n",
    "    loaded_model = model_from_json(loaded_model_json)\n",
    "    # load weights into new model\n",
    "    loaded_model.load_weights(\"trainedModel.h5\")\n",
    "    \n",
    "    trainPredict = loaded_model.predict(train)\n",
    "    #keras.layers.Dropout(0.2, noise_shape=None, seed=None)\n",
    "    #model.add(Dense(50))\n",
    "    \n",
    "    model=loaded_model\n",
    "    model.add(Dropout(0.2, noise_shape=None, seed=None))\n",
    "    #model.add(Dense(50))\n",
    "    testPredict = model.predict(test)\n",
    "    #print(trainPredict)\n",
    "    #print(testPredict)\n",
    "    # invert predictions\n",
    "    \n",
    "    temptrainPredict = scaler.inverse_transform(trainPredict)\n",
    "    temptrainY = scaler.inverse_transform(trainY)\n",
    "    temptestPredict = scaler.inverse_transform(testPredict)\n",
    "    temptestY = scaler.inverse_transform(testY)\n",
    "    #trainScore = math.sqrt(mean_squared_error(temptrainY[0], temptrainPredict[0]))\n",
    "    trainScore = math.sqrt(mean_squared_error(trainY[0], trainPredict[0]))\n",
    "    print('Train Score: %.2f RMSE' % (trainScore))\n",
    "    #testScore = math.sqrt(mean_squared_error(temptestY[0], temptestPredict[0]))\n",
    "    testScore = math.sqrt(mean_squared_error(testY[0], testPredict[0]))\n",
    "    print('Test Score: %.2f RMSE' % (testScore))\n",
    "\n",
    "    pred[i]=temptestPredict[0]"
   ]
  },
  {
   "cell_type": "code",
   "execution_count": 22,
   "metadata": {},
   "outputs": [
    {
     "name": "stdout",
     "output_type": "stream",
     "text": [
      "[71.63785  71.90429  71.892075 71.73278  72.14598  71.883255 71.950966\n",
      " 72.04417  72.05689  72.29545  71.97128  72.11547  72.15263  71.732666\n",
      " 72.02462  71.982666 71.94965  72.07357  72.344215 72.19872  72.44403\n",
      " 72.17369  72.165596 72.509026 72.33038  72.32277  72.191505 72.27759\n",
      " 72.25237  72.22617  72.373024 72.07946  72.27627  72.489    72.69805\n",
      " 72.437904 72.4871   72.25875  72.52726  72.334915 72.243195 72.2205\n",
      " 72.11727  71.8562   72.270454 72.158295 71.92824  72.52846  72.85785\n",
      " 72.25927 ]\n",
      "[0. 0. 0. 0. 0. 0. 0. 0. 0. 0. 0. 0. 0. 0. 0. 0. 0. 0. 0. 0. 0. 0. 0. 0.\n",
      " 0. 0. 0. 0. 0. 0. 0. 0. 0. 0. 0. 0. 0. 0. 0. 0. 0. 0. 0. 0. 0. 0. 0. 0.\n",
      " 0. 0.]\n"
     ]
    }
   ],
   "source": [
    "m = numpy.mean(pred,axis=0)\n",
    "st = numpy.std(pred,axis=0)\n",
    "print(m)\n",
    "print(st)"
   ]
  },
  {
   "cell_type": "code",
   "execution_count": null,
   "metadata": {},
   "outputs": [],
   "source": [
    "print(testPredict)"
   ]
  },
  {
   "cell_type": "code",
   "execution_count": null,
   "metadata": {},
   "outputs": [],
   "source": []
  },
  {
   "cell_type": "code",
   "execution_count": 23,
   "metadata": {},
   "outputs": [
    {
     "data": {
      "image/png": "[encoded data removed]",
      "text/plain": [
       "<Figure size 432x288 with 1 Axes>"
      ]
     },
     "metadata": {},
     "output_type": "display_data"
    },
    {
     "name": "stdout",
     "output_type": "stream",
     "text": [
      "[71.63785  71.90429  71.892075 71.73278  72.14598  71.883255 71.950966\n",
      " 72.04417  72.05689  72.29545  71.97128  72.11547  72.15263  71.732666\n",
      " 72.02462  71.982666 71.94965  72.07357  72.344215 72.19872  72.44403\n",
      " 72.17369  72.165596 72.509026 72.33038  72.32277  72.191505 72.27759\n",
      " 72.25237  72.22617  72.373024 72.07946  72.27627  72.489    72.69805\n",
      " 72.437904 72.4871   72.25875  72.52726  72.334915 72.243195 72.2205\n",
      " 72.11727  71.8562   72.270454 72.158295 71.92824  72.52846  72.85785\n",
      " 72.25927 ]\n",
      "[72.07325  71.946976 71.96946  72.07616  71.75228  71.754425 71.78902\n",
      " 72.32869  71.97477  71.59256  71.91277  72.19629  71.84162  71.660675\n",
      " 71.72573  72.21265  72.00918  72.5738   72.43025  72.264275 72.029205\n",
      " 72.24068  72.18419  72.62526  72.315315 72.34468  72.21684  72.367\n",
      " 71.95438  71.74139  71.92026  71.66308  72.19201  72.50069  72.74026\n",
      " 72.06481  72.47024  72.58091  72.50085  72.430244 72.47287  72.08666\n",
      " 72.300964 72.245605 72.62316  72.15423  72.14134  71.98026  72.43111\n",
      " 72.27012 ]\n",
      "(50,)\n"
     ]
    }
   ],
   "source": [
    "m = numpy.mean(pred,axis=0)\n",
    "#print(m)\n",
    "plt_test.plot(m)\n",
    "plt_test.plot(temptestY[0])\n",
    "plt_test.show()\n",
    "print(m)\n",
    "print(temptestY[0])\n",
    "print(m.shape)"
   ]
  },
  {
   "cell_type": "code",
   "execution_count": null,
   "metadata": {},
   "outputs": [],
   "source": [
    "st = numpy.std(pred,axis=0)\n",
    "#print(st)\n",
    "plt_test.plot(0,0.07,st)\n",
    "\n",
    "plt_test.xlabel('datapoints')\n",
    "plt_test.ylabel('standard deviation')\n",
    "#plt_test.show()\n",
    "plt_test.grid('True')\n",
    "plt_test.savefig('sd1.png')\n",
    "print(st)"
   ]
  },
  {
   "cell_type": "code",
   "execution_count": null,
   "metadata": {},
   "outputs": [],
   "source": [
    "plt_test.plot(temptestY[0])\n",
    "plt_test.show()\n",
    "print(temptestY[0])"
   ]
  },
  {
   "cell_type": "code",
   "execution_count": null,
   "metadata": {},
   "outputs": [],
   "source": [
    "print(temptestY[0].mean())\n",
    "m.mean()"
   ]
  },
  {
   "cell_type": "code",
   "execution_count": null,
   "metadata": {},
   "outputs": [],
   "source": [
    "modPred = testY[0]"
   ]
  },
  {
   "cell_type": "code",
   "execution_count": null,
   "metadata": {},
   "outputs": [],
   "source": [
    "modPred=[]\n",
    "if temptestY[predIndex].mean() > m.mean():\n",
    "    offset = temptestY[predIndex].mean() - m.mean()\n",
    "else:\n",
    "    offset = -(temptestY[predIndex].mean() - m.mean())\n",
    "for i in m:\n",
    "    data=i+offset\n",
    "    modPred.append(data)"
   ]
  },
  {
   "cell_type": "code",
   "execution_count": null,
   "metadata": {},
   "outputs": [],
   "source": [
    "import matplotlib.pyplot as plt\n",
    "axes = plt.gca()\n",
    "axes.set_xlim([0,20])\n",
    "#axes.set_ylim([0,10])\n",
    "#plt.text(10,5.8,r'Red = Predictions, Blue = Actual Data')\n",
    "plt.xlabel('datapoints')\n",
    "plt.ylabel('stock value')\n",
    "plt.plot(modPred,'r')\n",
    "plt.plot(temptestY[0],'b')\n",
    "plt_test.grid('True')\n",
    "#plt_test.show()\n",
    "plt.savefig('S&P5002.png')"
   ]
  },
  {
   "cell_type": "code",
   "execution_count": null,
   "metadata": {},
   "outputs": [],
   "source": [
    "\n",
    "#statrting the scatternet part\n",
    "\n",
    "a=temptestY[predIndex]\n",
    "print(a)"
   ]
  },
  {
   "cell_type": "code",
   "execution_count": null,
   "metadata": {},
   "outputs": [],
   "source": [
    "\n",
    "#loading modules for scatternet\n",
    "\n",
    "from matplotlib import pyplot as plt\n",
    "import numpy as np\n",
    "import dtcwt\n",
    "import copy \n",
    "import numpy\n",
    "import matplotlib.pyplot as plt_train\n",
    "import matplotlib.pyplot as plt_test\n",
    "from pandas import read_csv\n",
    "import math\n",
    "import keras\n",
    "from keras.models import Sequential\n",
    "from keras.layers import Dense\n",
    "from keras.layers import Dropout\n",
    "from keras.layers import LSTM\n",
    "from sklearn.preprocessing import MinMaxScaler\n",
    "from sklearn.metrics import mean_squared_error\n",
    "import os\n",
    "from keras.models import model_from_json\n",
    "\n",
    "\n",
    "vecs=a\n",
    "print(vecs.shape)\n",
    "# 1D transform, 5 levels\n",
    "transform = dtcwt.Transform1d()\n",
    "vecs_t = transform.forward(vecs, nlevels=4)\n",
    "#print vecs_t\n",
    "# Make Copies\n",
    "vecs_t1 = copy.deepcopy(vecs_t)\n",
    "vecs_t2 = copy.deepcopy(vecs_t)\n",
    "vecs_t3 = copy.deepcopy(vecs_t)\n",
    "vecs_t4 = copy.deepcopy(vecs_t)\n",
    "vecs_t5 = copy.deepcopy(vecs_t)\n",
    "\n",
    "\n",
    "\n",
    "\n",
    "\n"
   ]
  },
  {
   "cell_type": "code",
   "execution_count": null,
   "metadata": {},
   "outputs": [],
   "source": [
    "#different types of recombinations\n",
    "\n",
    "vecs_recon = transform.inverse(vecs_t)\n",
    "\n",
    "# Inverse with first component removed\n",
    "for jj in range(len(vecs_t1.highpasses[0])):\n",
    "    vecs_t1.highpasses[0][jj] = 0     \n",
    "\n",
    "vecs_recon1 = transform.inverse(vecs_t1)\n",
    "\n",
    "# Inverse with first and second component removed\n",
    "for jj in range(len(vecs_t1.highpasses[1])):\n",
    "    vecs_t1.highpasses[1][jj] = 0 \n",
    "\n",
    "vecs_recon2 = transform.inverse(vecs_t1)\n",
    "\n",
    "# Inverse with first, second and third component removed\n",
    "for jj in range(len(vecs_t1.highpasses[2])):\n",
    "    vecs_t1.highpasses[2][jj] = 0 \n",
    "\n",
    "vecs_recon3 = transform.inverse(vecs_t1)\n",
    "\n",
    "# Inverse with first, second, third and fourth component removed\n",
    "#for jj in range(len(vecs_t1.highpasses[3])):\n",
    "#    vecs_t1.highpasses[3][jj] = 0 \n",
    "\n",
    "#vecs_recon4 = transform.inverse(vecs_t1)\n",
    "vecs_recon4 = vecs_recon3\n",
    "# Inverse with first, second, third, fourth and fifth component removed\n",
    "#for jj in range(len(vecs_t1.highpasses[4])):\n",
    "#    vecs_t1.highpasses[4][jj] = 0 \n",
    "\n",
    "#vecs_recon5 = transform.inverse(vecs_t1)\n",
    "\n"
   ]
  },
  {
   "cell_type": "code",
   "execution_count": null,
   "metadata": {},
   "outputs": [],
   "source": [
    "#different types of recombinations\n",
    "\n",
    "\n",
    "\n",
    "vecs_recon = transform.inverse(vecs_t)\n",
    "\n",
    "# Inverse with first component removed\n",
    "for jj in range(len(vecs_t1.highpasses[0])):\n",
    "    vecs_t1.highpasses[0][jj] = 0     \n",
    "\n",
    "vecs_recon1 = transform.inverse(vecs_t1)\n",
    "\n",
    "# Inverse with first and second component removed\n",
    "for jj in range(len(vecs_t1.highpasses[1])):\n",
    "    vecs_t1.highpasses[1][jj] = 0 \n",
    "\n",
    "vecs_recon2 = transform.inverse(vecs_t1)\n",
    "\n",
    "# Inverse with first, second and third component removed\n",
    "for jj in range(len(vecs_t1.highpasses[2])):\n",
    "    vecs_t1.highpasses[2][jj] = 0 \n",
    "\n",
    "vecs_recon3 = transform.inverse(vecs_t1)\n",
    "\n",
    "# Inverse with first, second, third and fourth component removed\n",
    "for jj in range(len(vecs_t1.highpasses[3])):\n",
    "    vecs_t1.highpasses[3][jj] = 0 \n",
    "\n",
    "vecs_recon4 = transform.inverse(vecs_t1)\n",
    "\n",
    "# Inverse with first, second, third, fourth and fifth component removed\n",
    "#for jj in range(len(vecs_t1.highpasses[4])):\n",
    "#    vecs_t1.highpasses[4][jj] = 0 \n",
    "\n",
    "#vecs_recon5 = transform.inverse(vecs_t1)\n",
    "\n",
    "\n",
    "\n"
   ]
  },
  {
   "cell_type": "code",
   "execution_count": null,
   "metadata": {},
   "outputs": [],
   "source": [
    "#to get plot for scatternet output only\n",
    "\n",
    "\n",
    "import matplotlib.pyplot as plt\n",
    "axes = plt.gca()\n",
    "axes.set_xlim([0,50])\n",
    "plt.xlabel('datapoints')\n",
    "plt.ylabel('stock value')\n",
    "plt.plot(vecs_recon4,'g')\n",
    "plt_test.grid('True')\n",
    "#plt_test.show()\n",
    "plt.savefig('ni4.png')"
   ]
  },
  {
   "cell_type": "code",
   "execution_count": null,
   "metadata": {},
   "outputs": [],
   "source": [
    "#to get scatternet output and plus minus 2 sigma output\n",
    "\n",
    "ca = vecs_recon4+2*st\n",
    "cb = vecs_recon4-2*st\n",
    "import matplotlib.pyplot as plt\n",
    "axes = plt.gca()\n",
    "axes.set_xlim([0,50])\n",
    "#axes.set_ylim([0,10])\n",
    "plt.text(20,71.8,r'Green = Predictions with on j[1,2,3]=0')\n",
    "plt.text(15,71.7,r'Blue = minus 2*sigma, Red= plus 2*sigma')\n",
    "plt.xlabel('datapoints')\n",
    "plt.ylabel('stock value')\n",
    "plt.plot(vecs_recon4,'g')\n",
    "plt.plot(ca,'r')\n",
    "plt.plot(cb,'b')\n",
    "plt_test.grid('True')\n",
    "#plt_test.show()\n",
    "plt.savefig('nr4.png')\n",
    "#print(vecs_recon)\n",
    "#print(ca)"
   ]
  },
  {
   "cell_type": "code",
   "execution_count": null,
   "metadata": {},
   "outputs": [],
   "source": []
  },
  {
   "cell_type": "code",
   "execution_count": null,
   "metadata": {},
   "outputs": [],
   "source": []
  },
  {
   "cell_type": "code",
   "execution_count": null,
   "metadata": {},
   "outputs": [],
   "source": []
  },
  {
   "cell_type": "code",
   "execution_count": null,
   "metadata": {},
   "outputs": [],
   "source": []
  },
  {
   "cell_type": "code",
   "execution_count": null,
   "metadata": {},
   "outputs": [],
   "source": []
  },
  {
   "cell_type": "code",
   "execution_count": null,
   "metadata": {},
   "outputs": [],
   "source": []
  }
 ],
 "metadata": {
  "kernelspec": {
   "display_name": "Python 3",
   "language": "python",
   "name": "python3"
  },
  "language_info": {
   "codemirror_mode": {
    "name": "ipython",
    "version": 3
   },
   "file_extension": ".py",
   "mimetype": "text/x-python",
   "name": "python",
   "nbconvert_exporter": "python",
   "pygments_lexer": "ipython3",
   "version": "3.6.5"
  }
 },
 "nbformat": 4,
 "nbformat_minor": 2
}
