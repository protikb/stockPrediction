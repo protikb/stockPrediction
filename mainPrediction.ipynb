{
 "cells": [
  {
   "cell_type": "code",
   "execution_count": 1,
   "metadata": {},
   "outputs": [
    {
     "name": "stderr",
     "output_type": "stream",
     "text": [
      "/anaconda3/lib/python3.6/site-packages/h5py/__init__.py:36: FutureWarning: Conversion of the second argument of issubdtype from `float` to `np.floating` is deprecated. In future, it will be treated as `np.float64 == np.dtype(float).type`.\n",
      "  from ._conv import register_converters as _register_converters\n",
      "Using TensorFlow backend.\n"
     ]
    }
   ],
   "source": [
    "import numpy\n",
    "import matplotlib.pyplot as plt_train\n",
    "import matplotlib.pyplot as plt_test\n",
    "from pandas import read_csv\n",
    "import math\n",
    "import keras\n",
    "from keras.models import Sequential\n",
    "from keras.layers import Dense\n",
    "from keras.layers import Dropout\n",
    "from keras.layers import LSTM\n",
    "from sklearn.preprocessing import MinMaxScaler\n",
    "from sklearn.metrics import mean_squared_error\n",
    "import os\n",
    "from keras.models import model_from_json\n",
    "# convert an array of values into a dataset matrix"
   ]
  },
  {
   "cell_type": "code",
   "execution_count": 2,
   "metadata": {},
   "outputs": [
    {
     "name": "stdout",
     "output_type": "stream",
     "text": [
      "(1151, 100)\n"
     ]
    }
   ],
   "source": [
    "dataframe = read_csv('inputMod.csv')\n",
    "dataset = dataframe.values\n",
    "dataset = dataset.astype('float32')\n",
    "#dataset = numpy.reshape(dataset,(1948,1))\n",
    "print(dataset.shape)"
   ]
  },
  {
   "cell_type": "code",
   "execution_count": 3,
   "metadata": {},
   "outputs": [],
   "source": [
    "predIndex=40"
   ]
  },
  {
   "cell_type": "code",
   "execution_count": 4,
   "metadata": {},
   "outputs": [
    {
     "name": "stdout",
     "output_type": "stream",
     "text": [
      "(805, 100)\n",
      "(1, 100)\n",
      "(805, 1, 100)\n",
      "(1, 1, 100)\n"
     ]
    }
   ],
   "source": [
    "scaler = MinMaxScaler(feature_range=(0, 1))\n",
    "dataset = scaler.fit_transform(dataset)\n",
    "# split into train and test sets\n",
    "train_size = int(len(dataset) * 0.7)\n",
    "test_size = len(dataset) - train_size\n",
    "#print(dataset.shape)\n",
    "train, test = dataset[0:train_size,:], dataset[train_size+predIndex:train_size+predIndex+1,:]\n",
    "print(train.shape)\n",
    "print(test.shape)\n",
    "train = numpy.reshape(train, (train.shape[0], 1, train.shape[1]))\n",
    "test = numpy.reshape(test, (test.shape[0], 1, test.shape[1]))\n",
    "print(train.shape)\n",
    "print(test.shape)"
   ]
  },
  {
   "cell_type": "code",
   "execution_count": 5,
   "metadata": {},
   "outputs": [
    {
     "name": "stdout",
     "output_type": "stream",
     "text": [
      "(1151, 20)\n"
     ]
    }
   ],
   "source": [
    "dataframeY = read_csv('outputMod.csv')\n",
    "datasetY = dataframeY.values\n",
    "datasetY = datasetY.astype('float32')\n",
    "datasetY = scaler.fit_transform(datasetY)\n",
    "print(datasetY.shape)"
   ]
  },
  {
   "cell_type": "code",
   "execution_count": 6,
   "metadata": {},
   "outputs": [
    {
     "name": "stdout",
     "output_type": "stream",
     "text": [
      "(805, 20)\n",
      "(805, 20)\n"
     ]
    }
   ],
   "source": [
    "trainY, testY = datasetY[0:train_size,:], datasetY[train_size:len(datasetY),:]\n",
    "print(trainY.shape)\n",
    "#trainY = numpy.reshape(trainY, (trainY.shape[0], 1, trainY.shape[1]))\n",
    "print(trainY.shape)\n",
    "#testY = numpy.reshape(testY, (testY.shape[0], 1, testY.shape[1]))"
   ]
  },
  {
   "cell_type": "code",
   "execution_count": 7,
   "metadata": {},
   "outputs": [],
   "source": [
    "pred=[[0]*20]*20"
   ]
  },
  {
   "cell_type": "code",
   "execution_count": 8,
   "metadata": {},
   "outputs": [
    {
     "name": "stdout",
     "output_type": "stream",
     "text": [
      "Train Score: 0.61 RMSE\n",
      "Test Score: 0.61 RMSE\n",
      "Train Score: 0.62 RMSE\n",
      "Test Score: 0.62 RMSE\n",
      "Train Score: 0.59 RMSE\n",
      "Test Score: 0.59 RMSE\n",
      "Train Score: 0.61 RMSE\n",
      "Test Score: 0.61 RMSE\n",
      "Train Score: 0.59 RMSE\n",
      "Test Score: 0.58 RMSE\n",
      "Train Score: 0.60 RMSE\n",
      "Test Score: 0.59 RMSE\n",
      "Train Score: 0.61 RMSE\n",
      "Test Score: 0.62 RMSE\n",
      "Train Score: 0.60 RMSE\n",
      "Test Score: 0.61 RMSE\n",
      "Train Score: 0.61 RMSE\n",
      "Test Score: 0.61 RMSE\n",
      "Train Score: 0.59 RMSE\n",
      "Test Score: 0.58 RMSE\n",
      "Train Score: 0.61 RMSE\n",
      "Test Score: 0.61 RMSE\n",
      "Train Score: 0.62 RMSE\n",
      "Test Score: 0.61 RMSE\n",
      "Train Score: 0.60 RMSE\n",
      "Test Score: 0.60 RMSE\n",
      "Train Score: 0.57 RMSE\n",
      "Test Score: 0.57 RMSE\n",
      "Train Score: 0.61 RMSE\n",
      "Test Score: 0.61 RMSE\n",
      "Train Score: 0.60 RMSE\n",
      "Test Score: 0.60 RMSE\n",
      "Train Score: 0.60 RMSE\n",
      "Test Score: 0.60 RMSE\n",
      "Train Score: 0.59 RMSE\n",
      "Test Score: 0.58 RMSE\n",
      "Train Score: 0.62 RMSE\n",
      "Test Score: 0.62 RMSE\n",
      "Train Score: 0.60 RMSE\n",
      "Test Score: 0.60 RMSE\n"
     ]
    }
   ],
   "source": [
    "for i in range(20):\n",
    "    \n",
    "    json_file = open('model.json', 'r')\n",
    "    loaded_model_json = json_file.read()\n",
    "    json_file.close()\n",
    "    loaded_model = model_from_json(loaded_model_json)\n",
    "    \n",
    "    trainPredict = loaded_model.predict(train)\n",
    "    #keras.layers.Dropout(0.2, noise_shape=None, seed=None)\n",
    "    #model.add(Dense(50))\n",
    "    \n",
    "    model=loaded_model\n",
    "    model.add(Dropout(0.2, noise_shape=None, seed=None))\n",
    "    #model.add(Dense(20))\n",
    "    testPredict = model.predict(test)\n",
    "    #print(trainPredict)\n",
    "    #print(testPredict)\n",
    "    # invert predictions\n",
    "    \n",
    "    temptrainPredict = scaler.inverse_transform(trainPredict)\n",
    "    temptrainY = scaler.inverse_transform(trainY)\n",
    "    temptestPredict = scaler.inverse_transform(testPredict)\n",
    "    temptestY = scaler.inverse_transform(testY)\n",
    "    trainScore = math.sqrt(mean_squared_error(temptrainY[0], temptrainPredict[0]))\n",
    "    \n",
    "    print('Train Score: %.2f RMSE' % (trainScore))\n",
    "    testScore = math.sqrt(mean_squared_error(temptestY[0], temptestPredict[0]))\n",
    "    print('Test Score: %.2f RMSE' % (testScore))\n",
    "\n",
    "    pred[i]=temptestPredict[0]"
   ]
  },
  {
   "cell_type": "code",
   "execution_count": 14,
   "metadata": {},
   "outputs": [
    {
     "data": {
      "image/png": "[encoded data removed]",
      "text/plain": [
       "<Figure size 432x288 with 1 Axes>"
      ]
     },
     "metadata": {},
     "output_type": "display_data"
    }
   ],
   "source": [
    "m = numpy.mean(pred,axis=0)\n",
    "#print(m)\n",
    "plt_test.plot(m)\n",
    "plt_test.show()"
   ]
  },
  {
   "cell_type": "code",
   "execution_count": 15,
   "metadata": {},
   "outputs": [
    {
     "data": {
      "image/png": "[encoded data removed]",
      "text/plain": [
       "<Figure size 432x288 with 1 Axes>"
      ]
     },
     "metadata": {},
     "output_type": "display_data"
    }
   ],
   "source": [
    "st = numpy.std(pred,axis=0)\n",
    "#print(st)\n",
    "plt_test.plot(st)\n",
    "plt_test.show()"
   ]
  },
  {
   "cell_type": "code",
   "execution_count": null,
   "metadata": {},
   "outputs": [],
   "source": []
  }
 ],
 "metadata": {
  "kernelspec": {
   "display_name": "Python 3",
   "language": "python",
   "name": "python3"
  },
  "language_info": {
   "codemirror_mode": {
    "name": "ipython",
    "version": 3
   },
   "file_extension": ".py",
   "mimetype": "text/x-python",
   "name": "python",
   "nbconvert_exporter": "python",
   "pygments_lexer": "ipython3",
   "version": "3.6.5"
  }
 },
 "nbformat": 4,
 "nbformat_minor": 2
}
