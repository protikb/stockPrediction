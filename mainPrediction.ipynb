{
 "cells": [
  {
   "cell_type": "code",
   "execution_count": 15,
   "metadata": {},
   "outputs": [],
   "source": [
    "import numpy\n",
    "import matplotlib.pyplot as plt_train\n",
    "import matplotlib.pyplot as plt_test\n",
    "from pandas import read_csv\n",
    "import math\n",
    "import keras\n",
    "from keras.models import Sequential\n",
    "from keras.layers import Dense\n",
    "from keras.layers import Dropout\n",
    "from keras.layers import LSTM\n",
    "from sklearn.preprocessing import MinMaxScaler\n",
    "from sklearn.metrics import mean_squared_error\n",
    "import os\n",
    "from keras.models import model_from_json\n",
    "# convert an array of values into a dataset matrix"
   ]
  },
  {
   "cell_type": "code",
   "execution_count": 16,
   "metadata": {},
   "outputs": [
    {
     "name": "stdout",
     "output_type": "stream",
     "text": [
      "(18431, 100)\n"
     ]
    }
   ],
   "source": [
    "dataframe = read_csv('inputMod.csv')\n",
    "dataset = dataframe.values\n",
    "dataset = dataset.astype('float32')\n",
    "#dataset = numpy.reshape(dataset,(1948,1))\n",
    "print(dataset.shape)"
   ]
  },
  {
   "cell_type": "code",
   "execution_count": 17,
   "metadata": {},
   "outputs": [],
   "source": [
    "predIndex=20"
   ]
  },
  {
   "cell_type": "code",
   "execution_count": 18,
   "metadata": {},
   "outputs": [
    {
     "name": "stdout",
     "output_type": "stream",
     "text": [
      "(12901, 100)\n",
      "(1, 100)\n",
      "(12901, 1, 100)\n",
      "(1, 1, 100)\n"
     ]
    }
   ],
   "source": [
    "scaler = MinMaxScaler(feature_range=(0, 1))\n",
    "dataset = scaler.fit_transform(dataset)\n",
    "# split into train and test sets\n",
    "train_size = int(len(dataset) * 0.7)\n",
    "test_size = len(dataset) - train_size\n",
    "#print(dataset.shape)\n",
    "train, test = dataset[0:train_size,:], dataset[train_size+predIndex:train_size+predIndex+1,:]\n",
    "print(train.shape)\n",
    "print(test.shape)\n",
    "train = numpy.reshape(train, (train.shape[0], 1, train.shape[1]))\n",
    "test = numpy.reshape(test, (test.shape[0], 1, test.shape[1]))\n",
    "print(train.shape)\n",
    "print(test.shape)"
   ]
  },
  {
   "cell_type": "code",
   "execution_count": 19,
   "metadata": {},
   "outputs": [
    {
     "name": "stdout",
     "output_type": "stream",
     "text": [
      "(18431, 50)\n"
     ]
    }
   ],
   "source": [
    "dataframeY = read_csv('outputMod.csv')\n",
    "datasetY = dataframeY.values\n",
    "datasetY = datasetY.astype('float32')\n",
    "datasetY = scaler.fit_transform(datasetY)\n",
    "print(datasetY.shape)"
   ]
  },
  {
   "cell_type": "code",
   "execution_count": 20,
   "metadata": {},
   "outputs": [
    {
     "name": "stdout",
     "output_type": "stream",
     "text": [
      "(12901, 50)\n",
      "(12901, 50)\n"
     ]
    }
   ],
   "source": [
    "trainY, testY = datasetY[0:train_size,:], datasetY[train_size:len(datasetY),:]\n",
    "print(trainY.shape)\n",
    "#trainY = numpy.reshape(trainY, (trainY.shape[0], 1, trainY.shape[1]))\n",
    "print(trainY.shape)\n",
    "#testY = numpy.reshape(testY, (testY.shape[0], 1, testY.shape[1]))"
   ]
  },
  {
   "cell_type": "code",
   "execution_count": 21,
   "metadata": {},
   "outputs": [],
   "source": [
    "pred=[[0]*50]*20 # for 50 points and 20 forward passes"
   ]
  },
  {
   "cell_type": "code",
   "execution_count": 22,
   "metadata": {},
   "outputs": [],
   "source": [
    "json_f = open('model.json','r')\n",
    "loaded_m = json_f.read()\n",
    "json_f.close()\n",
    "loaded_mod = model_from_json(loaded_m)"
   ]
  },
  {
   "cell_type": "code",
   "execution_count": 23,
   "metadata": {},
   "outputs": [
    {
     "name": "stdout",
     "output_type": "stream",
     "text": [
      "[<keras.layers.recurrent.LSTM object at 0x1a4ee27358>, <keras.layers.core.Dense object at 0x1a4ee27ba8>, <keras.layers.core.Dense object at 0x1a4ee279e8>]\n"
     ]
    }
   ],
   "source": [
    "print(loaded_mod.layers)"
   ]
  },
  {
   "cell_type": "code",
   "execution_count": null,
   "metadata": {},
   "outputs": [],
   "source": []
  },
  {
   "cell_type": "code",
   "execution_count": 24,
   "metadata": {},
   "outputs": [
    {
     "name": "stdout",
     "output_type": "stream",
     "text": [
      "Train Score: 0.95 RMSE\n",
      "Test Score: 1.01 RMSE\n",
      "Train Score: 0.94 RMSE\n",
      "Test Score: 1.00 RMSE\n",
      "Train Score: 0.96 RMSE\n",
      "Test Score: 1.02 RMSE\n",
      "Train Score: 0.95 RMSE\n",
      "Test Score: 1.01 RMSE\n",
      "Train Score: 0.94 RMSE\n",
      "Test Score: 1.00 RMSE\n",
      "Train Score: 0.92 RMSE\n",
      "Test Score: 0.99 RMSE\n",
      "Train Score: 0.96 RMSE\n",
      "Test Score: 1.02 RMSE\n",
      "Train Score: 0.94 RMSE\n",
      "Test Score: 1.01 RMSE\n",
      "Train Score: 0.94 RMSE\n",
      "Test Score: 1.00 RMSE\n",
      "Train Score: 0.95 RMSE\n",
      "Test Score: 1.01 RMSE\n",
      "Train Score: 0.96 RMSE\n",
      "Test Score: 1.02 RMSE\n",
      "Train Score: 0.94 RMSE\n",
      "Test Score: 1.00 RMSE\n",
      "Train Score: 0.95 RMSE\n",
      "Test Score: 1.03 RMSE\n",
      "Train Score: 0.95 RMSE\n",
      "Test Score: 1.01 RMSE\n",
      "Train Score: 0.95 RMSE\n",
      "Test Score: 1.01 RMSE\n",
      "Train Score: 0.95 RMSE\n",
      "Test Score: 1.02 RMSE\n",
      "Train Score: 0.93 RMSE\n",
      "Test Score: 0.99 RMSE\n",
      "Train Score: 0.95 RMSE\n",
      "Test Score: 1.00 RMSE\n",
      "Train Score: 0.94 RMSE\n",
      "Test Score: 1.00 RMSE\n",
      "Train Score: 0.94 RMSE\n",
      "Test Score: 1.01 RMSE\n"
     ]
    }
   ],
   "source": [
    "for i in range(20):\n",
    "    \n",
    "    json_file = open('model.json', 'r')\n",
    "    loaded_model_json = json_file.read()\n",
    "    json_file.close()\n",
    "    loaded_model = model_from_json(loaded_model_json)\n",
    "    \n",
    "    trainPredict = loaded_model.predict(train)\n",
    "    #keras.layers.Dropout(0.2, noise_shape=None, seed=None)\n",
    "    #model.add(Dense(50))\n",
    "    \n",
    "    model=loaded_model\n",
    "    model.add(Dropout(0.4, noise_shape=None, seed=None))\n",
    "    #model.add(Dense(20))\n",
    "    testPredict = model.predict(test)\n",
    "    #print(trainPredict)\n",
    "    #print(testPredict)\n",
    "    # invert predictions\n",
    "    \n",
    "    temptrainPredict = scaler.inverse_transform(trainPredict)\n",
    "    temptrainY = scaler.inverse_transform(trainY)\n",
    "    temptestPredict = scaler.inverse_transform(testPredict)\n",
    "    temptestY = scaler.inverse_transform(testY)\n",
    "    trainScore = math.sqrt(mean_squared_error(temptrainY[0], temptrainPredict[0]))\n",
    "    \n",
    "    print('Train Score: %.2f RMSE' % (trainScore))\n",
    "    testScore = math.sqrt(mean_squared_error(temptestY[0], temptestPredict[0]))\n",
    "    print('Test Score: %.2f RMSE' % (testScore))\n",
    "\n",
    "    pred[i]=temptestPredict[0]"
   ]
  },
  {
   "cell_type": "code",
   "execution_count": 25,
   "metadata": {},
   "outputs": [
    {
     "data": {
      "image/png": "[encoded data removed]",
      "text/plain": [
       "<Figure size 432x288 with 1 Axes>"
      ]
     },
     "metadata": {},
     "output_type": "display_data"
    },
    {
     "name": "stdout",
     "output_type": "stream",
     "text": [
      "[70.99948  71.059586 70.985    71.00066  71.06593  70.88536  71.02825\n",
      " 71.07998  70.99978  71.05174  71.066574 71.02236  71.03871  71.18736\n",
      " 71.037766 71.04367  71.29923  71.25157  71.294685 71.33874  71.15264\n",
      " 71.51732  71.46964  71.34828  71.23222  71.3638   71.317245 71.26264\n",
      " 71.15701  71.14292  71.09382  71.223114 71.418594 71.486496 71.37687\n",
      " 71.35289  71.4348   71.6024   71.48697  71.37794  71.50554  71.535194\n",
      " 71.38881  71.39908  71.28578  71.35411  71.42464  71.27321  71.28035\n",
      " 71.44431 ]\n",
      "(50,)\n"
     ]
    }
   ],
   "source": [
    "m = numpy.mean(pred,axis=0)\n",
    "#print(m)\n",
    "plt_test.plot(m)\n",
    "plt_test.show()\n",
    "print(m)\n",
    "print(m.shape)"
   ]
  },
  {
   "cell_type": "code",
   "execution_count": 26,
   "metadata": {},
   "outputs": [
    {
     "name": "stdout",
     "output_type": "stream",
     "text": [
      "[0.07935141 0.07294908 0.08466674 0.06626531 0.09591334 0.09256894\n",
      " 0.08536352 0.06897981 0.0738652  0.09016246 0.07671265 0.09513739\n",
      " 0.09533301 0.10168104 0.08988038 0.0711856  0.088476   0.0871323\n",
      " 0.08783507 0.08407614 0.08636557 0.09722681 0.08236407 0.08122623\n",
      " 0.08164777 0.08602782 0.07315259 0.06898974 0.0723924  0.09156675\n",
      " 0.09316848 0.08415782 0.05340698 0.07775623 0.06361523 0.09749299\n",
      " 0.07459389 0.07282633 0.09974212 0.06938375 0.08897939 0.09079612\n",
      " 0.07232232 0.08079503 0.10146425 0.08833234 0.07299828 0.09784479\n",
      " 0.07040376 0.10832971]\n"
     ]
    },
    {
     "name": "stderr",
     "output_type": "stream",
     "text": [
      "/anaconda3/lib/python3.6/site-packages/matplotlib/cbook/deprecation.py:107: MatplotlibDeprecationWarning: Passing one of 'on', 'true', 'off', 'false' as a boolean is deprecated; use an actual boolean (True/False) instead.\n",
      "  warnings.warn(message, mplDeprecation, stacklevel=1)\n"
     ]
    },
    {
     "data": {
      "image/png": "[encoded data removed]",
      "text/plain": [
       "<Figure size 432x288 with 1 Axes>"
      ]
     },
     "metadata": {},
     "output_type": "display_data"
    }
   ],
   "source": [
    "st = numpy.std(pred,axis=0)\n",
    "#print(st)\n",
    "plt_test.plot(0,0.07,st)\n",
    "\n",
    "plt_test.xlabel('datapoints')\n",
    "plt_test.ylabel('standard deviation')\n",
    "#plt_test.show()\n",
    "plt_test.grid('True')\n",
    "plt_test.savefig('sd1.png')\n",
    "print(st)"
   ]
  },
  {
   "cell_type": "code",
   "execution_count": 27,
   "metadata": {},
   "outputs": [
    {
     "data": {
      "image/png": "[encoded data removed]",
      "text/plain": [
       "<Figure size 432x288 with 1 Axes>"
      ]
     },
     "metadata": {},
     "output_type": "display_data"
    },
    {
     "name": "stdout",
     "output_type": "stream",
     "text": [
      "[71.568436 72.05694  72.144585 72.0733   72.09944  72.00899  72.150986\n",
      " 72.059166 72.065216 72.204216 72.16346  72.07431  72.01825  72.312096\n",
      " 71.99759  72.3137   72.52372  72.05319  72.59667  71.72821  71.9437\n",
      " 72.55721  72.33761  72.384    72.375984 72.8528   72.12057  72.270226\n",
      " 72.21813  72.08576  72.36619  71.53702  72.12326  71.99883  72.281746\n",
      " 72.25464  72.61653  72.57466  72.39117  71.951675 72.34316  72.59623\n",
      " 72.58036  72.316345 72.70955  72.4838   72.0584   72.083855 72.17332\n",
      " 72.48489 ]\n"
     ]
    }
   ],
   "source": [
    "plt_test.plot(temptestY[predIndex])\n",
    "plt_test.show()\n",
    "print(temptestY[predIndex])"
   ]
  },
  {
   "cell_type": "code",
   "execution_count": 28,
   "metadata": {},
   "outputs": [
    {
     "data": {
      "text/plain": [
       "71.2489"
      ]
     },
     "execution_count": 28,
     "metadata": {},
     "output_type": "execute_result"
    }
   ],
   "source": [
    "temptestY[predIndex].mean()\n",
    "m.mean()"
   ]
  },
  {
   "cell_type": "code",
   "execution_count": 29,
   "metadata": {},
   "outputs": [],
   "source": [
    "modPred=[]\n",
    "if temptestY[predIndex].mean() > m.mean():\n",
    "    offset = temptestY[predIndex].mean() - m.mean()\n",
    "else:\n",
    "    offset = -(temptestY[predIndex].mean() - m.mean())\n",
    "for i in m:\n",
    "    data=i+offset\n",
    "    modPred.append(data)"
   ]
  },
  {
   "cell_type": "code",
   "execution_count": 30,
   "metadata": {},
   "outputs": [
    {
     "name": "stderr",
     "output_type": "stream",
     "text": [
      "/anaconda3/lib/python3.6/site-packages/matplotlib/cbook/deprecation.py:107: MatplotlibDeprecationWarning: Passing one of 'on', 'true', 'off', 'false' as a boolean is deprecated; use an actual boolean (True/False) instead.\n",
      "  warnings.warn(message, mplDeprecation, stacklevel=1)\n"
     ]
    },
    {
     "data": {
      "image/png": "[encoded data removed]",
      "text/plain": [
       "<Figure size 432x288 with 1 Axes>"
      ]
     },
     "metadata": {},
     "output_type": "display_data"
    }
   ],
   "source": [
    "import matplotlib.pyplot as plt\n",
    "axes = plt.gca()\n",
    "axes.set_xlim([0,20])\n",
    "#axes.set_ylim([0,10])\n",
    "#plt.text(10,5.8,r'Red = Predictions, Blue = Actual Data')\n",
    "plt.xlabel('datapoints')\n",
    "plt.ylabel('stock value')\n",
    "plt.plot(modPred,'r')\n",
    "plt.plot(temptestY[predIndex],'b')\n",
    "plt_test.grid('True')\n",
    "#plt_test.show()\n",
    "plt.savefig('S&P5002.png')"
   ]
  },
  {
   "cell_type": "code",
   "execution_count": 31,
   "metadata": {},
   "outputs": [
    {
     "name": "stdout",
     "output_type": "stream",
     "text": [
      "[71.568436 72.05694  72.144585 72.0733   72.09944  72.00899  72.150986\n",
      " 72.059166 72.065216 72.204216 72.16346  72.07431  72.01825  72.312096\n",
      " 71.99759  72.3137   72.52372  72.05319  72.59667  71.72821  71.9437\n",
      " 72.55721  72.33761  72.384    72.375984 72.8528   72.12057  72.270226\n",
      " 72.21813  72.08576  72.36619  71.53702  72.12326  71.99883  72.281746\n",
      " 72.25464  72.61653  72.57466  72.39117  71.951675 72.34316  72.59623\n",
      " 72.58036  72.316345 72.70955  72.4838   72.0584   72.083855 72.17332\n",
      " 72.48489 ]\n"
     ]
    }
   ],
   "source": [
    "\n",
    "#statrting the scatternet part\n",
    "\n",
    "a=temptestY[predIndex]\n",
    "print(a)"
   ]
  },
  {
   "cell_type": "code",
   "execution_count": 109,
   "metadata": {},
   "outputs": [],
   "source": [
    "\n",
    "#loading modules for scatternet\n",
    "\n",
    "from matplotlib import pyplot as plt\n",
    "import numpy as np\n",
    "import dtcwt\n",
    "import copy \n",
    "import numpy\n",
    "import matplotlib.pyplot as plt_train\n",
    "import matplotlib.pyplot as plt_test\n",
    "from pandas import read_csv\n",
    "import math\n",
    "import keras\n",
    "from keras.models import Sequential\n",
    "from keras.layers import Dense\n",
    "from keras.layers import Dropout\n",
    "from keras.layers import LSTM\n",
    "from sklearn.preprocessing import MinMaxScaler\n",
    "from sklearn.metrics import mean_squared_error\n",
    "import os\n",
    "from keras.models import model_from_json\n",
    "\n",
    "\n",
    "vecs=a\n",
    "print(vecs.shape)\n",
    "# 1D transform, 5 levels\n",
    "transform = dtcwt.Transform1d()\n",
    "vecs_t = transform.forward(vecs, nlevels=4)\n",
    "#print vecs_t\n",
    "# Make Copies\n",
    "vecs_t1 = copy.deepcopy(vecs_t)\n",
    "vecs_t2 = copy.deepcopy(vecs_t)\n",
    "vecs_t3 = copy.deepcopy(vecs_t)\n",
    "vecs_t4 = copy.deepcopy(vecs_t)\n",
    "vecs_t5 = copy.deepcopy(vecs_t)\n",
    "\n",
    "\n",
    "\n",
    "\n",
    "\n"
   ]
  },
  {
   "cell_type": "code",
   "execution_count": 116,
   "metadata": {},
   "outputs": [
    {
     "name": "stdout",
     "output_type": "stream",
     "text": [
      "(50,)\n"
     ]
    }
   ],
   "source": [
    "#different types of recombinations\n",
    "\n",
    "vecs_recon = transform.inverse(vecs_t)\n",
    "\n",
    "# Inverse with first component removed\n",
    "for jj in range(len(vecs_t1.highpasses[0])):\n",
    "    vecs_t1.highpasses[0][jj] = 0     \n",
    "\n",
    "vecs_recon1 = transform.inverse(vecs_t1)\n",
    "\n",
    "# Inverse with first and second component removed\n",
    "for jj in range(len(vecs_t1.highpasses[1])):\n",
    "    vecs_t1.highpasses[1][jj] = 0 \n",
    "\n",
    "vecs_recon2 = transform.inverse(vecs_t1)\n",
    "\n",
    "# Inverse with first, second and third component removed\n",
    "for jj in range(len(vecs_t1.highpasses[2])):\n",
    "    vecs_t1.highpasses[2][jj] = 0 \n",
    "\n",
    "vecs_recon3 = transform.inverse(vecs_t1)\n",
    "\n",
    "# Inverse with first, second, third and fourth component removed\n",
    "#for jj in range(len(vecs_t1.highpasses[3])):\n",
    "#    vecs_t1.highpasses[3][jj] = 0 \n",
    "\n",
    "#vecs_recon4 = transform.inverse(vecs_t1)\n",
    "vecs_recon4 = vecs_recon3\n",
    "# Inverse with first, second, third, fourth and fifth component removed\n",
    "#for jj in range(len(vecs_t1.highpasses[4])):\n",
    "#    vecs_t1.highpasses[4][jj] = 0 \n",
    "\n",
    "#vecs_recon5 = transform.inverse(vecs_t1)\n",
    "\n"
   ]
  },
  {
   "cell_type": "code",
   "execution_count": 117,
   "metadata": {},
   "outputs": [],
   "source": [
    "#different types of recombinations\n",
    "\n",
    "\n",
    "\n",
    "vecs_recon = transform.inverse(vecs_t)\n",
    "\n",
    "# Inverse with first component removed\n",
    "for jj in range(len(vecs_t1.highpasses[0])):\n",
    "    vecs_t1.highpasses[0][jj] = 0     \n",
    "\n",
    "vecs_recon1 = transform.inverse(vecs_t1)\n",
    "\n",
    "# Inverse with first and second component removed\n",
    "for jj in range(len(vecs_t1.highpasses[1])):\n",
    "    vecs_t1.highpasses[1][jj] = 0 \n",
    "\n",
    "vecs_recon2 = transform.inverse(vecs_t1)\n",
    "\n",
    "# Inverse with first, second and third component removed\n",
    "for jj in range(len(vecs_t1.highpasses[2])):\n",
    "    vecs_t1.highpasses[2][jj] = 0 \n",
    "\n",
    "vecs_recon3 = transform.inverse(vecs_t1)\n",
    "\n",
    "# Inverse with first, second, third and fourth component removed\n",
    "for jj in range(len(vecs_t1.highpasses[3])):\n",
    "    vecs_t1.highpasses[3][jj] = 0 \n",
    "\n",
    "vecs_recon4 = transform.inverse(vecs_t1)\n",
    "\n",
    "# Inverse with first, second, third, fourth and fifth component removed\n",
    "#for jj in range(len(vecs_t1.highpasses[4])):\n",
    "#    vecs_t1.highpasses[4][jj] = 0 \n",
    "\n",
    "#vecs_recon5 = transform.inverse(vecs_t1)\n",
    "\n",
    "\n",
    "\n"
   ]
  },
  {
   "cell_type": "code",
   "execution_count": 68,
   "metadata": {},
   "outputs": [],
   "source": [
    "#to get plot for scatternet output only\n",
    "\n",
    "\n",
    "import matplotlib.pyplot as plt\n",
    "axes = plt.gca()\n",
    "axes.set_xlim([0,50])\n",
    "plt.xlabel('datapoints')\n",
    "plt.ylabel('stock value')\n",
    "plt.plot(vecs_recon4,'g')\n",
    "plt_test.grid('True')\n",
    "#plt_test.show()\n",
    "plt.savefig('ni4.png')"
   ]
  },
  {
   "cell_type": "code",
   "execution_count": null,
   "metadata": {},
   "outputs": [],
   "source": [
    "#to get scatternet output and plus minus 2 sigma output\n",
    "\n",
    "ca = vecs_recon4+2*st\n",
    "cb = vecs_recon4-2*st\n",
    "import matplotlib.pyplot as plt\n",
    "axes = plt.gca()\n",
    "axes.set_xlim([0,50])\n",
    "#axes.set_ylim([0,10])\n",
    "plt.text(20,71.8,r'Green = Predictions with on j[1,2,3]=0')\n",
    "plt.text(15,71.7,r'Blue = minus 2*sigma, Red= plus 2*sigma')\n",
    "plt.xlabel('datapoints')\n",
    "plt.ylabel('stock value')\n",
    "plt.plot(vecs_recon4,'g')\n",
    "plt.plot(ca,'r')\n",
    "plt.plot(cb,'b')\n",
    "plt_test.grid('True')\n",
    "#plt_test.show()\n",
    "plt.savefig('nr4.png')\n",
    "#print(vecs_recon)\n",
    "#print(ca)"
   ]
  },
  {
   "cell_type": "code",
   "execution_count": null,
   "metadata": {},
   "outputs": [],
   "source": []
  },
  {
   "cell_type": "code",
   "execution_count": null,
   "metadata": {},
   "outputs": [],
   "source": []
  },
  {
   "cell_type": "code",
   "execution_count": null,
   "metadata": {},
   "outputs": [],
   "source": []
  },
  {
   "cell_type": "code",
   "execution_count": null,
   "metadata": {},
   "outputs": [],
   "source": []
  },
  {
   "cell_type": "code",
   "execution_count": null,
   "metadata": {},
   "outputs": [],
   "source": []
  },
  {
   "cell_type": "code",
   "execution_count": null,
   "metadata": {},
   "outputs": [],
   "source": []
  }
 ],
 "metadata": {
  "kernelspec": {
   "display_name": "Python 3",
   "language": "python",
   "name": "python3"
  },
  "language_info": {
   "codemirror_mode": {
    "name": "ipython",
    "version": 3
   },
   "file_extension": ".py",
   "mimetype": "text/x-python",
   "name": "python",
   "nbconvert_exporter": "python",
   "pygments_lexer": "ipython3",
   "version": "3.6.5"
  }
 },
 "nbformat": 4,
 "nbformat_minor": 2
}
