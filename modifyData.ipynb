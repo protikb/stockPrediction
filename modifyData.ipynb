{
 "cells": [
  {
   "cell_type": "code",
   "execution_count": 14,
   "metadata": {
    "collapsed": true
   },
   "outputs": [],
   "source": [
    "import numpy \n",
    "import pandas as pd\n",
    "from pandas import read_csv\n",
    "import csv"
   ]
  },
  {
   "cell_type": "code",
   "execution_count": 15,
   "metadata": {},
   "outputs": [
    {
     "name": "stdout",
     "output_type": "stream",
     "text": [
      "(1948,)\n"
     ]
    }
   ],
   "source": [
    "dataframe = read_csv('dataset/ABIL .csv')\n",
    "dataframe = dataframe['4. close']\n",
    "dataset = dataframe.values\n",
    "dataset = dataset.astype('float32')\n",
    "print(dataset.shape)"
   ]
  },
  {
   "cell_type": "code",
   "execution_count": 26,
   "metadata": {},
   "outputs": [
    {
     "name": "stdout",
     "output_type": "stream",
     "text": [
      "[ 70.77999878  70.93000031]\n"
     ]
    }
   ],
   "source": [
    "print(dataset[0:2])"
   ]
  },
  {
   "cell_type": "code",
   "execution_count": 30,
   "metadata": {},
   "outputs": [
    {
     "name": "stdout",
     "output_type": "stream",
     "text": [
      "(19, 100)\n"
     ]
    }
   ],
   "source": []
  },
  {
   "cell_type": "code",
   "execution_count": null,
   "metadata": {},
   "outputs": [],
   "source": []
  },
  {
   "cell_type": "code",
   "execution_count": 27,
   "metadata": {},
   "outputs": [],
   "source": [
    "i=0\n",
    "for a in range (0,19):\n",
    "    rowX=dataset[i:i+100]\n",
    "    rowY=dataset[i+101:i+121]\n",
    "    with open('input.csv', 'a') as csvFileX:\n",
    "        writer = csv.writer(csvFileX)\n",
    "        writer.writerow(rowX)\n",
    "    with open('output.csv', 'a') as csvFileY:\n",
    "        writer = csv.writer(csvFileY)\n",
    "        writer.writerow(rowY)\n",
    "csvFileX.close()\n",
    "csvFileY.close()"
   ]
  },
  {
   "cell_type": "code",
   "execution_count": 29,
   "metadata": {},
   "outputs": [
    {
     "name": "stdout",
     "output_type": "stream",
     "text": [
      "(18, 20)\n"
     ]
    }
   ],
   "source": [
    "data = read_csv('output.csv')\n",
    "#data = data.values\n",
    "#data = data.astype('float32')\n",
    "print(data.shape)"
   ]
  },
  {
   "cell_type": "code",
   "execution_count": null,
   "metadata": {
    "collapsed": true
   },
   "outputs": [],
   "source": []
  }
 ],
 "metadata": {
  "kernelspec": {
   "display_name": "Python 3",
   "language": "python",
   "name": "python3"
  },
  "language_info": {
   "codemirror_mode": {
    "name": "ipython",
    "version": 3
   },
   "file_extension": ".py",
   "mimetype": "text/x-python",
   "name": "python",
   "nbconvert_exporter": "python",
   "pygments_lexer": "ipython3",
   "version": "3.6.3"
  }
 },
 "nbformat": 4,
 "nbformat_minor": 2
}
