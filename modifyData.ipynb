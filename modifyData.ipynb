{
 "cells": [
  {
   "cell_type": "code",
   "execution_count": 16,
   "metadata": {},
   "outputs": [],
   "source": [
    "#importing libraries\n",
    "import numpy \n",
    "import pandas as pd\n",
    "from pandas import read_csv\n",
    "import csv"
   ]
  },
  {
   "cell_type": "code",
   "execution_count": 17,
   "metadata": {},
   "outputs": [
    {
     "name": "stdout",
     "output_type": "stream",
     "text": [
      "(1948,)\n"
     ]
    }
   ],
   "source": [
    "#loading raw csv file\n",
    "dataframe = read_csv('dataset/ABIL .csv')\n",
    "dataframe = dataframe['4. close']\n",
    "dataset = dataframe.values\n",
    "dataset = dataset.astype('float32')\n",
    "print(dataset.shape)"
   ]
  },
  {
   "cell_type": "code",
   "execution_count": 18,
   "metadata": {},
   "outputs": [],
   "source": [
    "#dumping them in input.csv and output.csv file\n",
    "i=0\n",
    "for a in range (0,19):\n",
    "    rowX=dataset[i:i+100]\n",
    "    rowY=dataset[i+101:i+151]\n",
    "    with open('input.csv', 'a') as csvFileX:\n",
    "        writer = csv.writer(csvFileX)\n",
    "        writer.writerow(rowX)\n",
    "    with open('output.csv', 'a') as csvFileY:\n",
    "        writer = csv.writer(csvFileY)\n",
    "        writer.writerow(rowY)\n",
    "csvFileX.close()\n",
    "csvFileY.close()"
   ]
  },
  {
   "cell_type": "code",
   "execution_count": 19,
   "metadata": {},
   "outputs": [
    {
     "name": "stdout",
     "output_type": "stream",
     "text": [
      "(18, 50)\n"
     ]
    }
   ],
   "source": [
    "#loading modified files to check on them\n",
    "data = read_csv('output.csv')\n",
    "data = data.values\n",
    "data = data.astype('float32')\n",
    "print(data.shape)"
   ]
  },
  {
   "cell_type": "code",
   "execution_count": null,
   "metadata": {
    "collapsed": true
   },
   "outputs": [],
   "source": []
  },
  {
   "cell_type": "code",
   "execution_count": null,
   "metadata": {
    "collapsed": true
   },
   "outputs": [],
   "source": []
  },
  {
   "cell_type": "code",
   "execution_count": null,
   "metadata": {
    "collapsed": true
   },
   "outputs": [],
   "source": []
  },
  {
   "cell_type": "code",
   "execution_count": null,
   "metadata": {
    "collapsed": true
   },
   "outputs": [],
   "source": []
  }
 ],
 "metadata": {
  "kernelspec": {
   "display_name": "Python 3",
   "language": "python",
   "name": "python3"
  },
  "language_info": {
   "codemirror_mode": {
    "name": "ipython",
    "version": 3
   },
   "file_extension": ".py",
   "mimetype": "text/x-python",
   "name": "python",
   "nbconvert_exporter": "python",
   "pygments_lexer": "ipython3",
   "version": "3.6.5"
  }
 },
 "nbformat": 4,
 "nbformat_minor": 2
}
